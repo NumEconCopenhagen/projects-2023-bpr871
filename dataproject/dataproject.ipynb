{
 "cells": [
  {
   "attachments": {},
   "cell_type": "markdown",
   "metadata": {},
   "source": [
    "# DATA PROJECT"
   ]
  },
  {
   "attachments": {},
   "cell_type": "markdown",
   "metadata": {},
   "source": [
    "> **Note the following:** \n",
    "> 1. This is *not* meant to be an example of an actual **data analysis project**, just an example of how to structure such a project.\n",
    "> 1. Remember the general advice on structuring and commenting your code\n",
    "> 1. The `dataproject.py` file includes a function which can be used multiple times in this notebook."
   ]
  },
  {
   "cell_type": "markdown",
   "metadata": {},
   "source": [
    "Imports and set magics:"
   ]
  },
  {
   "cell_type": "code",
   "execution_count": 1,
   "metadata": {},
   "outputs": [],
   "source": [
    "import pandas as pd\n",
    "import numpy as np\n",
    "import matplotlib.pyplot as plt\n",
    "import ipywidgets as widgets\n",
    "#from matplotlib_venn import venn2\n",
    "\n",
    "# autoreload modules when code is run\n",
    "%load_ext autoreload\n",
    "%autoreload 2\n",
    "\n",
    "# user written modules\n",
    "import dataproject\n",
    "\n",
    "# import dst data loader\n",
    "import pydst\n",
    "Dst = pydst.Dst(lang='en') \n",
    "\n",
    "\n",
    "pd.set_option('display.max_rows', None)   # show all rows\n",
    "pd.set_option('display.max_columns', None)   # show all columns\n"
   ]
  },
  {
   "cell_type": "markdown",
   "metadata": {},
   "source": [
    "# Read and clean data"
   ]
  },
  {
   "cell_type": "markdown",
   "metadata": {},
   "source": [
    "Import your data, either through an API or manually, and load it. "
   ]
  },
  {
   "cell_type": "code",
   "execution_count": 85,
   "metadata": {},
   "outputs": [],
   "source": [
    "# Data for industrial robots on industry, year for Denmark\n",
    "filename = 'ifr_dk.csv'\n",
    "df_ifr = pd.read_csv(filename, delimiter=';')\n",
    "\n",
    "# Drop obs that are not relevant (data not valid before 2004)\n",
    "drop = [str(year) for year in range(1993,2004)]\n",
    "df_ifr.drop(drop, axis=1, inplace=True)\n",
    "df_ifr = df_ifr.iloc[1:20, :]\n",
    "\n",
    "# Renaming columns\n",
    "col_dict = {}\n",
    "for i in range(2004, 2016+1): \n",
    "    col_dict[str(i)] = f'year{i}' \n",
    "    df_ifr[str(i)] = df_ifr[str(i)].apply(str)\n",
    "    #df_ifr[f'{i}year'] = df_ifr[f'{i}'].apply(str)\n",
    "col_dict['DK'] = f'BRANCHE_IFR' \n",
    "\n",
    "# Omdøber kolonner\n",
    "df_ifr.rename(columns=col_dict, inplace=True)\n",
    "\n",
    "# Transponerer med melt\n",
    "df_ifr_long = pd.melt(df_ifr, id_vars=['BRANCHE_IFR'], var_name='year', value_name='value')\n",
    "df_ifr_long['year'] = df_ifr_long['year'].str.replace('year', '').astype(int)\n"
   ]
  },
  {
   "cell_type": "code",
   "execution_count": 86,
   "metadata": {},
   "outputs": [
    {
     "data": {
      "text/html": [
       "<div>\n",
       "<style scoped>\n",
       "    .dataframe tbody tr th:only-of-type {\n",
       "        vertical-align: middle;\n",
       "    }\n",
       "\n",
       "    .dataframe tbody tr th {\n",
       "        vertical-align: top;\n",
       "    }\n",
       "\n",
       "    .dataframe thead th {\n",
       "        text-align: right;\n",
       "    }\n",
       "</style>\n",
       "<table border=\"1\" class=\"dataframe\">\n",
       "  <thead>\n",
       "    <tr style=\"text-align: right;\">\n",
       "      <th></th>\n",
       "      <th>SOCIO</th>\n",
       "      <th>TID</th>\n",
       "      <th>BRANCHE_IFR</th>\n",
       "      <th>emp_ifr</th>\n",
       "    </tr>\n",
       "  </thead>\n",
       "  <tbody>\n",
       "    <tr>\n",
       "      <th>783</th>\n",
       "      <td>Employment (number)</td>\n",
       "      <td>2004</td>\n",
       "      <td>A-B-Agriculture, forestry, fishing</td>\n",
       "      <td>79857.0</td>\n",
       "    </tr>\n",
       "    <tr>\n",
       "      <th>786</th>\n",
       "      <td>Employment (number)</td>\n",
       "      <td>2004</td>\n",
       "      <td>C-Mining and quarrying</td>\n",
       "      <td>3492.0</td>\n",
       "    </tr>\n",
       "    <tr>\n",
       "      <th>787</th>\n",
       "      <td>Employment (number)</td>\n",
       "      <td>2004</td>\n",
       "      <td>10-12-Food and beverages</td>\n",
       "      <td>69960.0</td>\n",
       "    </tr>\n",
       "    <tr>\n",
       "      <th>788</th>\n",
       "      <td>Employment (number)</td>\n",
       "      <td>2004</td>\n",
       "      <td>13-15-Textiles</td>\n",
       "      <td>9995.0</td>\n",
       "    </tr>\n",
       "    <tr>\n",
       "      <th>789</th>\n",
       "      <td>Employment (number)</td>\n",
       "      <td>2004</td>\n",
       "      <td>16-Wood and furniture</td>\n",
       "      <td>12614.0</td>\n",
       "    </tr>\n",
       "    <tr>\n",
       "      <th>790</th>\n",
       "      <td>Employment (number)</td>\n",
       "      <td>2004</td>\n",
       "      <td>17-18-Paper</td>\n",
       "      <td>20198.0</td>\n",
       "    </tr>\n",
       "    <tr>\n",
       "      <th>792</th>\n",
       "      <td>Employment (number)</td>\n",
       "      <td>2004</td>\n",
       "      <td>19-22-Plastic and chemical products</td>\n",
       "      <td>46831.0</td>\n",
       "    </tr>\n",
       "    <tr>\n",
       "      <th>796</th>\n",
       "      <td>Employment (number)</td>\n",
       "      <td>2004</td>\n",
       "      <td>23-Glass, ceramics, stone, mineral products (n...</td>\n",
       "      <td>15200.0</td>\n",
       "    </tr>\n",
       "    <tr>\n",
       "      <th>797</th>\n",
       "      <td>Employment (number)</td>\n",
       "      <td>2004</td>\n",
       "      <td>24-Basic metals</td>\n",
       "      <td>5520.0</td>\n",
       "    </tr>\n",
       "    <tr>\n",
       "      <th>798</th>\n",
       "      <td>Employment (number)</td>\n",
       "      <td>2004</td>\n",
       "      <td>25-Metal products (non-automotive)</td>\n",
       "      <td>38487.0</td>\n",
       "    </tr>\n",
       "    <tr>\n",
       "      <th>799</th>\n",
       "      <td>Employment (number)</td>\n",
       "      <td>2004</td>\n",
       "      <td>26-27-Electrical/electronics</td>\n",
       "      <td>29422.0</td>\n",
       "    </tr>\n",
       "    <tr>\n",
       "      <th>801</th>\n",
       "      <td>Employment (number)</td>\n",
       "      <td>2004</td>\n",
       "      <td>28-Industrial machinery</td>\n",
       "      <td>63927.0</td>\n",
       "    </tr>\n",
       "    <tr>\n",
       "      <th>802</th>\n",
       "      <td>Employment (number)</td>\n",
       "      <td>2004</td>\n",
       "      <td>29-Automotive</td>\n",
       "      <td>5689.0</td>\n",
       "    </tr>\n",
       "    <tr>\n",
       "      <th>803</th>\n",
       "      <td>Employment (number)</td>\n",
       "      <td>2004</td>\n",
       "      <td>30-Other vehicles</td>\n",
       "      <td>4751.0</td>\n",
       "    </tr>\n",
       "    <tr>\n",
       "      <th>804</th>\n",
       "      <td>Employment (number)</td>\n",
       "      <td>2004</td>\n",
       "      <td>91-All other manufacturing branches</td>\n",
       "      <td>37815.0</td>\n",
       "    </tr>\n",
       "    <tr>\n",
       "      <th>806</th>\n",
       "      <td>Employment (number)</td>\n",
       "      <td>2004</td>\n",
       "      <td>E-Electricity, gas, water supply</td>\n",
       "      <td>21064.0</td>\n",
       "    </tr>\n",
       "    <tr>\n",
       "      <th>809</th>\n",
       "      <td>Employment (number)</td>\n",
       "      <td>2004</td>\n",
       "      <td>Construction</td>\n",
       "      <td>174542.0</td>\n",
       "    </tr>\n",
       "    <tr>\n",
       "      <th>810</th>\n",
       "      <td>Employment (number)</td>\n",
       "      <td>2004</td>\n",
       "      <td>90-All other non-manufacturing branches</td>\n",
       "      <td>1902196.0</td>\n",
       "    </tr>\n",
       "    <tr>\n",
       "      <th>833</th>\n",
       "      <td>Employment (number)</td>\n",
       "      <td>2004</td>\n",
       "      <td>P-Education/research/development</td>\n",
       "      <td>202591.0</td>\n",
       "    </tr>\n",
       "  </tbody>\n",
       "</table>\n",
       "</div>"
      ],
      "text/plain": [
       "                   SOCIO   TID  \\\n",
       "783  Employment (number)  2004   \n",
       "786  Employment (number)  2004   \n",
       "787  Employment (number)  2004   \n",
       "788  Employment (number)  2004   \n",
       "789  Employment (number)  2004   \n",
       "790  Employment (number)  2004   \n",
       "792  Employment (number)  2004   \n",
       "796  Employment (number)  2004   \n",
       "797  Employment (number)  2004   \n",
       "798  Employment (number)  2004   \n",
       "799  Employment (number)  2004   \n",
       "801  Employment (number)  2004   \n",
       "802  Employment (number)  2004   \n",
       "803  Employment (number)  2004   \n",
       "804  Employment (number)  2004   \n",
       "806  Employment (number)  2004   \n",
       "809  Employment (number)  2004   \n",
       "810  Employment (number)  2004   \n",
       "833  Employment (number)  2004   \n",
       "\n",
       "                                           BRANCHE_IFR    emp_ifr  \n",
       "783                 A-B-Agriculture, forestry, fishing    79857.0  \n",
       "786                             C-Mining and quarrying     3492.0  \n",
       "787                           10-12-Food and beverages    69960.0  \n",
       "788                                     13-15-Textiles     9995.0  \n",
       "789                              16-Wood and furniture    12614.0  \n",
       "790                                        17-18-Paper    20198.0  \n",
       "792                19-22-Plastic and chemical products    46831.0  \n",
       "796  23-Glass, ceramics, stone, mineral products (n...    15200.0  \n",
       "797                                    24-Basic metals     5520.0  \n",
       "798                 25-Metal products (non-automotive)    38487.0  \n",
       "799                       26-27-Electrical/electronics    29422.0  \n",
       "801                            28-Industrial machinery    63927.0  \n",
       "802                                      29-Automotive     5689.0  \n",
       "803                                  30-Other vehicles     4751.0  \n",
       "804                91-All other manufacturing branches    37815.0  \n",
       "806                   E-Electricity, gas, water supply    21064.0  \n",
       "809                                       Construction   174542.0  \n",
       "810            90-All other non-manufacturing branches  1902196.0  \n",
       "833                   P-Education/research/development   202591.0  "
      ]
     },
     "execution_count": 86,
     "metadata": {},
     "output_type": "execute_result"
    }
   ],
   "source": [
    "# Inspicerer indhold\n",
    "nabb69_vars = Dst.get_variables(table_id='NABB69')\n",
    "nabb69_vars.id.unique()\n",
    "\n",
    "# Importing data from statistikbanken through an API\n",
    "variables = {'SOCIO':['EMPM_DC'],'BRANCHE':['*'],'Tid':['2004','2005','2006','2007', '2008', '2009', '2010','2011', '2012', '2013', '2014', '2015','2016']}\n",
    "\n",
    "# Importerer data\n",
    "nabb69 = Dst.get_data(table_id = 'NABB69', variables=variables)\n",
    "nabb69.sort_values(by=['SOCIO', 'TID', 'BRANCHE'], inplace=True)\n",
    "\n",
    "# Ordner og aggregerer industri-koder: Klar til merge med ifr\n",
    "# Dictionary for oversættelse af industri-koder\n",
    "industry = nabb69.BRANCHE\n",
    "dict_nabb69    = {x[:5]: x[6:] for x in industry}\n",
    "dict_crosswalk = {'01000':'A-B-Agriculture, forestry, fishing',\n",
    "                  '02000':'A-B-Agriculture, forestry, fishing',\n",
    "                  '03000':'A-B-Agriculture, forestry, fishing',\n",
    "                  '06090':'C-Mining and quarrying',\n",
    "                  '10120': '10-12-Food and beverages',\n",
    "                  '13150':'13-15-Textiles',\n",
    "                  '16000': '16-Wood and furniture',\n",
    "                  '17000':'17-18-Paper',\n",
    "                  '18000':'17-18-Paper',\n",
    "                  '19000':'19-22-Plastic and chemical products',\n",
    "                  '20000':'19-22-Plastic and chemical products',\n",
    "                  '21000':'19-22-Plastic and chemical products',\n",
    "                  '22000':'19-22-Plastic and chemical products',\n",
    "                  '23000':'23-Glass, ceramics, stone, mineral products (n...',\n",
    "                  '24000':'24-Basic metals',\n",
    "                  '25000':'25-Metal products (non-automotive)',\n",
    "                  '28000':'28-Industrial machinery',\n",
    "                  '26000':'26-27-Electrical/electronics',\n",
    "                  '27000':'26-27-Electrical/electronics',\n",
    "                  '29000':'29-Automotive',\n",
    "                  '30000':'30-Other vehicles',\n",
    "                  '31320':'91-All other manufacturing branches',\n",
    "                  '33000':'91-All other manufacturing branches',\n",
    "                  '35000':'E-Electricity, gas, water supply',\n",
    "                  '36000':'E-Electricity, gas, water supply',\n",
    "                  '37390':'E-Electricity, gas, water supply',\n",
    "                  '41430':'Construction',\n",
    "                  '72002':'P-Education/research/development',\n",
    "                  '85202':'P-Education/research/development'}\n",
    "\n",
    "# Opdaterer dictionary så alle andre kategorier får '90'.\n",
    "dict_crosswalk.update({\n",
    "    str(key): '90-All other non-manufacturing branches'\n",
    "    for key in range(0, 100000)\n",
    "    if str(key) not in dict_crosswalk\n",
    "})\n",
    "\n",
    "# Tilføjer ny variabel med talkoder for branche og bruger dictionary til at oversætte industrikoder\n",
    "nabb69['BRANCHE_K'] = nabb69['BRANCHE'].str[:5]\n",
    "nabb69['BRANCHE_IFR'] = nabb69['BRANCHE_K'].map(dict_crosswalk)\n",
    "\n",
    "# Aggregerer på IFR-industrier og tid\n",
    "nabb69['emp_ifr'] = nabb69.groupby(['BRANCHE_IFR', 'TID'])['INDHOLD'].transform(sum)\n",
    "\n",
    "nabb69 = nabb69[nabb69['BRANCHE_K'].str.isnumeric()]\n",
    "\n",
    "# Beholder kun subset af data\n",
    "nabb69 = nabb69.loc[:, ['SOCIO', 'TID', 'BRANCHE_IFR', 'emp_ifr']]\n",
    "nabb69 = nabb69.drop_duplicates(subset=['BRANCHE_IFR'])\n",
    "\n",
    "\n",
    "nabb69\n"
   ]
  },
  {
   "cell_type": "code",
   "execution_count": null,
   "metadata": {},
   "outputs": [],
   "source": []
  },
  {
   "cell_type": "markdown",
   "metadata": {},
   "source": [
    "## Explore each data set"
   ]
  },
  {
   "cell_type": "markdown",
   "metadata": {},
   "source": [
    "In order to be able to **explore the raw data**, you may provide **static** and **interactive plots** to show important developments "
   ]
  },
  {
   "cell_type": "markdown",
   "metadata": {},
   "source": [
    "**Interactive plot** :"
   ]
  },
  {
   "cell_type": "code",
   "execution_count": 4,
   "metadata": {},
   "outputs": [
    {
     "data": {
      "application/vnd.jupyter.widget-view+json": {
       "model_id": "a2b0f29afd974bb095514c9ec19ce79d",
       "version_major": 2,
       "version_minor": 0
      },
      "text/plain": [
       "interactive(children=(Output(),), _dom_classes=('widget-interact',))"
      ]
     },
     "metadata": {},
     "output_type": "display_data"
    }
   ],
   "source": [
    "def plot_func():\n",
    "    # Function that operates on data set\n",
    "    pass\n",
    "\n",
    "widgets.interact(plot_func, \n",
    "    # Let the widget interact with data through plot_func()    \n",
    "); \n"
   ]
  },
  {
   "cell_type": "markdown",
   "metadata": {},
   "source": [
    "Explain what you see when moving elements of the interactive plot around. "
   ]
  },
  {
   "cell_type": "markdown",
   "metadata": {},
   "source": [
    "# Merge data sets"
   ]
  },
  {
   "cell_type": "markdown",
   "metadata": {},
   "source": [
    "Now you create combinations of your loaded data sets. Remember the illustration of a (inner) **merge**:"
   ]
  },
  {
   "cell_type": "code",
   "execution_count": 5,
   "metadata": {},
   "outputs": [
    {
     "ename": "NameError",
     "evalue": "name 'venn2' is not defined",
     "output_type": "error",
     "traceback": [
      "\u001b[0;31m---------------------------------------------------------------------------\u001b[0m",
      "\u001b[0;31mNameError\u001b[0m                                 Traceback (most recent call last)",
      "\u001b[0;32m/var/folders/g2/f_5styjs0d53m4k1mknr83v80000gn/T/ipykernel_27889/1190576843.py\u001b[0m in \u001b[0;36m<module>\u001b[0;34m\u001b[0m\n\u001b[1;32m      1\u001b[0m \u001b[0mplt\u001b[0m\u001b[0;34m.\u001b[0m\u001b[0mfigure\u001b[0m\u001b[0;34m(\u001b[0m\u001b[0mfigsize\u001b[0m\u001b[0;34m=\u001b[0m\u001b[0;34m(\u001b[0m\u001b[0;36m15\u001b[0m\u001b[0;34m,\u001b[0m\u001b[0;36m7\u001b[0m\u001b[0;34m)\u001b[0m\u001b[0;34m)\u001b[0m\u001b[0;34m\u001b[0m\u001b[0;34m\u001b[0m\u001b[0m\n\u001b[0;32m----> 2\u001b[0;31m \u001b[0mv\u001b[0m \u001b[0;34m=\u001b[0m \u001b[0mvenn2\u001b[0m\u001b[0;34m(\u001b[0m\u001b[0msubsets\u001b[0m \u001b[0;34m=\u001b[0m \u001b[0;34m(\u001b[0m\u001b[0;36m4\u001b[0m\u001b[0;34m,\u001b[0m \u001b[0;36m4\u001b[0m\u001b[0;34m,\u001b[0m \u001b[0;36m10\u001b[0m\u001b[0;34m)\u001b[0m\u001b[0;34m,\u001b[0m \u001b[0mset_labels\u001b[0m \u001b[0;34m=\u001b[0m \u001b[0;34m(\u001b[0m\u001b[0;34m'Data X'\u001b[0m\u001b[0;34m,\u001b[0m \u001b[0;34m'Data Y'\u001b[0m\u001b[0;34m)\u001b[0m\u001b[0;34m)\u001b[0m\u001b[0;34m\u001b[0m\u001b[0;34m\u001b[0m\u001b[0m\n\u001b[0m\u001b[1;32m      3\u001b[0m \u001b[0mv\u001b[0m\u001b[0;34m.\u001b[0m\u001b[0mget_label_by_id\u001b[0m\u001b[0;34m(\u001b[0m\u001b[0;34m'100'\u001b[0m\u001b[0;34m)\u001b[0m\u001b[0;34m.\u001b[0m\u001b[0mset_text\u001b[0m\u001b[0;34m(\u001b[0m\u001b[0;34m'dropped'\u001b[0m\u001b[0;34m)\u001b[0m\u001b[0;34m\u001b[0m\u001b[0;34m\u001b[0m\u001b[0m\n\u001b[1;32m      4\u001b[0m \u001b[0mv\u001b[0m\u001b[0;34m.\u001b[0m\u001b[0mget_label_by_id\u001b[0m\u001b[0;34m(\u001b[0m\u001b[0;34m'010'\u001b[0m\u001b[0;34m)\u001b[0m\u001b[0;34m.\u001b[0m\u001b[0mset_text\u001b[0m\u001b[0;34m(\u001b[0m\u001b[0;34m'dropped'\u001b[0m \u001b[0;34m)\u001b[0m\u001b[0;34m\u001b[0m\u001b[0;34m\u001b[0m\u001b[0m\n\u001b[1;32m      5\u001b[0m \u001b[0mv\u001b[0m\u001b[0;34m.\u001b[0m\u001b[0mget_label_by_id\u001b[0m\u001b[0;34m(\u001b[0m\u001b[0;34m'110'\u001b[0m\u001b[0;34m)\u001b[0m\u001b[0;34m.\u001b[0m\u001b[0mset_text\u001b[0m\u001b[0;34m(\u001b[0m\u001b[0;34m'included'\u001b[0m\u001b[0;34m)\u001b[0m\u001b[0;34m\u001b[0m\u001b[0;34m\u001b[0m\u001b[0m\n",
      "\u001b[0;31mNameError\u001b[0m: name 'venn2' is not defined"
     ]
    },
    {
     "data": {
      "text/plain": [
       "<Figure size 1500x700 with 0 Axes>"
      ]
     },
     "metadata": {},
     "output_type": "display_data"
    }
   ],
   "source": [
    "plt.figure(figsize=(15,7))\n",
    "v = venn2(subsets = (4, 4, 10), set_labels = ('Data X', 'Data Y'))\n",
    "v.get_label_by_id('100').set_text('dropped')\n",
    "v.get_label_by_id('010').set_text('dropped' )\n",
    "v.get_label_by_id('110').set_text('included')\n",
    "plt.show()"
   ]
  },
  {
   "cell_type": "markdown",
   "metadata": {},
   "source": [
    "Here we are dropping elements from both data set X and data set Y. A left join would keep all observations in data X intact and subset only from Y. \n",
    "\n",
    "Make sure that your resulting data sets have the correct number of rows and columns. That is, be clear about which observations are thrown away. \n",
    "\n",
    "**Note:** Don't make Venn diagrams in your own data project. It is just for exposition. "
   ]
  },
  {
   "cell_type": "markdown",
   "metadata": {},
   "source": [
    "# Analysis"
   ]
  },
  {
   "cell_type": "markdown",
   "metadata": {},
   "source": [
    "To get a quick overview of the data, we show some **summary statistics** on a meaningful aggregation. "
   ]
  },
  {
   "cell_type": "markdown",
   "metadata": {},
   "source": [
    "MAKE FURTHER ANALYSIS. EXPLAIN THE CODE BRIEFLY AND SUMMARIZE THE RESULTS."
   ]
  },
  {
   "cell_type": "markdown",
   "metadata": {},
   "source": [
    "# Conclusion"
   ]
  },
  {
   "cell_type": "markdown",
   "metadata": {},
   "source": [
    "ADD CONCISE CONLUSION."
   ]
  }
 ],
 "metadata": {
  "kernelspec": {
   "display_name": "base",
   "language": "python",
   "name": "python3"
  },
  "language_info": {
   "codemirror_mode": {
    "name": "ipython",
    "version": 3
   },
   "file_extension": ".py",
   "mimetype": "text/x-python",
   "name": "python",
   "nbconvert_exporter": "python",
   "pygments_lexer": "ipython3",
   "version": "3.9.13"
  },
  "toc-autonumbering": true,
  "vscode": {
   "interpreter": {
    "hash": "47ef90cdf3004d3f859f1fb202523c65c07ba7c22eefd261b181f4744e2d0403"
   }
  }
 },
 "nbformat": 4,
 "nbformat_minor": 4
}
