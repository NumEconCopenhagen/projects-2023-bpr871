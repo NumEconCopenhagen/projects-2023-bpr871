{
 "cells": [
  {
   "attachments": {},
   "cell_type": "markdown",
   "metadata": {},
   "source": [
    "**Table of contents**<a id='toc0_'></a>    \n",
    "- 1. [Problem 1: Optimal taxation with government consumption](#toc1_)    \n",
    "- 2. [Problem 2: Labor adjustment costs](#toc2_)    \n",
    "- 3. [Problem 3: Global optimizer with refined multi-start](#toc3_)    \n",
    "\n",
    "<!-- vscode-jupyter-toc-config\n",
    "\tnumbering=true\n",
    "\tanchor=true\n",
    "\tflat=false\n",
    "\tminLevel=2\n",
    "\tmaxLevel=6\n",
    "\t/vscode-jupyter-toc-config -->\n",
    "<!-- THIS CELL WILL BE REPLACED ON TOC UPDATE. DO NOT WRITE YOUR TEXT IN THIS CELL -->"
   ]
  },
  {
   "cell_type": "code",
   "execution_count": 1,
   "metadata": {},
   "outputs": [],
   "source": [
    "import numpy as np\n",
    "from types import SimpleNamespace\n",
    "from scipy import optimize\n",
    "%load_ext autoreload\n",
    "%autoreload 2\n",
    "\n",
    "%matplotlib inline\n",
    "import matplotlib.pyplot as plt\n",
    "from matplotlib import cm\n",
    "from mpl_toolkits.mplot3d import Axes3D\n",
    "plt.style.use('seaborn-whitegrid')\n",
    "\n",
    "plt.rcParams.update({\"axes.grid\":True,\"grid.color\":\"black\",\"grid.alpha\":\"0.25\",\"grid.linestyle\":\"--\"})\n",
    "plt.rcParams.update({'font.size': 14})"
   ]
  },
  {
   "attachments": {},
   "cell_type": "markdown",
   "metadata": {},
   "source": [
    "## 1. <a id='toc1_'></a>[Problem 1: Optimal taxation with government consumption](#toc0_)"
   ]
  },
  {
   "attachments": {},
   "cell_type": "markdown",
   "metadata": {},
   "source": [
    "\n",
    "Consider a worker choosing hours of labor, $L\\in[0,24]$, to maximize utility: \n",
    "\n",
    "$$\n",
    "\\begin{align*}\n",
    "V(w,\\tau,G)&=\\max_{L\\in[0,24]}\\ln\\left(C^{\\alpha}G^{1-\\alpha}\\right)-\\nu\\frac{L^{2}}{2}\\\\&\\text{s.t.}\\\\&C=\\kappa+(1-\\tau)wL\n",
    "\\end{align*}\n",
    "$$\n",
    "\n",
    "where \n",
    "\n",
    "* $C$ is *private* consumption with weight $\\alpha\\in(0,1)$.\n",
    "* $\\kappa > 0$ is the *free private* consumption component.\n",
    "* $C = (1-\\tau)wL$ is the *costly private* consumption component.\n",
    "* $w > 0 $ is the real wage.\n",
    "* $\\tau \\in (0,1)$ is the labor-income tax rate.\n",
    "* $G > 0 $ is *government* consumption with weight $1-\\alpha$.\n",
    "* $\\nu > 0$ is the disutility of labor scaling factor"
   ]
  },
  {
   "attachments": {},
   "cell_type": "markdown",
   "metadata": {},
   "source": [
    "\n",
    "The baseline parameters are:\n",
    "\n",
    "$$\n",
    "\\begin{align*}\n",
    "\\alpha &= 0.5\\\\\n",
    "\\kappa &= 1.0\\\\\n",
    "\\nu &= \\frac{1}{2\\cdot16^2} \\\\\n",
    "w &= 1.0 \\\\ \n",
    "\\tau &= 0.30 \\\\\n",
    "\\end{align*}\n",
    "$$"
   ]
  },
  {
   "attachments": {},
   "cell_type": "markdown",
   "metadata": {},
   "source": [
    "**Question 1:** Verify that the optimal labor supply choice is $L^{\\star}(\\tilde{w}) =\\frac{-\\kappa+\\sqrt{\\kappa^{2}+4\\frac{\\alpha}{\\nu}\\tilde{w}^2}}{2\\tilde{w}}$, where $\\tilde{w} = (1-\\tau)w$, for $G\\in\\left\\{1.0 , 2.0\\right\\}$."
   ]
  },
  {
   "cell_type": "code",
   "execution_count": 2,
   "metadata": {},
   "outputs": [],
   "source": [
    "# write your code here"
   ]
  },
  {
   "attachments": {},
   "cell_type": "markdown",
   "metadata": {},
   "source": [
    "**Question 2:** Illustrate how $L^{\\star}(\\tilde{w})$ depends on $w$."
   ]
  },
  {
   "cell_type": "code",
   "execution_count": 3,
   "metadata": {},
   "outputs": [],
   "source": [
    "# write your code here"
   ]
  },
  {
   "attachments": {},
   "cell_type": "markdown",
   "metadata": {},
   "source": [
    "\n",
    "We now consider a government, who chooses $\\tau$ and spend all of the taxes on government consumption so:\n",
    "\n",
    "$$\n",
    "G = \\tau w L^{\\star}((1-\\tau)w)\n",
    "$$\n",
    "\n",
    "**Question 3:** Plot the implied $L$, $G$ and worker utility for a grid of $\\tau$-values.\n"
   ]
  },
  {
   "cell_type": "code",
   "execution_count": 4,
   "metadata": {},
   "outputs": [],
   "source": [
    "# write your code here"
   ]
  },
  {
   "attachments": {},
   "cell_type": "markdown",
   "metadata": {},
   "source": [
    "**Question 4:** Find the socially optimal tax rate $\\tau^{\\star}\\in(0,1)$ maximizing worker utility. Illustrate your result."
   ]
  },
  {
   "cell_type": "code",
   "execution_count": 5,
   "metadata": {},
   "outputs": [],
   "source": [
    "# write your code here"
   ]
  },
  {
   "attachments": {},
   "cell_type": "markdown",
   "metadata": {},
   "source": [
    "A more general preference formulation for the worker is:\n",
    "\n",
    "$$\n",
    "\\begin{align*}\n",
    "\\mathcal{V}(w,\\tau,G)&=\\max_{L\\in[0,24]}\\frac{\\left[ \\left( \\alpha C^{\\frac{\\sigma-1}{\\sigma}}+(1-\\alpha) G^{\\frac{\\sigma-1}{\\sigma}} \\right)^{\\frac{\\sigma}{1-\\sigma} }\\right]^{1-\\rho}-1}{1-\\rho}- \\nu\\frac{L^{1+\\varepsilon}}{1+\\varepsilon},\\,\\,\\,\\varepsilon,\\rho,\\sigma>0,\\,\\,\\,\\rho,\\sigma\\neq1\\\\&\\text{s.t.}\\\\&C=\\kappa+(1-\\tau)wL\n",
    "\\end{align*}    \n",
    "$$\n",
    "\n",
    "Optimal labor supply is now $L^{\\star}(\\tilde{w},G)$."
   ]
  },
  {
   "attachments": {},
   "cell_type": "markdown",
   "metadata": {},
   "source": [
    "Questions 5 and 6 must be answered with the general formulation, and for 2 different set of parameters:\n",
    "\n",
    "- Set 1:  $\\sigma = 1.001$, $\\rho = 1.001$ and $\\varepsilon = 1.0$.\n",
    "- Set 2:  $\\sigma = 1.5$, $\\rho = 1.5$ and $\\varepsilon = 1.0 $."
   ]
  },
  {
   "attachments": {},
   "cell_type": "markdown",
   "metadata": {},
   "source": [
    "**Question 5:** Find the $G$ that solves $G = \\tau w L^{\\star}((1-\\tau)w,G)$ using the $\\tau$ found in question 4.\n",
    "\n",
    "*Hint: First write code that solves the worker problem for given values of $G$ and $\\tau$. Then find the correct G based on this.*"
   ]
  },
  {
   "cell_type": "code",
   "execution_count": 6,
   "metadata": {},
   "outputs": [],
   "source": [
    "# write your code here"
   ]
  },
  {
   "attachments": {},
   "cell_type": "markdown",
   "metadata": {},
   "source": [
    "**Question 6:** Find the socially optimal tax rate, $\\tau^{\\star}$, maximizing worker utility, while keeping $G = \\tau w L^{\\star}((1-\\tau)w,G)$."
   ]
  },
  {
   "cell_type": "code",
   "execution_count": 7,
   "metadata": {},
   "outputs": [],
   "source": [
    "# write your code here  "
   ]
  },
  {
   "attachments": {},
   "cell_type": "markdown",
   "metadata": {},
   "source": [
    "## 2. <a id='toc2_'></a>[Problem 2: Labor adjustment costs](#toc0_)"
   ]
  },
  {
   "attachments": {},
   "cell_type": "markdown",
   "metadata": {},
   "source": [
    "You own a hair salon. You employ hairdressers, $\\ell_t$, to produce haircuts, $y_t = \\ell_t$.\n",
    "\n",
    "The wage for each haridresser is $w$.\n",
    "\n",
    "The demand for haircuts implies that the price of haircuts you can charge is $p_t = \\kappa_t y_t^{-\\eta}$, where $\\kappa_t$ is a demand-shock and $\\eta \\in (0,1)$ measures the elasticity of demand.\n",
    "\n",
    "Profits are:\n",
    "\n",
    "$$\n",
    "\\Pi_t = p_t y_t - w \\ell_t = \\kappa_t \\ell_t^{1-\\eta} - w \\ell_t\n",
    "$$"
   ]
  },
  {
   "attachments": {},
   "cell_type": "markdown",
   "metadata": {},
   "source": [
    "Baseline parameters are:\n",
    "- $\\eta = 0.5$\n",
    "- $w = 1.0$"
   ]
  },
  {
   "attachments": {},
   "cell_type": "markdown",
   "metadata": {},
   "source": [
    "**Question 1:** Verify numerically that $\\ell_{t}=\\left(\\frac{(1-\\eta)\\kappa_{t}}{w}\\right)^{\\frac{1}{\\eta}}$ maximises profits, for $\\kappa\\in\\left\\{1.0 , 2.0\\right\\}$."
   ]
  },
  {
   "cell_type": "code",
   "execution_count": 8,
   "metadata": {},
   "outputs": [],
   "source": [
    "# write your code here"
   ]
  },
  {
   "attachments": {},
   "cell_type": "markdown",
   "metadata": {},
   "source": [
    "We now consider a *dynamic* version of the model.\n",
    "\n",
    "* The demand-shock is a so-called AR(1) in logs, \n",
    "\n",
    "$$\n",
    "\\log \\kappa_{t} = \\rho \\log \\kappa_{t-1} + \\epsilon_{t},\\,\\,\\, \\epsilon_{t+1} \\sim \\mathcal{N}(-0.5\\sigma_{\\epsilon}^2,\\sigma_{\\epsilon})\n",
    "$$\n",
    "\n",
    "* Any hiring or firing implies a fixed adjustment cost, $\\iota > 0 $.\n",
    "* Future profits are discounted with a monthly factor of $R \\in (0,1)$.\n",
    "\n",
    "The initial demand shock is $\\kappa_{-1} = 1$ and the planning horizon is 10 years, i.e. 120 months so $t \\in \\{0,1,2,\\dots,119\\}$. Initially you don't have any employees, $\\ell_{-1}=0$"
   ]
  },
  {
   "attachments": {},
   "cell_type": "markdown",
   "metadata": {},
   "source": [
    "\n",
    "The *ex post* value of the salon is *conditional* on the shock series is:\n",
    "\n",
    "$$\n",
    "h(\\epsilon_0,\\epsilon_1,\\dots,\\epsilon_{119}) = \\left[\\sum_{t=0}^{119}R^{-t}\\left[\\kappa_{t}\\ell_{t}^{1-\\eta}-w\\ell_{t}-\\boldsymbol{1}_{\\ell_{t}\\neq\\ell_{t-1}}\\iota\\right]\\right]\n",
    "$$\n",
    "\n",
    "The *ex ante* expected value of the salon can be approximated by\n",
    "\n",
    "$$\n",
    "H = \\mathbb{E}[h(\\epsilon_0,\\epsilon_1,\\dots,\\epsilon_{119})] \\approx \\frac{1}{K}\\sum_{k=0}^{K} h(\\epsilon_0^k,\\epsilon_1^k,\\dots,\\epsilon_{119}^k)\n",
    "$$\n",
    "\n",
    "where each $k\\in\\{0,1,\\dots,K-1\\}$ is a random shock series. Maximizing profitability means maximizing $H$.\n"
   ]
  },
  {
   "attachments": {},
   "cell_type": "markdown",
   "metadata": {},
   "source": [
    "Baseline parameters are: \n",
    "\n",
    "- $\\rho = 0.90$\n",
    "- $\\iota = 0.01$\n",
    "- $\\sigma_{\\epsilon} = 0.10$\n",
    "- $R = \\left(1+0.01\\right)^{1/12}$"
   ]
  },
  {
   "attachments": {},
   "cell_type": "markdown",
   "metadata": {},
   "source": [
    "**Question 2:** Calculate $H$ if the policy  $\\ell_{t}=\\left(\\frac{(1-\\eta)\\kappa_{t}}{w}\\right)^{\\frac{1}{\\eta}}$ from question 1 is followed. Choose $K$ so the approximation is good enough to not affect your results substantially."
   ]
  },
  {
   "cell_type": "code",
   "execution_count": 9,
   "metadata": {},
   "outputs": [
    {
     "name": "stdout",
     "output_type": "stream",
     "text": [
      "H is = 162.64105163839386 for K = 100\n"
     ]
    },
    {
     "data": {
      "text/plain": [
       "\"\\n\\n\\nmax_index = np.argmax(H_values)\\nmax_delta = delta_values[max_index]\\nmax_h = H_values[max_index]\\n\\n# Plot delta against h\\nplt.plot(delta_values, H_values)\\nplt.scatter(max_delta, max_h, color='red', label=f'Max h = {max_h:.3f}')\\nplt.axvline(x=max_delta, color='red', linestyle='--', label=f'Delta = {max_delta:.3f}')\\nplt.xlabel('$\\\\Delta$')\\nplt.ylabel('h')\\nplt.title('Ex post value of salon, h($\\\\epsilon_0,\\\\epsilon_1,...,\\\\epsilon_{119}$), given values of $\\\\Delta$')\\nplt.grid(True)\\nplt.legend()\\nplt.show()\\n\""
      ]
     },
     "execution_count": 9,
     "metadata": {},
     "output_type": "execute_result"
    }
   ],
   "source": [
    "########## Question 2 final #######\n",
    "\n",
    "\n",
    "par = SimpleNamespace()\n",
    "par.sigma_epsilon = 0.1\n",
    "par.kappa_init = 1\n",
    "par.eta = 0.5\n",
    "par.w = 1.0\n",
    "par.rho = 0.9\n",
    "par.iota = 0.01\n",
    "par.r = 0.01\n",
    "par.T = 120\n",
    "par.delta = 0.00\n",
    "par.K = 100\n",
    "\n",
    "\n",
    "from Q2 import *\n",
    "#K = 10\n",
    "H, H_cum = calculate_H(par)\n",
    "#print(H)\n",
    "#plt.plot(H_cum)\n",
    "#plt.show()\n",
    "\n",
    "\n",
    "#optimal_delta(par)\n",
    "\n",
    "\"\"\"\n",
    "\n",
    "\n",
    "max_index = np.argmax(H_values)\n",
    "max_delta = delta_values[max_index]\n",
    "max_h = H_values[max_index]\n",
    "\n",
    "# Plot delta against h\n",
    "plt.plot(delta_values, H_values)\n",
    "plt.scatter(max_delta, max_h, color='red', label=f'Max h = {max_h:.3f}')\n",
    "plt.axvline(x=max_delta, color='red', linestyle='--', label=f'Delta = {max_delta:.3f}')\n",
    "plt.xlabel('$\\Delta$')\n",
    "plt.ylabel('h')\n",
    "plt.title('Ex post value of salon, h($\\epsilon_0,\\epsilon_1,...,\\epsilon_{119}$), given values of $\\Delta$')\n",
    "plt.grid(True)\n",
    "plt.legend()\n",
    "plt.show()\n",
    "\"\"\""
   ]
  },
  {
   "cell_type": "code",
   "execution_count": 10,
   "metadata": {},
   "outputs": [
    {
     "data": {
      "text/plain": [
       "'# write your code here \\n\\nimport numpy as np\\n\\n# fra hjaltes\\ndef profit_func(l, kappa, eta=0.5, w=1.0):\\n    return kappa * l**(1 - eta) - w * l\\n\\n\\neta = 0.5\\nw = 1.0\\nrho = 0.9\\niota = 0.01\\nsigma_epsilon = 0.1\\nR = (1+0.01)**(1/12)\\nkappa_init = 1\\nT = 120\\n\\n#draw epsilons\\n#np.random.seed(1998)\\n#epsilons = np.random.normal((0.5*sigma_epsilon**2), sigma_epsilon, (120,1))\\n#epsilon_list = epsilons.tolist()\\n\\n\\ndef kappas(kappa_init):\\n\\n    #draw epsilons\\n    np.random.seed(1998)\\n    epsilons = np.random.normal((0.5*sigma_epsilon**2), sigma_epsilon, (120,1))\\n    epsilon_list = epsilons.tolist()\\n\\n    # Initialize the list with an empty array\\n    log_kappas = np.zeros((len(epsilons),)) \\n\\n    for i,epsilon in enumerate(epsilons):\\n        \\n        if i==0: \\n            log_kappa_t = np.log(kappa_init) + epsilon\\n        else:\\n            # Calculate the autoregressive value at time t\\n            log_kappa_t = log_kappas[i-1] + epsilon\\n\\n        # add log_kappa_t to the list of log_kappas\\n        log_kappas[i] = log_kappa_t\\n\\n        # convert to the exponential values of log_kappa to get the kappa values\\n        kappas = np.exp(log_kappas)\\n\\n    return kappas\\n\\nkappa_values2 = kappas(kappa_init)\\nprint(kappas)'"
      ]
     },
     "execution_count": 10,
     "metadata": {},
     "output_type": "execute_result"
    }
   ],
   "source": [
    "\"\"\"# write your code here \n",
    "\n",
    "import numpy as np\n",
    "\n",
    "# fra hjaltes\n",
    "def profit_func(l, kappa, eta=0.5, w=1.0):\n",
    "    return kappa * l**(1 - eta) - w * l\n",
    "\n",
    "\n",
    "eta = 0.5\n",
    "w = 1.0\n",
    "rho = 0.9\n",
    "iota = 0.01\n",
    "sigma_epsilon = 0.1\n",
    "R = (1+0.01)**(1/12)\n",
    "kappa_init = 1\n",
    "T = 120\n",
    "\n",
    "#draw epsilons\n",
    "#np.random.seed(1998)\n",
    "#epsilons = np.random.normal((0.5*sigma_epsilon**2), sigma_epsilon, (120,1))\n",
    "#epsilon_list = epsilons.tolist()\n",
    "\n",
    "\n",
    "def kappas(kappa_init):\n",
    "\n",
    "    #draw epsilons\n",
    "    np.random.seed(1998)\n",
    "    epsilons = np.random.normal((0.5*sigma_epsilon**2), sigma_epsilon, (120,1))\n",
    "    epsilon_list = epsilons.tolist()\n",
    "\n",
    "    # Initialize the list with an empty array\n",
    "    log_kappas = np.zeros((len(epsilons),)) \n",
    "\n",
    "    for i,epsilon in enumerate(epsilons):\n",
    "        \n",
    "        if i==0: \n",
    "            log_kappa_t = np.log(kappa_init) + epsilon\n",
    "        else:\n",
    "            # Calculate the autoregressive value at time t\n",
    "            log_kappa_t = log_kappas[i-1] + epsilon\n",
    "\n",
    "        # add log_kappa_t to the list of log_kappas\n",
    "        log_kappas[i] = log_kappa_t\n",
    "\n",
    "        # convert to the exponential values of log_kappa to get the kappa values\n",
    "        kappas = np.exp(log_kappas)\n",
    "\n",
    "    return kappas\n",
    "\n",
    "kappa_values2 = kappas(kappa_init)\n",
    "print(kappas)\"\"\"\n",
    "\n"
   ]
  },
  {
   "cell_type": "code",
   "execution_count": 11,
   "metadata": {},
   "outputs": [
    {
     "ename": "NameError",
     "evalue": "name 'kappa_values2' is not defined",
     "output_type": "error",
     "traceback": [
      "\u001b[0;31m---------------------------------------------------------------------------\u001b[0m",
      "\u001b[0;31mNameError\u001b[0m                                 Traceback (most recent call last)",
      "\u001b[0;32m/var/folders/g2/f_5styjs0d53m4k1mknr83v80000gn/T/ipykernel_32163/160131230.py\u001b[0m in \u001b[0;36m<module>\u001b[0;34m\u001b[0m\n\u001b[1;32m      2\u001b[0m \u001b[0mt_values\u001b[0m \u001b[0;34m=\u001b[0m \u001b[0mlist\u001b[0m\u001b[0;34m(\u001b[0m\u001b[0mrange\u001b[0m\u001b[0;34m(\u001b[0m\u001b[0;36m120\u001b[0m\u001b[0;34m)\u001b[0m\u001b[0;34m)\u001b[0m\u001b[0;34m\u001b[0m\u001b[0;34m\u001b[0m\u001b[0m\n\u001b[1;32m      3\u001b[0m \u001b[0ml_values\u001b[0m \u001b[0;34m=\u001b[0m \u001b[0;34m[\u001b[0m\u001b[0;34m]\u001b[0m\u001b[0;34m\u001b[0m\u001b[0;34m\u001b[0m\u001b[0m\n\u001b[0;32m----> 4\u001b[0;31m \u001b[0mk_values\u001b[0m \u001b[0;34m=\u001b[0m \u001b[0mkappa_values2\u001b[0m\u001b[0;34m.\u001b[0m\u001b[0mtolist\u001b[0m\u001b[0;34m(\u001b[0m\u001b[0;34m)\u001b[0m\u001b[0;34m\u001b[0m\u001b[0;34m\u001b[0m\u001b[0m\n\u001b[0m\u001b[1;32m      5\u001b[0m \u001b[0;34m\u001b[0m\u001b[0m\n\u001b[1;32m      6\u001b[0m \u001b[0;31m# calculate l values for each kappa\u001b[0m\u001b[0;34m\u001b[0m\u001b[0;34m\u001b[0m\u001b[0m\n",
      "\u001b[0;31mNameError\u001b[0m: name 'kappa_values2' is not defined"
     ]
    }
   ],
   "source": [
    "# create lists for t, l and kappa values\n",
    "t_values = list(range(120))\n",
    "l_values = []\n",
    "k_values = kappa_values2.tolist()\n",
    "\n",
    "# calculate l values for each kappa\n",
    "for kappa in kappa_values2:\n",
    "    l = (((1-eta) * kappa) / w) ** (1 / eta)\n",
    "    l_values.append(l)\n",
    "print(l_values)\n",
    "#print(len(t_values))\n",
    "#print(len(l_values))\n",
    "#print(len(k_values))\n",
    "\n",
    "\n",
    "# initialise h values and define l in t-1\n",
    "h_value = 0\n",
    "l_previous = 0\n",
    "for t, kappa, l in zip(t_values, k_values, l_values):\n",
    "    lt = l\n",
    "    indicator = 1 if lt != l_previous else 0\n",
    "    h_value += R ** (-t) * (kappa * lt**(1 - eta) - w * lt - indicator * iota)\n",
    "    l_previous = lt\n",
    "\n",
    "    #print(lt, l_previous, indicator, h_value)\n",
    "\n",
    "    #return h_value\n",
    "print(h_value)"
   ]
  },
  {
   "cell_type": "code",
   "execution_count": null,
   "metadata": {},
   "outputs": [],
   "source": [
    "from Q2 import *\n",
    "K = range(100)\n",
    "h_test2 = calculate_H(K)\n",
    "#print(h_test2)\n",
    "plt.plot(h_test2)\n",
    "plt.show()"
   ]
  },
  {
   "attachments": {},
   "cell_type": "markdown",
   "metadata": {},
   "source": [
    "Next, we consider policies on the form:\n",
    "\n",
    "$$\n",
    "\n",
    "\\ell_{t}=\\begin{cases}\n",
    "\\ell_t^{\\ast}  & \\text{if }\\left|\\ell_{t-1}-\\ell_t^{\\ast} \\right|>\\Delta\\\\\n",
    "\\ell_{t-1} & \\text{else }\n",
    "\\end{cases}\n",
    "\\\\\n",
    "\\text{where}\\,\\,\\ell_t^{\\ast} = \\left(\\frac{(1-\\eta)\\kappa_{t}}{w}\\right)^{\\frac{1}{\\eta}} \\\\\n",
    "\n",
    "$$\n",
    "With $\\Delta \\geq 0$ and $\\Delta = 0$ being the previous policy.\n"
   ]
  },
  {
   "attachments": {},
   "cell_type": "markdown",
   "metadata": {},
   "source": [
    "\n",
    "**Question 3:** Calculate $H$ if the policy above was followed with $\\Delta = 0.05$. Does it improve profitability?"
   ]
  },
  {
   "cell_type": "code",
   "execution_count": null,
   "metadata": {},
   "outputs": [],
   "source": [
    "# write your code here"
   ]
  },
  {
   "attachments": {},
   "cell_type": "markdown",
   "metadata": {},
   "source": [
    "**Question 4:** Find the optimal $\\Delta$ maximizing $H$. Illustrate your result."
   ]
  },
  {
   "cell_type": "code",
   "execution_count": null,
   "metadata": {},
   "outputs": [],
   "source": [
    "# write your code here"
   ]
  },
  {
   "attachments": {},
   "cell_type": "markdown",
   "metadata": {},
   "source": [
    "\n",
    "**Question 5:** Suggest an alternative policy you believe might improve profitability. Implement and test your policy.\n",
    "\n"
   ]
  },
  {
   "cell_type": "code",
   "execution_count": null,
   "metadata": {},
   "outputs": [],
   "source": [
    "# write your code here"
   ]
  },
  {
   "attachments": {},
   "cell_type": "markdown",
   "metadata": {},
   "source": [
    "## 3. <a id='toc3_'></a>[Problem 3: Global optimizer with refined multi-start](#toc0_)"
   ]
  },
  {
   "attachments": {},
   "cell_type": "markdown",
   "metadata": {},
   "source": [
    "We consider the Griewank function:\n",
    "\n",
    "$$ f(\\boldsymbol{x}) = \\sum^n_{i=1} \\frac{x^2_i}{4000}-\\prod^n_{i=1}\\cos\\left(\\frac{x_i}{\\sqrt{i}}\\right)+1$$\n",
    "\n",
    "The **global minimum** of this function is $f(0,0) = 0$ (remember: $\\cos(0)=1$).<br>\n",
    "But the function also have a lot of **local minima**."
   ]
  },
  {
   "attachments": {},
   "cell_type": "markdown",
   "metadata": {},
   "source": [
    "A **refined global optimizer with multi-start** is:\n",
    "\n",
    "1. Choose *bounds* for $\\mathbf{x}$ and *tolerance* $\\tau > 0$.\n",
    "2. Choose number of *warm-up iterations*, $\\underline{K} > 0$ and *maximum number of iterations*, $K > \\underline{K}$.\n",
    "3. In each iteration for $k \\in \\{0,1,\\dots,K-1\\}$:\n",
    "\n",
    "    A. Draw random $\\mathbf{x}^k$ uniformly within chosen bounds.\n",
    "\n",
    "    B. If $k < \\underline{K}$ go to step E.\n",
    "\n",
    "    C. Calculate $\\chi^k = 0.50\\cdot\\frac{2}{1+\\exp((k-\\underline{K})/100)}$  \n",
    "\n",
    "    D. Set $\\mathbf{x}^{k0} = \\chi^k \\mathbf{x}^k + (1-\\chi^k)\\mathbf{x}^{\\ast} $\n",
    "\n",
    "    E. Run optimizer with $\\mathbf{x}^{k0}$ as initial guess and $\\mathbf{x}^{k\\ast}$ as result.\n",
    "\n",
    "    F. Set $\\mathbf{x}^{\\ast} = \\mathbf{x}^{k\\ast}$ if $k = 0$ or $f(\\mathbf{x}^{k\\ast}) < f(\\mathbf{x}^{\\ast})$\n",
    "\n",
    "    G. If $f(\\mathbf{x}^{\\ast}) < \\tau$ go to step 4.\n",
    "\n",
    "4. Return the result $\\mathbf{x}^{\\ast}$."
   ]
  },
  {
   "attachments": {},
   "cell_type": "markdown",
   "metadata": {},
   "source": [
    "As settings we choose:\n",
    "\n",
    "* $x_1,x_2 \\in  [-600,600]$\n",
    "* $\\tau = 10^{-8}$\n",
    "* $\\underline{K}=10$\n",
    "* $K=1000$\n",
    "\n",
    "The optimizer in Step 3.E is `BFGS` with a tolerance of $\\tau$."
   ]
  },
  {
   "attachments": {},
   "cell_type": "markdown",
   "metadata": {},
   "source": [
    "**Question 1:** Implement the refined global optimizer with multi-start. Illustrate how the effective initial guesses $\\mathbf{x}^{k0}$ vary with the iteration counter $k$."
   ]
  },
  {
   "attachments": {},
   "cell_type": "markdown",
   "metadata": {},
   "source": [
    "We begin by defining $chi^k$ and $x^{k0}$ as functions of the parameters. For the optimizer, we draw the $x$ values and loop over the list, using the $chi^k$ and $x^{k0}$ functions to determeine when to use the refined omtimization process. At last, we save the values to print and plot them. We plot both x values in the same plot with the f value on the y-axis. "
   ]
  },
  {
   "cell_type": "code",
   "execution_count": 16,
   "metadata": {},
   "outputs": [
    {
     "name": "stdout",
     "output_type": "stream",
     "text": [
      "   0: x0 = (-213.61, 468.51) -> x0_k = (-213.61, 468.51) -> converged at (-213.51, 470.46) with f =  66.79472511\n",
      "   1: x0 = ( 105.66,-448.08) -> x0_k = ( 105.66,-448.08) -> converged at ( 103.62,-448.27) with f =  52.97477721\n",
      "   2: x0 = (-430.39, -38.53) -> x0_k = (-430.39, -38.53) -> converged at (-430.18, -39.95) with f =  46.68672712\n",
      "   3: x0 = (-573.49, 272.73) -> x0_k = (-573.49, 272.73) -> converged at (-574.61, 270.73) with f = 100.93237534\n",
      "   4: x0 = (  29.26,  53.92) -> x0_k = (  29.26,  53.92) -> converged at (  31.40,  53.26) with f =   0.95651824\n",
      "   5: x0 = ( -52.35,   1.66) -> x0_k = ( -52.35,   1.66) -> converged at ( -50.24,  -0.00) with f =   0.63133900\n",
      "   6: x0 = (-126.64,-418.59) -> x0_k = (-126.64,-418.59) -> converged at (-125.60,-417.21) with f =  47.50580373\n",
      "   7: x0 = (-166.95,-405.51) -> x0_k = (-166.95,-405.51) -> converged at (-166.42,-403.89) with f =  47.75130112\n",
      "   8: x0 = (-194.45,-383.61) -> x0_k = (-194.45,-383.61) -> converged at (-194.68,-381.70) with f =  45.94087168\n",
      "   9: x0 = (-130.81,-557.22) -> x0_k = (-130.81,-557.22) -> converged at (-128.74,-554.79) with f =  81.17366573\n",
      "  33: x0 = ( -19.67,  18.27) -> x0_k = ( -36.71,   8.09) -> converged at ( -37.68,   8.88) with f =   0.37484767\n",
      " 103: x0 = ( 107.48, -15.23) -> x0_k = (   3.39,   2.06) -> converged at (   3.14,   4.44) with f =   0.00739604\n",
      " 351: x0 = (-115.81,-229.30) -> x0_k = (  -0.66,  -3.04) -> converged at (  -0.00,   0.00) with f =   0.00000000\n",
      "\n",
      "best solution:\n",
      " x = (  -0.00,   0.00) -> f =   0.00000000  )\n"
     ]
    },
    {
     "data": {
      "image/png": "[encoded data removed]",
      "text/plain": [
       "<Figure size 640x480 with 1 Axes>"
      ]
     },
     "metadata": {},
     "output_type": "display_data"
    }
   ],
   "source": [
    "# Import all functions from the py file\n",
    "from Q3 import *\n",
    "\n",
    "# Call the optimizer with both print and plot pre-set to True\n",
    "optimizer()"
   ]
  },
  {
   "attachments": {},
   "cell_type": "markdown",
   "metadata": {},
   "source": [
    "The optimizer is able to find the global minimum after only 351 iterations. In the plot, it is clear that it converges towards the omtimum, as the $chi^k$ weight pulls the randomly drawn x-value closer and closer to the last found optimum. "
   ]
  },
  {
   "attachments": {},
   "cell_type": "markdown",
   "metadata": {},
   "source": [
    "**Question 2:** Is it a better idea to set $\\underline{K} = 100$? Is the convergence faster?"
   ]
  },
  {
   "attachments": {},
   "cell_type": "markdown",
   "metadata": {},
   "source": [
    "For Question 2, we call the optimizer with the new $\\underline{K}$ value and get the optimum after 352 iterations, which is 1 more than before. \n",
    "\n",
    "We tried with different seeds to see if we were just lucky, but generally the difference is not very big. \n",
    "\n",
    "The convergence is a bit slower using a higher $\\underline{K}$, as more iterations try to \"brute force\" the solution. Still, the optimizer might stumble on a very low function value within one of the first 100 $\\underline{K}$ iterations and have a better value to converge towards, once the x values start being weighted. Therefore, it doesn't make much of the difference whether $\\underline{K}$ = 10 or $\\underline{K}$ = 100. "
   ]
  },
  {
   "cell_type": "code",
   "execution_count": 15,
   "metadata": {},
   "outputs": [
    {
     "name": "stdout",
     "output_type": "stream",
     "text": [
      "   0: x0 = (-213.61, 468.51) -> x0_k = (-213.61, 468.51) -> converged at (-213.51, 470.46) with f =  66.79472511\n",
      "   1: x0 = ( 105.66,-448.08) -> x0_k = ( 105.66,-448.08) -> converged at ( 103.62,-448.27) with f =  52.97477721\n",
      "   2: x0 = (-430.39, -38.53) -> x0_k = (-430.39, -38.53) -> converged at (-430.18, -39.95) with f =  46.68672712\n",
      "   3: x0 = (-573.49, 272.73) -> x0_k = (-573.49, 272.73) -> converged at (-574.61, 270.73) with f = 100.93237534\n",
      "   4: x0 = (  29.26,  53.92) -> x0_k = (  29.26,  53.92) -> converged at (  31.40,  53.26) with f =   0.95651824\n",
      "   5: x0 = ( -52.35,   1.66) -> x0_k = ( -52.35,   1.66) -> converged at ( -50.24,  -0.00) with f =   0.63133900\n",
      "   6: x0 = (-126.64,-418.59) -> x0_k = (-126.64,-418.59) -> converged at (-125.60,-417.21) with f =  47.50580373\n",
      "   7: x0 = (-166.95,-405.51) -> x0_k = (-166.95,-405.51) -> converged at (-166.42,-403.89) with f =  47.75130112\n",
      "   8: x0 = (-194.45,-383.61) -> x0_k = (-194.45,-383.61) -> converged at (-194.68,-381.70) with f =  45.94087168\n",
      "   9: x0 = (-130.81,-557.22) -> x0_k = (-130.81,-557.22) -> converged at (-128.74,-554.79) with f =  81.17366573\n",
      "  33: x0 = ( -19.67,  18.27) -> x0_k = ( -19.67,  18.27) -> converged at ( -18.84,  17.75) with f =   0.16766000\n",
      " 147: x0 = (  39.02, -63.85) -> x0_k = (   3.42, -13.63) -> converged at (   3.14, -13.32) with f =   0.04683502\n",
      " 272: x0 = ( -50.01,  53.27) -> x0_k = (  -4.93,  -3.20) -> converged at (  -3.14,  -4.44) with f =   0.00739604\n",
      " 352: x0 = (  -2.62, 172.18) -> x0_k = (  -3.10,   8.71) -> converged at (   0.00,  -0.00) with f =   0.00000000\n",
      "\n",
      "best solution:\n",
      " x = (   0.00,  -0.00) -> f =   0.00000000  )\n"
     ]
    },
    {
     "data": {
      "image/png": "[encoded data removed]",
      "text/plain": [
       "<Figure size 640x480 with 1 Axes>"
      ]
     },
     "metadata": {},
     "output_type": "display_data"
    }
   ],
   "source": [
    "# Calling the optimizer again using a higher K\n",
    "optimizer(K_=100)"
   ]
  },
  {
   "attachments": {},
   "cell_type": "markdown",
   "metadata": {},
   "source": [
    "The plot shows the same 1.000 $x$ values. The plot does not converge in the beginning due to the new $\\underline{K}$. After $\\underline{K}$ it converges just the same though if not a little bit slower."
   ]
  }
 ],
 "metadata": {
  "kernelspec": {
   "display_name": "base",
   "language": "python",
   "name": "python3"
  },
  "language_info": {
   "codemirror_mode": {
    "name": "ipython",
    "version": 3
   },
   "file_extension": ".py",
   "mimetype": "text/x-python",
   "name": "python",
   "nbconvert_exporter": "python",
   "pygments_lexer": "ipython3",
   "version": "3.9.13"
  },
  "orig_nbformat": 4
 },
 "nbformat": 4,
 "nbformat_minor": 2
}
