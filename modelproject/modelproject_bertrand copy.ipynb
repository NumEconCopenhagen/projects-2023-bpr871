{
 "cells": [
  {
   "attachments": {},
   "cell_type": "markdown",
   "metadata": {},
   "source": [
    "# Model: Imperfect competition setting"
   ]
  },
  {
   "attachments": {},
   "cell_type": "markdown",
   "metadata": {},
   "source": [
    "We choose to look at the Bertrand model and analyze the effects of adding firms to the traditional duopoly setting with different initial price levels. We also investigate a Cournot model to investigate the effect of relaxing the assumption of homogenous goods.   "
   ]
  },
  {
   "cell_type": "code",
   "execution_count": null,
   "metadata": {},
   "outputs": [],
   "source": [
    "import numpy as np\n",
    "import matplotlib.pyplot as plt\n",
    "from scipy import optimize\n",
    "import sympy as sm\n",
    "\n",
    "# autoreload modules when code is run\n",
    "%load_ext autoreload\n",
    "%autoreload 2\n",
    "\n",
    "# local modules\n",
    "import modelproject as BM\n",
    "from modelproject import CournotNashEquilibriumSolver as Model\n",
    "from types import SimpleNamespace\n",
    "import ipywidgets as widgets"
   ]
  },
  {
   "attachments": {},
   "cell_type": "markdown",
   "metadata": {},
   "source": [
    "# Bertrand price model: Simple framework"
   ]
  },
  {
   "attachments": {},
   "cell_type": "markdown",
   "metadata": {},
   "source": [
    "**Model summary** \n",
    "\n",
    "To describe the model analytically  we will use a simple framework with two firms in a static environment. The firms produce homogenous goods and set prices simultaneously. Both firms are profit maximizing.\n",
    "\n",
    "**Total demand**\n",
    "$$q = D(p)$$ \n",
    "\n",
    "**Individual demand faced by firm i**\n",
    "\n",
    "$$\\begin{equation}\n",
    "  D_i(p_i,p_j)= \n",
    "  \\left\\{\n",
    "    \\begin{array}{lrr}\n",
    "      0 & \\text{if  } p_i > p_j\\\\\n",
    "      \\cfrac{1}{2}D(p_i) & \\text{if  }  p_i = p_j\\\\\n",
    "      D(p_i) & \\text{if  }  p_i < p_j\n",
    "    \\end{array}\n",
    "  \\right.\n",
    "\\end{equation}$$\n",
    "\n",
    "\n",
    "**Profits:** \n",
    "The individual firm faces the profit function (c is marginal cost):\n",
    "$$\\begin{equation}\n",
    "  \\pi_i(p_i,p_j)= \n",
    "  \\left\\{\n",
    "    \\begin{array}{lrr}\n",
    "      0 & \\text{if  } p_i > p_j\\\\\n",
    "      (p_i-c)\\cfrac{1}{2}D(p_i) & \\text{if  }  p_i = p_j\\\\\n",
    "      (p_i-c)D(p_i)& \\text{if  }  p_i < p_j\n",
    "    \\end{array}\n",
    "  \\right.\n",
    "\\end{equation}$$\n",
    "\n",
    "**Normal form (Nash):** \n",
    "\n",
    "Firms/Players: $I:=\\{Firm1, Firm2\\}$ \n",
    "\n",
    "Strategy sets: $S_i:= \\mathbb(R)^+$ \n",
    "\n",
    "Pay-offs: $\\pi_i(p_i,p_j)$\n",
    "\n"
   ]
  },
  {
   "attachments": {},
   "cell_type": "markdown",
   "metadata": {},
   "source": [
    "# Dynamic game\n",
    "\n",
    "We will implement successive best-responses for the firms. This means they will keep reacting to the best-response functions of one another until an equilibrium is reached. The Nash Equilibrium solves:\n",
    "\n",
    "$$NE = max_{a_i}\\pi_i (a_i, s_j(a_i))$$"
   ]
  },
  {
   "attachments": {},
   "cell_type": "markdown",
   "metadata": {},
   "source": [
    "# Solving the model analytically: \n",
    "\n",
    "\n"
   ]
  },
  {
   "cell_type": "code",
   "execution_count": null,
   "metadata": {},
   "outputs": [],
   "source": [
    "# Defining the parameters of the model\n",
    "a   = 90\n",
    "b   = 2\n",
    "p_i = 4\n",
    "p_j = 4\n",
    "c   = 9"
   ]
  },
  {
   "cell_type": "code",
   "execution_count": null,
   "metadata": {},
   "outputs": [],
   "source": [
    "# Finding demand\n",
    "demand = BM.demand(a,b,p_i,p_j)\n",
    "\n",
    "# Finding profits\n",
    "profit = BM.profit(p_i,p_j,c, demand)\n",
    "\n",
    "# Printing results\n",
    "print(demand, profit)"
   ]
  },
  {
   "cell_type": "code",
   "execution_count": null,
   "metadata": {},
   "outputs": [],
   "source": [
    "# Optimal proftis\n",
    "\n",
    "# Set the parameters\n",
    "n_periods = 10  # Number of time periods\n",
    "n_firms = 2  # Number of firms\n",
    "mc = 9  # Marginal cost\n",
    "q = 90  # Market demand\n",
    "\n",
    "# Set the initial prices\n",
    "p = np.zeros((n_firms, n_periods))\n",
    "p[:, 0] = [60, 50]  # Initial prices\n",
    "\n",
    "# Simulate the prices over time\n",
    "for t in range(1, n_periods):\n",
    "    for i in range(n_firms):\n",
    "        # Calculate the competitor's price\n",
    "        j = (i + 1) % n_firms\n",
    "        competitor_price = p[j, t-1]\n",
    "        \n",
    "        # Calculate the firm's best response price\n",
    "        p_i = ((2*mc+q)/4 + competitor_price/4)\n",
    "        \n",
    "        # Check if the price is within the feasible range\n",
    "        if p_i > 0 and p_i < q:\n",
    "            p[i, t] = p_i\n",
    "        else:\n",
    "            # If not, set the price to the midpoint of the feasible range\n",
    "            p[i, t] = q / 2\n",
    "    \n",
    "# Plot the prices over time\n",
    "for i in range(n_firms):\n",
    "    plt.plot(p[i, :], label='Firm {}'.format(i+1))\n",
    "\n",
    "plt.xlabel('Time')\n",
    "plt.ylabel('Price')\n",
    "plt.legend()\n",
    "plt.show()\n"
   ]
  },
  {
   "attachments": {},
   "cell_type": "markdown",
   "metadata": {},
   "source": [
    "As seen in the plot prices of all the firms in the game converge to the same price, namely the marginal cost, which is the same for all firms. This is in line with the analytical predictions for the Bertrand Model."
   ]
  },
  {
   "cell_type": "markdown",
   "metadata": {},
   "source": [
    "## Analytical solution"
   ]
  },
  {
   "attachments": {},
   "cell_type": "markdown",
   "metadata": {},
   "source": [
    "# Put sympy solution here - Hjalte\n",
    "\n",
    "To characterize the solution, first derive a steady state equation as a function of a parameter using Sympy.solve and then turn it into a python function by Sympy.lambdify. See the lecture notes for details. \n"
   ]
  },
  {
   "cell_type": "code",
   "execution_count": 192,
   "metadata": {},
   "outputs": [],
   "source": [
    "q1, q2 = sm.symbols('q_1 q_2')\n",
    "p1, p2 = sm.symbols('p_1 p_2')\n",
    "Q = sm.symbols('Q')\n",
    "a = sm.symbols('a')\n",
    "b = sm.symbols('b')\n",
    "c = sm.symbols('c')\n",
    "P1, P2, P = sm.symbols('\\Pi_1 \\Pi_2 \\Pi')\n",
    "\n"
   ]
  },
  {
   "cell_type": "code",
   "execution_count": 193,
   "metadata": {},
   "outputs": [
    {
     "name": "stdout",
     "output_type": "stream",
     "text": [
      "Firm  and 2s demand function:\n"
     ]
    },
    {
     "data": {
      "text/latex": [
       "$\\displaystyle q_{1} = - 2 p_{1} + p_{2} + 90$"
      ],
      "text/plain": [
       "Eq(q_1, -2*p_1 + p_2 + 90)"
      ]
     },
     "metadata": {},
     "output_type": "display_data"
    },
    {
     "data": {
      "text/latex": [
       "$\\displaystyle q_{2} = p_{1} - 2 p_{2} + 90$"
      ],
      "text/plain": [
       "Eq(q_2, p_1 - 2*p_2 + 90)"
      ]
     },
     "metadata": {},
     "output_type": "display_data"
    }
   ],
   "source": [
    "Firm_1_Demand = sm.Eq(q1, 90-2*p1+p2)\n",
    "Firm_2_Demand = sm.Eq(q2, 90+p1-2*p2)\n",
    "\n",
    "print('Firm  and 2s demand function:')\n",
    "display(Firm_1_Demand)\n",
    "display(Firm_2_Demand)"
   ]
  },
  {
   "cell_type": "code",
   "execution_count": 194,
   "metadata": {},
   "outputs": [
    {
     "name": "stdout",
     "output_type": "stream",
     "text": [
      "Firm 1s profit function: \n"
     ]
    },
    {
     "data": {
      "text/latex": [
       "$\\displaystyle \\Pi_{1} = - c \\left(- 2 p_{1} + p_{2} + 90\\right) + p_{1} \\left(- 2 p_{1} + p_{2} + 90\\right)$"
      ],
      "text/plain": [
       "Eq(\\Pi_1, -c*(-2*p_1 + p_2 + 90) + p_1*(-2*p_1 + p_2 + 90))"
      ]
     },
     "metadata": {},
     "output_type": "display_data"
    },
    {
     "data": {
      "text/latex": [
       "$\\displaystyle \\Pi_{2} = - c \\left(p_{1} - 2 p_{2} + 90\\right) + p_{2} \\left(p_{1} - 2 p_{2} + 90\\right)$"
      ],
      "text/plain": [
       "Eq(\\Pi_2, -c*(p_1 - 2*p_2 + 90) + p_2*(p_1 - 2*p_2 + 90))"
      ]
     },
     "metadata": {},
     "output_type": "display_data"
    }
   ],
   "source": [
    "Firm_1_Profit = sm.Eq(P1,p1*(90-2*p1+p2)-c*(90-2*p1+p2))\n",
    "Firm_2_Profit = sm.Eq(P2,p2*(90+p1-2*p2)-c*(90+p1-2*p2))\n",
    "print('Firm 1s profit function: ')\n",
    "display(Firm_1_Profit)\n",
    "display(Firm_2_Profit)"
   ]
  },
  {
   "cell_type": "code",
   "execution_count": 195,
   "metadata": {},
   "outputs": [
    {
     "name": "stdout",
     "output_type": "stream",
     "text": [
      "FOCs: \n"
     ]
    },
    {
     "data": {
      "text/latex": [
       "$\\displaystyle 2 c - 4 p_{1} + p_{2} + 90$"
      ],
      "text/plain": [
       "2*c - 4*p_1 + p_2 + 90"
      ]
     },
     "metadata": {},
     "output_type": "display_data"
    },
    {
     "data": {
      "text/latex": [
       "$\\displaystyle 2 c + p_{1} - 4 p_{2} + 90$"
      ],
      "text/plain": [
       "2*c + p_1 - 4*p_2 + 90"
      ]
     },
     "metadata": {},
     "output_type": "display_data"
    }
   ],
   "source": [
    "FOC1 = sm.diff(p1*(90-2*p1+p2)-c*(90-2*p1+p2),p1)\n",
    "FOC2 = sm.diff(p2*(90+p1-2*p2)-c*(90+p1-2*p2),p2)\n",
    "print('FOCs: ')\n",
    "display(FOC1)\n",
    "display(FOC2)\n"
   ]
  },
  {
   "cell_type": "code",
   "execution_count": 196,
   "metadata": {},
   "outputs": [
    {
     "name": "stdout",
     "output_type": "stream",
     "text": [
      "Best response of firm 1, given p_2 and best respose of firm 2, given p_1: \n"
     ]
    },
    {
     "data": {
      "text/latex": [
       "$\\displaystyle \\frac{c}{2} + \\frac{p_{2}}{4} + \\frac{45}{2}$"
      ],
      "text/plain": [
       "c/2 + p_2/4 + 45/2"
      ]
     },
     "metadata": {},
     "output_type": "display_data"
    },
    {
     "data": {
      "text/latex": [
       "$\\displaystyle \\frac{c}{2} + \\frac{p_{1}}{4} + \\frac{45}{2}$"
      ],
      "text/plain": [
       "c/2 + p_1/4 + 45/2"
      ]
     },
     "metadata": {},
     "output_type": "display_data"
    }
   ],
   "source": [
    "sol1 = sm.solve(sm.Eq(FOC1,0), p1)\n",
    "sol2 = sm.solve(sm.Eq(FOC2,0), p2)\n",
    "print('Best response of firm 1, given p_2 and best respose of firm 2, given p_1: ')\n",
    "display(sol1[0])\n",
    "display(sol2[0])\n"
   ]
  },
  {
   "cell_type": "code",
   "execution_count": null,
   "metadata": {},
   "outputs": [],
   "source": [
    "# expr = sm.sin(x) + sm.cos(y)\n",
    "# f = sm.lambdify((x, y), expr, modules='numpy')\n",
    "# result = f(np.pi/4, np.pi/3)\n",
    "# print(result)"
   ]
  },
  {
   "cell_type": "code",
   "execution_count": 179,
   "metadata": {},
   "outputs": [],
   "source": [
    "qi, qj = sm.symbols('q_i q_j')\n",
    "pi, pj = sm.symbols('p_i p_j')\n",
    "Q = sm.symbols('Q')\n",
    "a = sm.symbols('a')\n",
    "b = sm.symbols('b')\n",
    "c = sm.symbols('c')\n",
    "P = sm.symbols('\\Pi')"
   ]
  },
  {
   "cell_type": "code",
   "execution_count": 188,
   "metadata": {},
   "outputs": [
    {
     "data": {
      "text/latex": [
       "$\\displaystyle Q = a - b p_{i}$"
      ],
      "text/plain": [
       "Eq(Q, a - b*p_i)"
      ]
     },
     "execution_count": 188,
     "metadata": {},
     "output_type": "execute_result"
    }
   ],
   "source": [
    "Demand = sm.Eq(Q, a-b*pi)\n",
    "Demand\n",
    "\n"
   ]
  },
  {
   "cell_type": "code",
   "execution_count": 189,
   "metadata": {},
   "outputs": [
    {
     "data": {
      "text/latex": [
       "$\\displaystyle \\Pi = - c \\left(a - b p_{i}\\right) + p_{i} \\left(a - b p_{i}\\right)$"
      ],
      "text/plain": [
       "Eq(\\Pi, -c*(a - b*p_i) + p_i*(a - b*p_i))"
      ]
     },
     "execution_count": 189,
     "metadata": {},
     "output_type": "execute_result"
    }
   ],
   "source": [
    "Profit = sm.Eq(P,pi*(a-b*pi)-c*(a-b*pi))\n",
    "Profit"
   ]
  },
  {
   "cell_type": "code",
   "execution_count": 190,
   "metadata": {},
   "outputs": [
    {
     "data": {
      "text/latex": [
       "$\\displaystyle a + b c - 2 b p_{i}$"
      ],
      "text/plain": [
       "a + b*c - 2*b*p_i"
      ]
     },
     "execution_count": 190,
     "metadata": {},
     "output_type": "execute_result"
    }
   ],
   "source": [
    "FOC = sm.diff(pi*(a-b*pi)-c*(a-b*pi),pi)\n",
    "FOC"
   ]
  },
  {
   "cell_type": "code",
   "execution_count": 191,
   "metadata": {},
   "outputs": [
    {
     "data": {
      "text/latex": [
       "$\\displaystyle \\frac{a + b c}{2 b}$"
      ],
      "text/plain": [
       "(a + b*c)/(2*b)"
      ]
     },
     "execution_count": 191,
     "metadata": {},
     "output_type": "execute_result"
    }
   ],
   "source": [
    "sol = sm.solve(sm.Eq(FOC,0), pi)\n",
    "sol[0]"
   ]
  },
  {
   "cell_type": "code",
   "execution_count": null,
   "metadata": {},
   "outputs": [],
   "source": []
  },
  {
   "attachments": {},
   "cell_type": "markdown",
   "metadata": {},
   "source": [
    "## Further Analysis: Numerical solution for Cournot Duopoly"
   ]
  },
  {
   "attachments": {},
   "cell_type": "markdown",
   "metadata": {},
   "source": [
    "Here we provide a numerical solution to Cournot Duopoly price competition. We include heterogenous cost functions for the firms in the model and investigate how the optimal production varies with the cost-function gap between the two firms."
   ]
  },
  {
   "cell_type": "code",
   "execution_count": null,
   "metadata": {},
   "outputs": [],
   "source": [
    "Model()\n",
    "Model().solve_eq()"
   ]
  },
  {
   "cell_type": "markdown",
   "metadata": {},
   "source": [
    "# Further analysis"
   ]
  },
  {
   "cell_type": "code",
   "execution_count": null,
   "metadata": {},
   "outputs": [],
   "source": [
    "def plot(a = 1, b = 1, X = 20, c2= 0):\n",
    "    model = Model()\n",
    "    # Update model parameters\n",
    "    model.par.alpha = a\n",
    "    model.par.beta = b\n",
    "    model.par.X = X\n",
    "    model.par.c = [0, c2]\n",
    "    # x axis grid\n",
    "    range_c = np.arange(0,0.51,0.01)\n",
    "    # y axis grid\n",
    "    range_q = np.zeros((range_c.size,2))\n",
    "    for it, i in enumerate(range_c):\n",
    "        # update cost function for company 1\n",
    "        model.par.c[0] = i\n",
    "        # find equilibrium quantities\n",
    "        range_q[it] = model.solve_eq()\n",
    "    \n",
    "    plt.plot(range_c, range_q)\n",
    "    plt.ylabel('q')\n",
    "    plt.title('Nash Equilibirum for differentiated goods')\n",
    "    plt.xlabel('Difference in c')\n",
    "    plt.legend()\n",
    "    plt.show()\n",
    "# plot()\n",
    "\"\"\"\n",
    "    fig, ax = plt.subplots(figsize=(8, 6))\n",
    "    # plot the function\n",
    "    for i in range(y.shape[1]):\n",
    "        ax.plot(range_c, range_q, y[:,i])\"\"\"\n",
    "def plot_interact():\n",
    "    widgets.interact(plot,\n",
    "                \n",
    "                 a=widgets.FloatSlider(\n",
    "                     description=\"a\", min=1, max=5, step=0.25, value=1),\n",
    "                 b=widgets.FloatSlider(\n",
    "                     description=\"b\", min=1, max=5, step=0.25, value=1),\n",
    "                 x0=widgets.FloatSlider(\n",
    "                     description=\"X\", min=1, max=50, step=0.5, value=20),\n",
    "                 c2=widgets.FloatSlider(\n",
    "                     description=\"c2\", min=0, max=5, step=0.1, value=0)\n",
    "\n",
    "    );\n",
    "\n",
    "plot()\n"
   ]
  },
  {
   "attachments": {},
   "cell_type": "markdown",
   "metadata": {},
   "source": [
    "We conclude that that gap in optimal quantities varies with the cost-function gap between the firms as expected."
   ]
  },
  {
   "cell_type": "code",
   "execution_count": null,
   "metadata": {},
   "outputs": [],
   "source": [
    "### Ikke længere relevant - giver uendeligt høje priser og profit\n",
    "# Set the initial prices and quantities\n",
    "p0 = np.array([20, 20])\n",
    "q1 = 10\n",
    "q2 = 10\n",
    "\n",
    "# Set the parameters\n",
    "alpha = 0.5\n",
    "beta = 0.5\n",
    "c1 = 10\n",
    "c2 = 10\n",
    "\n",
    "\n",
    "# Define the demand function\n",
    "def demand(p1, p2, q1, q2, alpha, beta):\n",
    "    return q1**alpha / (q1**alpha + q2**alpha) * (1 - (p1 - beta*q1 - p2 + beta*q2) / (p1 + p2))\n",
    "\n",
    "\n",
    "# Define the cost functions for each firm\n",
    "def cost(c1, c2, q1=0, q2=0):\n",
    "    return c1 * q1 + c2 * q2\n",
    "\n",
    "# Define the profit function for firm 1\n",
    "def profit1(p1, p2, q1, q2, c1, alpha, beta):\n",
    "    q1 = demand(p1, p2, q1, q2, alpha, beta)\n",
    "    q2 = (1 - q1) * (q1 / (1 - q1))**(1 / alpha)\n",
    "    return p1 * q1 - cost(q1, c1*q1)\n",
    "\n",
    "# Define the profit function for firm 2\n",
    "def profit2(p1, p2, q1, q2, c2, alpha, beta):\n",
    "    q2 = demand(p2, p1, q2, q1, alpha, beta)\n",
    "    q1 = (1 - q2) * (q2 / (1 - q2))**(1 / alpha)\n",
    "    return p2 * q2 - cost(q2, c2*q2)\n",
    "\n",
    "# Define the constraint for firm 1\n",
    "constraint1 = {'type': 'ineq', 'fun': lambda q1: q1 - c1}\n",
    "\n",
    "# Define the constraint for firm 2\n",
    "constraint2 = {'type': 'ineq', 'fun': lambda q2: q2 - c2}\n",
    "\n",
    "# Define the objective function to be minimized\n",
    "def obj(x, alpha, beta, c1, c2):\n",
    "    p1, p2 = x\n",
    "    return -(profit1(p1, p2, q1, q2, c1, alpha, beta) + profit2(p1, p2, q1, q2, c2, alpha, beta))\n",
    "\n",
    "# Solve the model using optimization\n",
    "res = optimize.minimize(obj, p0, args=(alpha, beta, c1, c2), method='SLSQP', bounds=((0, None), (0, None)), constraints=[constraint1, constraint2])\n",
    "\n",
    "# Print the optimal prices and profits\n",
    "p_opt = res.x\n",
    "q1_opt = demand(p_opt[0], p_opt[1], q1, q2, alpha, beta)\n",
    "q2_opt = (1 - q1_opt) * (q1_opt / (1 - q1_opt))**(1 / alpha)\n",
    "profit1_opt = profit1(p_opt[0], p_opt[1], q1_opt, q2_opt, c1, alpha, beta)\n",
    "profit2_opt = profit2(p_opt[0], p_opt[1], q1_opt, q2_opt, c2, alpha, beta)\n",
    "print('Optimal prices:', p_opt)\n",
    "print('Firm 1 profit:', profit1_opt)\n",
    "print('Firm 2 profit:', profit2_opt)"
   ]
  },
  {
   "cell_type": "markdown",
   "metadata": {},
   "source": [
    "# Conclusion"
   ]
  },
  {
   "attachments": {},
   "cell_type": "markdown",
   "metadata": {},
   "source": [
    "We find that by modelling different types of price competition in a oligopoly as well as a duopoly setting we are able to replicate results that correspond to our expectations."
   ]
  }
 ],
 "metadata": {
  "kernelspec": {
   "display_name": "base",
   "language": "python",
   "name": "python3"
  },
  "language_info": {
   "codemirror_mode": {
    "name": "ipython",
    "version": 3
   },
   "file_extension": ".py",
   "mimetype": "text/x-python",
   "name": "python",
   "nbconvert_exporter": "python",
   "pygments_lexer": "ipython3",
   "version": "3.9.16"
  },
  "toc-autonumbering": true,
  "vscode": {
   "interpreter": {
    "hash": "40d3a090f54c6569ab1632332b64b2c03c39dcf918b08424e98f38b5ae0af88f"
   }
  }
 },
 "nbformat": 4,
 "nbformat_minor": 4
}
