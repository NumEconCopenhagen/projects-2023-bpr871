{
 "cells": [
  {
   "attachments": {},
   "cell_type": "markdown",
   "metadata": {},
   "source": [
    "# BERTRAND MODEL"
   ]
  },
  {
   "attachments": {},
   "cell_type": "markdown",
   "metadata": {},
   "source": [
    "We choose to look at the Bertrand model and analyze the effects of a government spending extension. "
   ]
  },
  {
   "cell_type": "code",
   "execution_count": 38,
   "metadata": {},
   "outputs": [
    {
     "name": "stdout",
     "output_type": "stream",
     "text": [
      "The autoreload extension is already loaded. To reload it, use:\n",
      "  %reload_ext autoreload\n"
     ]
    }
   ],
   "source": [
    "import numpy as np\n",
    "import matplotlib.pyplot as plt\n",
    "from scipy import optimize\n",
    "import sympy as sm\n",
    "\n",
    "# autoreload modules when code is run\n",
    "%load_ext autoreload\n",
    "%autoreload 2\n",
    "\n",
    "# local modules\n",
    "import modelproject as BM\n",
    "from modelproject import CournotNashEquilibriumSolver as Model"
   ]
  },
  {
   "attachments": {},
   "cell_type": "markdown",
   "metadata": {},
   "source": [
    "# Bertrand price model: Simple framework"
   ]
  },
  {
   "attachments": {},
   "cell_type": "markdown",
   "metadata": {},
   "source": [
    "**Model summary** \n",
    "\n",
    "To describe the model analytically  we will use a simple framework with two firms in a static environment. The firms produce homogenous goods and set prices simultaneously. Both firms are profit maximizing.\n",
    "\n",
    "**Total demand**\n",
    "$$q = D(p)$$ \n",
    "\n",
    "**Individual demand faced by firm i**\n",
    "\n",
    "$$\\begin{equation}\n",
    "  D_i(p_i,p_j)= \n",
    "  \\left\\{\n",
    "    \\begin{array}{lrr}\n",
    "      0 & \\text{if  } p_i > p_j\\\\\n",
    "      \\cfrac{1}{2}D(p_i) & \\text{if  }  p_i = p_j\\\\\n",
    "      D(p_i) & \\text{if  }  p_i < p_j\n",
    "    \\end{array}\n",
    "  \\right.\n",
    "\\end{equation}$$\n",
    "\n",
    "\n",
    "**Profits:** \n",
    "The individual firm faces the profit function (c is marginal cost):\n",
    "$$\\begin{equation}\n",
    "  \\pi_i(p_i,p_j)= \n",
    "  \\left\\{\n",
    "    \\begin{array}{lrr}\n",
    "      0 & \\text{if  } p_i > p_j\\\\\n",
    "      (p_i-c)\\cfrac{1}{2}D(p_i) & \\text{if  }  p_i = p_j\\\\\n",
    "      (p_i-c)D(p_i)& \\text{if  }  p_i < p_j\n",
    "    \\end{array}\n",
    "  \\right.\n",
    "\\end{equation}$$\n",
    "\n",
    "**Normal form (Nash):** \n",
    "\n",
    "Firms/Players: $I:=\\{Firm1, Firm2\\}$ \n",
    "\n",
    "Strategy sets: $S_i:= \\mathbb(R)^+$ \n",
    "\n",
    "Pay-offs: $\\pi_i(p_i,p_j)$\n",
    "\n"
   ]
  },
  {
   "attachments": {},
   "cell_type": "markdown",
   "metadata": {},
   "source": [
    "# Dynamic game\n",
    "\n",
    "We will implement successive best-responses for the two firms. The Nash Equilibrium solves:\n",
    "\n",
    "$$NE = max_{a_i}\\pi_i (a_i, s_j(a_i))$$"
   ]
  },
  {
   "attachments": {},
   "cell_type": "markdown",
   "metadata": {},
   "source": [
    "# Solving the model analytically: \n",
    "\n",
    "\n"
   ]
  },
  {
   "cell_type": "code",
   "execution_count": 39,
   "metadata": {},
   "outputs": [],
   "source": [
    "# Defining the parameters of the model\n",
    "a   = 10\n",
    "b   = 2\n",
    "p_i = 4\n",
    "p_j = 4\n",
    "c   = 2"
   ]
  },
  {
   "cell_type": "code",
   "execution_count": 40,
   "metadata": {},
   "outputs": [
    {
     "name": "stdout",
     "output_type": "stream",
     "text": [
      "1.0 1.0\n"
     ]
    }
   ],
   "source": [
    "# Finding demand\n",
    "demand = BM.demand(a,b,p_i,p_j)\n",
    "\n",
    "# Finding profits\n",
    "profit = BM.profit(p_i,p_j,c, demand)\n",
    "\n",
    "# Printing results\n",
    "print(demand, profit)"
   ]
  },
  {
   "cell_type": "code",
   "execution_count": 41,
   "metadata": {},
   "outputs": [
    {
     "ename": "TypeError",
     "evalue": "'str' object is not callable",
     "output_type": "error",
     "traceback": [
      "\u001b[1;31m---------------------------------------------------------------------------\u001b[0m",
      "\u001b[1;31mTypeError\u001b[0m                                 Traceback (most recent call last)",
      "\u001b[1;32m~\\AppData\\Local\\Temp\\ipykernel_12136\\3559045973.py\u001b[0m in \u001b[0;36m<module>\u001b[1;34m\u001b[0m\n\u001b[0;32m     32\u001b[0m     \u001b[0mplt\u001b[0m\u001b[1;33m.\u001b[0m\u001b[0mplot\u001b[0m\u001b[1;33m(\u001b[0m\u001b[0mp\u001b[0m\u001b[1;33m[\u001b[0m\u001b[0mi\u001b[0m\u001b[1;33m,\u001b[0m \u001b[1;33m:\u001b[0m\u001b[1;33m]\u001b[0m\u001b[1;33m,\u001b[0m \u001b[0mlabel\u001b[0m\u001b[1;33m=\u001b[0m\u001b[1;34m'Firm {}'\u001b[0m\u001b[1;33m.\u001b[0m\u001b[0mformat\u001b[0m\u001b[1;33m(\u001b[0m\u001b[0mi\u001b[0m\u001b[1;33m+\u001b[0m\u001b[1;36m1\u001b[0m\u001b[1;33m)\u001b[0m\u001b[1;33m)\u001b[0m\u001b[1;33m\u001b[0m\u001b[1;33m\u001b[0m\u001b[0m\n\u001b[0;32m     33\u001b[0m \u001b[1;33m\u001b[0m\u001b[0m\n\u001b[1;32m---> 34\u001b[1;33m \u001b[0mplt\u001b[0m\u001b[1;33m.\u001b[0m\u001b[0mxlabel\u001b[0m\u001b[1;33m(\u001b[0m\u001b[1;34m'Time'\u001b[0m\u001b[1;33m)\u001b[0m\u001b[1;33m\u001b[0m\u001b[1;33m\u001b[0m\u001b[0m\n\u001b[0m\u001b[0;32m     35\u001b[0m \u001b[0mplt\u001b[0m\u001b[1;33m.\u001b[0m\u001b[0mylabel\u001b[0m\u001b[1;33m(\u001b[0m\u001b[1;34m'Price'\u001b[0m\u001b[1;33m)\u001b[0m\u001b[1;33m\u001b[0m\u001b[1;33m\u001b[0m\u001b[0m\n\u001b[0;32m     36\u001b[0m \u001b[0mplt\u001b[0m\u001b[1;33m.\u001b[0m\u001b[0mlegend\u001b[0m\u001b[1;33m(\u001b[0m\u001b[1;33m)\u001b[0m\u001b[1;33m\u001b[0m\u001b[1;33m\u001b[0m\u001b[0m\n",
      "\u001b[1;31mTypeError\u001b[0m: 'str' object is not callable"
     ]
    },
    {
     "data": {
      "image/png": "[encoded data removed]",
      "text/plain": [
       "<Figure size 640x480 with 1 Axes>"
      ]
     },
     "metadata": {},
     "output_type": "display_data"
    }
   ],
   "source": [
    "# Optimal proftis\n",
    "\n",
    "# Set the parameters\n",
    "n_periods = 10  # Number of time periods\n",
    "n_firms = 5  # Number of firms\n",
    "mc = 10  # Marginal cost\n",
    "q = 1000  # Market demand\n",
    "\n",
    "# Set the initial prices\n",
    "p = np.zeros((n_firms, n_periods))\n",
    "p[:, 0] = [20, 30, 40, 50, 60]  # Initial prices\n",
    "\n",
    "# Simulate the prices over time\n",
    "for t in range(1, n_periods):\n",
    "    for i in range(n_firms):\n",
    "        # Calculate the competitor's price\n",
    "        j = (i + 1) % n_firms\n",
    "        competitor_price = p[j, t-1]\n",
    "        \n",
    "        # Calculate the firm's best response price\n",
    "        p_i = (mc + competitor_price) / 2\n",
    "        \n",
    "        # Check if the price is within the feasible range\n",
    "        if p_i > 0 and p_i < q:\n",
    "            p[i, t] = p_i\n",
    "        else:\n",
    "            # If not, set the price to the midpoint of the feasible range\n",
    "            p[i, t] = q / 2\n",
    "    \n",
    "# Plot the prices over time\n",
    "for i in range(n_firms):\n",
    "    plt.plot(p[i, :], label='Firm {}'.format(i+1))\n",
    "\n",
    "plt.xlabel('Time')\n",
    "plt.ylabel('Price')\n",
    "plt.legend()\n",
    "plt.show()\n"
   ]
  },
  {
   "cell_type": "code",
   "execution_count": null,
   "metadata": {},
   "outputs": [
    {
     "ename": "NameError",
     "evalue": "name 'reg' is not defined",
     "output_type": "error",
     "traceback": [
      "\u001b[0;31m---------------------------------------------------------------------------\u001b[0m",
      "\u001b[0;31mNameError\u001b[0m                                 Traceback (most recent call last)",
      "\u001b[0;32m/var/folders/g2/f_5styjs0d53m4k1mknr83v80000gn/T/ipykernel_66205/590151530.py\u001b[0m in \u001b[0;36m<module>\u001b[0;34m\u001b[0m\n\u001b[1;32m      6\u001b[0m \u001b[0;32mwhile\u001b[0m \u001b[0miteration\u001b[0m \u001b[0;34m<\u001b[0m \u001b[0mmax_iterations\u001b[0m\u001b[0;34m:\u001b[0m\u001b[0;34m\u001b[0m\u001b[0;34m\u001b[0m\u001b[0m\n\u001b[1;32m      7\u001b[0m     \u001b[0mX\u001b[0m \u001b[0;34m=\u001b[0m \u001b[0mnp\u001b[0m\u001b[0;34m.\u001b[0m\u001b[0marray\u001b[0m\u001b[0;34m(\u001b[0m\u001b[0;34m[\u001b[0m\u001b[0;34m[\u001b[0m\u001b[0mprice\u001b[0m\u001b[0;34m]\u001b[0m\u001b[0;34m]\u001b[0m\u001b[0;34m)\u001b[0m\u001b[0;34m\u001b[0m\u001b[0;34m\u001b[0m\u001b[0m\n\u001b[0;32m----> 8\u001b[0;31m     \u001b[0my\u001b[0m \u001b[0;34m=\u001b[0m \u001b[0mreg\u001b[0m\u001b[0;34m.\u001b[0m\u001b[0mpredict\u001b[0m\u001b[0;34m(\u001b[0m\u001b[0mX\u001b[0m\u001b[0;34m)\u001b[0m\u001b[0;34m\u001b[0m\u001b[0;34m\u001b[0m\u001b[0m\n\u001b[0m\u001b[1;32m      9\u001b[0m     \u001b[0mdemand\u001b[0m \u001b[0;34m=\u001b[0m \u001b[0my\u001b[0m\u001b[0;34m[\u001b[0m\u001b[0;36m0\u001b[0m\u001b[0;34m]\u001b[0m\u001b[0;34m[\u001b[0m\u001b[0;36m0\u001b[0m\u001b[0;34m]\u001b[0m\u001b[0;34m\u001b[0m\u001b[0;34m\u001b[0m\u001b[0m\n\u001b[1;32m     10\u001b[0m     \u001b[0mcompetitor_price\u001b[0m \u001b[0;34m=\u001b[0m \u001b[0mget_competitor_price\u001b[0m\u001b[0;34m(\u001b[0m\u001b[0;34m)\u001b[0m \u001b[0;31m# get the price of the competitor\u001b[0m\u001b[0;34m\u001b[0m\u001b[0;34m\u001b[0m\u001b[0m\n",
      "\u001b[0;31mNameError\u001b[0m: name 'reg' is not defined"
     ]
    }
   ],
   "source": [
    "price = 5\n",
    "epsilon = 0.01\n",
    "max_iterations = 1000\n",
    "iteration = 0\n",
    "\n",
    "while iteration < max_iterations:\n",
    "    X = np.array([[price]])\n",
    "    y = reg.predict(X)\n",
    "    demand = y[0][0]\n",
    "    competitor_price = get_competitor_price() # get the price of the competitor\n",
    "    if demand > competitor_price:\n",
    "        price += epsilon\n",
    "    elif demand < competitor_price:\n",
    "        price -= epsilon\n",
    "    else:\n",
    "        break\n",
    "    iteration += 1\n",
    "\n",
    "print('Optimal price:', price)\n"
   ]
  },
  {
   "cell_type": "markdown",
   "metadata": {},
   "source": [
    "## Analytical solution"
   ]
  },
  {
   "cell_type": "markdown",
   "metadata": {},
   "source": [
    "If your model allows for an analytical solution, you should provide here.\n",
    "\n",
    "You may use Sympy for this. Then you can characterize the solution as a function of a parameter of the model.\n",
    "\n",
    "To characterize the solution, first derive a steady state equation as a function of a parameter using Sympy.solve and then turn it into a python function by Sympy.lambdify. See the lecture notes for details. "
   ]
  },
  {
   "cell_type": "code",
   "execution_count": null,
   "metadata": {},
   "outputs": [
    {
     "name": "stdout",
     "output_type": "stream",
     "text": [
      "Optimal prices: [9.24330422e+42 9.24330422e+42]\n",
      "Firm 1 profit: 4.621652108127506e+42\n",
      "Firm 2 profit: 4.6216521081275006e+42\n"
     ]
    },
    {
     "name": "stderr",
     "output_type": "stream",
     "text": [
      "c:\\Users\\Julie\\anaconda3\\lib\\site-packages\\scipy\\optimize\\_minimize.py:565: RuntimeWarning: Method Nelder-Mead cannot handle constraints.\n",
      "  warn('Method %s cannot handle constraints.' % method,\n"
     ]
    }
   ],
   "source": [
    "### Ikke længere relevant - giver uendeligt høje priser og profit\n",
    "# Set the initial prices and quantities\n",
    "p0 = np.array([20, 20])\n",
    "q1 = 10\n",
    "q2 = 10\n",
    "\n",
    "# Set the parameters\n",
    "alpha = 0.5\n",
    "beta = 0.5\n",
    "c1 = 10\n",
    "c2 = 10\n",
    "\n",
    "\n",
    "# Define the demand function\n",
    "def demand(p1, p2, q1, q2, alpha, beta):\n",
    "    return q1**alpha / (q1**alpha + q2**alpha) * (1 - (p1 - beta*q1 - p2 + beta*q2) / (p1 + p2))\n",
    "\n",
    "\n",
    "# Define the cost functions for each firm\n",
    "def cost(c1, c2, q1=0, q2=0):\n",
    "    return c1 * q1 + c2 * q2\n",
    "\n",
    "# Define the profit function for firm 1\n",
    "def profit1(p1, p2, q1, q2, c1, alpha, beta):\n",
    "    q1 = demand(p1, p2, q1, q2, alpha, beta)\n",
    "    q2 = (1 - q1) * (q1 / (1 - q1))**(1 / alpha)\n",
    "    return p1 * q1 - cost(q1, c1*q1)\n",
    "\n",
    "# Define the profit function for firm 2\n",
    "def profit2(p1, p2, q1, q2, c2, alpha, beta):\n",
    "    q2 = demand(p2, p1, q2, q1, alpha, beta)\n",
    "    q1 = (1 - q2) * (q2 / (1 - q2))**(1 / alpha)\n",
    "    return p2 * q2 - cost(q2, c2*q2)\n",
    "\n",
    "# Define the constraint for firm 1\n",
    "constraint1 = {'type': 'ineq', 'fun': lambda q1: q1 - c1}\n",
    "\n",
    "# Define the constraint for firm 2\n",
    "constraint2 = {'type': 'ineq', 'fun': lambda q2: q2 - c2}\n",
    "\n",
    "# Define the objective function to be minimized\n",
    "def obj(x, alpha, beta, c1, c2):\n",
    "    p1, p2 = x\n",
    "    return -(profit1(p1, p2, q1, q2, c1, alpha, beta) + profit2(p1, p2, q1, q2, c2, alpha, beta))\n",
    "\n",
    "# Solve the model using optimization\n",
    "res = optimize.minimize(obj, p0, args=(alpha, beta, c1, c2), method='SLSQP', bounds=((0, None), (0, None)), constraints=[constraint1, constraint2])\n",
    "\n",
    "# Print the optimal prices and profits\n",
    "p_opt = res.x\n",
    "q1_opt = demand(p_opt[0], p_opt[1], q1, q2, alpha, beta)\n",
    "q2_opt = (1 - q1_opt) * (q1_opt / (1 - q1_opt))**(1 / alpha)\n",
    "profit1_opt = profit1(p_opt[0], p_opt[1], q1_opt, q2_opt, c1, alpha, beta)\n",
    "profit2_opt = profit2(p_opt[0], p_opt[1], q1_opt, q2_opt, c2, alpha, beta)\n",
    "print('Optimal prices:', p_opt)\n",
    "print('Firm 1 profit:', profit1_opt)\n",
    "print('Firm 2 profit:', profit2_opt)"
   ]
  },
  {
   "cell_type": "markdown",
   "metadata": {},
   "source": [
    "## Numerical solution"
   ]
  },
  {
   "cell_type": "markdown",
   "metadata": {},
   "source": [
    "You can always solve a model numerically. \n",
    "\n",
    "Define first the set of parameters you need. \n",
    "\n",
    "Then choose one of the optimization algorithms that we have gone through in the lectures based on what you think is most fitting for your model.\n",
    "\n",
    "Are there any problems with convergence? Does the model converge for all starting values? Make a lot of testing to figure these things out. "
   ]
  },
  {
   "cell_type": "code",
   "execution_count": null,
   "metadata": {},
   "outputs": [
    {
     "data": {
      "text/plain": [
       "array([ 5.85786437, 14.14213562])"
      ]
     },
     "execution_count": 10,
     "metadata": {},
     "output_type": "execute_result"
    }
   ],
   "source": [
    "Model()\n",
    "Model().solve_eq()"
   ]
  },
  {
   "cell_type": "markdown",
   "metadata": {},
   "source": [
    "# Further analysis"
   ]
  },
  {
   "attachments": {},
   "cell_type": "markdown",
   "metadata": {},
   "source": [
    "Make detailed vizualizations of how your model changes with parameter values. Include widgets.\n",
    "\n",
    "Extension: Implement Bertrand model with differentiated goods (heterogeneous model)."
   ]
  },
  {
   "cell_type": "code",
   "execution_count": 48,
   "metadata": {},
   "outputs": [
    {
     "ename": "TypeError",
     "evalue": "'str' object is not callable",
     "output_type": "error",
     "traceback": [
      "\u001b[1;31m---------------------------------------------------------------------------\u001b[0m",
      "\u001b[1;31mTypeError\u001b[0m                                 Traceback (most recent call last)",
      "\u001b[1;32m~\\AppData\\Local\\Temp\\ipykernel_12136\\385333257.py\u001b[0m in \u001b[0;36m<module>\u001b[1;34m\u001b[0m\n\u001b[0;32m     54\u001b[0m     );\n\u001b[0;32m     55\u001b[0m \u001b[1;33m\u001b[0m\u001b[0m\n\u001b[1;32m---> 56\u001b[1;33m \u001b[0mplot\u001b[0m\u001b[1;33m(\u001b[0m\u001b[1;33m)\u001b[0m\u001b[1;33m\u001b[0m\u001b[1;33m\u001b[0m\u001b[0m\n\u001b[0m\u001b[0;32m     57\u001b[0m \u001b[1;33m\u001b[0m\u001b[0m\n",
      "\u001b[1;32m~\\AppData\\Local\\Temp\\ipykernel_12136\\385333257.py\u001b[0m in \u001b[0;36mplot\u001b[1;34m(a, b, X, c2)\u001b[0m\n\u001b[0;32m     26\u001b[0m     \u001b[0mplt\u001b[0m\u001b[1;33m.\u001b[0m\u001b[0mylabel\u001b[0m\u001b[1;33m(\u001b[0m\u001b[1;34m'q'\u001b[0m\u001b[1;33m)\u001b[0m\u001b[1;33m\u001b[0m\u001b[1;33m\u001b[0m\u001b[0m\n\u001b[0;32m     27\u001b[0m     \u001b[0mplt\u001b[0m\u001b[1;33m.\u001b[0m\u001b[0mtitle\u001b[0m\u001b[1;33m(\u001b[0m\u001b[1;34m'Nash Equilibirum for differentiated goods'\u001b[0m\u001b[1;33m)\u001b[0m\u001b[1;33m\u001b[0m\u001b[1;33m\u001b[0m\u001b[0m\n\u001b[1;32m---> 28\u001b[1;33m     \u001b[0mplt\u001b[0m\u001b[1;33m.\u001b[0m\u001b[0mxlabel\u001b[0m\u001b[1;33m(\u001b[0m\u001b[1;34m'Difference in c'\u001b[0m\u001b[1;33m)\u001b[0m\u001b[1;33m\u001b[0m\u001b[1;33m\u001b[0m\u001b[0m\n\u001b[0m\u001b[0;32m     29\u001b[0m     \u001b[0mplt\u001b[0m\u001b[1;33m.\u001b[0m\u001b[0mlegend\u001b[0m\u001b[1;33m(\u001b[0m\u001b[1;33m)\u001b[0m\u001b[1;33m\u001b[0m\u001b[1;33m\u001b[0m\u001b[0m\n\u001b[0;32m     30\u001b[0m     \u001b[0mplt\u001b[0m\u001b[1;33m.\u001b[0m\u001b[0mshow\u001b[0m\u001b[1;33m(\u001b[0m\u001b[1;33m)\u001b[0m\u001b[1;33m\u001b[0m\u001b[1;33m\u001b[0m\u001b[0m\n",
      "\u001b[1;31mTypeError\u001b[0m: 'str' object is not callable"
     ]
    },
    {
     "data": {
      "image/png": "[encoded data removed]",
      "text/plain": [
       "<Figure size 640x480 with 1 Axes>"
      ]
     },
     "metadata": {},
     "output_type": "display_data"
    }
   ],
   "source": [
    "from scipy import optimize\n",
    "import numpy as np\n",
    "import matplotlib.pyplot as plt\n",
    "from types import SimpleNamespace\n",
    "import ipywidgets as widgets\n",
    "\n",
    "\n",
    "def plot(a = 1, b = 1, X = 20, c2= 0):\n",
    "    model = Model()\n",
    "    # Update model parameters\n",
    "    model.par.alpha = a\n",
    "    model.par.beta = b\n",
    "    model.par.X = X\n",
    "    model.par.c = [0, c2]\n",
    "    # x axis grid\n",
    "    range_c = np.arange(0,0.51,0.01)\n",
    "    # y axis grid\n",
    "    range_q = np.zeros((range_c.size,2))\n",
    "    for it, i in enumerate(range_c):\n",
    "        # update cost function for company 1\n",
    "        model.par.c[0] = i\n",
    "        # find equilibrium quantities\n",
    "        range_q[it] = model.solve_eq()\n",
    "    \n",
    "    plt.plot(range_c, range_q)\n",
    "    plt.ylabel('q')\n",
    "    plt.title('Nash Equilibirum for differentiated goods')\n",
    "    plt.xlabel('Difference in c')\n",
    "    plt.legend()\n",
    "    plt.show()\n",
    "\n",
    "\n",
    "# plot()\n",
    "\"\"\"\n",
    "    fig, ax = plt.subplots(figsize=(8, 6))\n",
    "    # plot the function\n",
    "    for i in range(y.shape[1]):\n",
    "        ax.plot(range_c, range_q, y[:,i])\"\"\"\n",
    "\n",
    "\n",
    "\n",
    "def plot_interact():\n",
    "    widgets.interact(plot,\n",
    "                \n",
    "                 a=widgets.FloatSlider(\n",
    "                     description=\"a\", min=1, max=5, step=0.25, value=1),\n",
    "                 b=widgets.FloatSlider(\n",
    "                     description=\"b\", min=1, max=5, step=0.25, value=1),\n",
    "                 x0=widgets.FloatSlider(\n",
    "                     description=\"X\", min=1, max=50, step=0.5, value=20),\n",
    "                 c2=widgets.FloatSlider(\n",
    "                     description=\"c2\", min=0, max=5, step=0.1, value=0)\n",
    "\n",
    "    );\n",
    "\n",
    "plot()\n",
    "\n"
   ]
  },
  {
   "cell_type": "markdown",
   "metadata": {},
   "source": [
    "# Conclusion"
   ]
  },
  {
   "cell_type": "markdown",
   "metadata": {},
   "source": [
    "Add concise conclusion. "
   ]
  }
 ],
 "metadata": {
  "kernelspec": {
   "display_name": "base",
   "language": "python",
   "name": "python3"
  },
  "language_info": {
   "codemirror_mode": {
    "name": "ipython",
    "version": 3
   },
   "file_extension": ".py",
   "mimetype": "text/x-python",
   "name": "python",
   "nbconvert_exporter": "python",
   "pygments_lexer": "ipython3",
   "version": "3.9.16"
  },
  "toc-autonumbering": true,
  "vscode": {
   "interpreter": {
    "hash": "47ef90cdf3004d3f859f1fb202523c65c07ba7c22eefd261b181f4744e2d0403"
   }
  }
 },
 "nbformat": 4,
 "nbformat_minor": 4
}
