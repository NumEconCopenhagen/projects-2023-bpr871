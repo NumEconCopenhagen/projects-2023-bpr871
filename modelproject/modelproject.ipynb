{
 "cells": [
  {
   "attachments": {},
   "cell_type": "markdown",
   "metadata": {},
   "source": [
    "# RAMSEY MODEL"
   ]
  },
  {
   "attachments": {},
   "cell_type": "markdown",
   "metadata": {},
   "source": [
    "We choose to look at the Ramsey model and analyze the effects of a government spending extension. "
   ]
  },
  {
   "cell_type": "code",
   "execution_count": 1,
   "metadata": {},
   "outputs": [],
   "source": [
    "import numpy as np\n",
    "from scipy import optimize\n",
    "import sympy as sm\n",
    "\n",
    "# autoreload modules when code is run\n",
    "%load_ext autoreload\n",
    "%autoreload 2\n",
    "\n",
    "# local modules\n",
    "import modelproject"
   ]
  },
  {
   "cell_type": "markdown",
   "metadata": {},
   "source": [
    "# Model description"
   ]
  },
  {
   "attachments": {},
   "cell_type": "markdown",
   "metadata": {},
   "source": [
    "**Model summary** \n",
    "\n",
    "The model consists of the following relationsships and restrictions: \n",
    "\n",
    "**The representative firm:** \n",
    "\n",
    "Firms take rental rates and wages as given and optimizes profits according to:\n",
    "$$\\max_{K_t, L_t}\\pi = f(K_t,L_t) - K_t r_t - L_tw_t$$\n",
    "\n",
    "**No-Ponzi game condition:**\n",
    "States that households cannot finance consumption indefinitely through debt financing:\n",
    "$$\\lim_{T\\rightarrow \\infty}q_T a_{T+1}\\geq 0$$\n",
    "\n",
    "where: $$q_T = (R_0\\cdot R_1\\cdot...\\cdot R_T)^{-1}$$\n",
    "\n",
    "**Transversality condition:**\n",
    "The transversality condition then further restricts by assuming that households act rationaly and consumes their entire savings before passing: \n",
    "$$\\lim_{T\\rightarrow \\infty}q_T a_{T+1} = 0$$\n",
    "\n",
    "**Agent optimization:**\n",
    "The representative agent optimizes:\n",
    "$$\\max_{c_t} \\sum^{T}_{t=0}\\beta^t (1+n)^tu(c_t)$$\n",
    "The corresponding dynamic budget constraint is: \n",
    "$$a_{t+1}(1+n)=a_t(1+r_t-\\delta) + w_t - c_t +z_t -T_t$$\n",
    "\n",
    "**Government spending:**\n",
    "Government issues a lump sum tax and has to comply with the following budget constaint:\n",
    "$$b_{t+1}(1+n)=G_t-T_t+R_tb_t$$"
   ]
  },
  {
   "attachments": {},
   "cell_type": "markdown",
   "metadata": {},
   "source": [
    "# Solving the model analytically: \n",
    "\n",
    "We can solve the model analytically by setting up the problem using the Lagrangian:\n",
    "\n",
    "$$\\mathcal{L} =  \\sum^{T}_{t=0}\\beta^t (1+n)^t[u(c_t)+ \\lambda (a_t(1+r_t-\\delta) + w_t - c_t +z_t -T_t- a_{t+1}(1+n))]$$\n",
    "\n",
    "We then maximize with respect to current consumption $c_t$ and savings $a_{t+1}$:\n",
    "\n"
   ]
  },
  {
   "cell_type": "markdown",
   "metadata": {},
   "source": [
    "## Analytical solution"
   ]
  },
  {
   "cell_type": "markdown",
   "metadata": {},
   "source": [
    "If your model allows for an analytical solution, you should provide here.\n",
    "\n",
    "You may use Sympy for this. Then you can characterize the solution as a function of a parameter of the model.\n",
    "\n",
    "To characterize the solution, first derive a steady state equation as a function of a parameter using Sympy.solve and then turn it into a python function by Sympy.lambdify. See the lecture notes for details. "
   ]
  },
  {
   "cell_type": "markdown",
   "metadata": {},
   "source": [
    "## Numerical solution"
   ]
  },
  {
   "cell_type": "markdown",
   "metadata": {},
   "source": [
    "You can always solve a model numerically. \n",
    "\n",
    "Define first the set of parameters you need. \n",
    "\n",
    "Then choose one of the optimization algorithms that we have gone through in the lectures based on what you think is most fitting for your model.\n",
    "\n",
    "Are there any problems with convergence? Does the model converge for all starting values? Make a lot of testing to figure these things out. "
   ]
  },
  {
   "cell_type": "markdown",
   "metadata": {},
   "source": [
    "# Further analysis"
   ]
  },
  {
   "cell_type": "markdown",
   "metadata": {},
   "source": [
    "Make detailed vizualizations of how your model changes with parameter values. \n",
    "\n",
    "Try to make an extension of the model. "
   ]
  },
  {
   "cell_type": "markdown",
   "metadata": {},
   "source": [
    "# Conclusion"
   ]
  },
  {
   "cell_type": "markdown",
   "metadata": {},
   "source": [
    "Add concise conclusion. "
   ]
  }
 ],
 "metadata": {
  "kernelspec": {
   "display_name": "base",
   "language": "python",
   "name": "python3"
  },
  "language_info": {
   "codemirror_mode": {
    "name": "ipython",
    "version": 3
   },
   "file_extension": ".py",
   "mimetype": "text/x-python",
   "name": "python",
   "nbconvert_exporter": "python",
   "pygments_lexer": "ipython3",
   "version": "3.9.10"
  },
  "toc-autonumbering": true,
  "vscode": {
   "interpreter": {
    "hash": "47ef90cdf3004d3f859f1fb202523c65c07ba7c22eefd261b181f4744e2d0403"
   }
  }
 },
 "nbformat": 4,
 "nbformat_minor": 4
}
