{
 "cells": [
  {
   "attachments": {},
   "cell_type": "markdown",
   "metadata": {},
   "source": [
    "# Model Project: Modelling imperfect competition"
   ]
  },
  {
   "attachments": {},
   "cell_type": "markdown",
   "metadata": {},
   "source": [
    "We choose to look at the Bertrand model and analyze the effects of adding firms to the traditional duopoly setting with different initial price levels. We also investigate a Cournot model to investigate the effect of relaxing the assumption of homogenous goods.   "
   ]
  },
  {
   "cell_type": "code",
   "execution_count": 1,
   "metadata": {},
   "outputs": [],
   "source": [
    "import numpy as np\n",
    "import matplotlib.pyplot as plt\n",
    "from scipy import optimize\n",
    "import sympy as sm\n",
    "\n",
    "# autoreload modules when code is run\n",
    "%load_ext autoreload\n",
    "%autoreload 2\n",
    "\n",
    "# local modules\n",
    "import modelproject as BM\n",
    "from modelproject import CournotNashEquilibriumSolver as Model\n",
    "from types import SimpleNamespace\n",
    "import ipywidgets as widgets"
   ]
  },
  {
   "attachments": {},
   "cell_type": "markdown",
   "metadata": {},
   "source": [
    "# Bertrand price model: Simple framework"
   ]
  },
  {
   "attachments": {},
   "cell_type": "markdown",
   "metadata": {},
   "source": [
    "**Model summary** \n",
    "\n",
    "To describe the model analytically  we will use a simple framework with two firms in a static environment. The firms produce homogenous goods and set prices simultaneously. Both firms are profit maximizing.\n",
    "\n",
    "**Total demand**\n",
    "$$q = D(p)$$ \n",
    "\n",
    "**Individual demand faced by firm i**\n",
    "\n",
    "$$\\begin{equation}\n",
    "  D_i(p_i,p_j)= \n",
    "  \\left\\{\n",
    "    \\begin{array}{lrr}\n",
    "      0 & \\text{if  } p_i > p_j\\\\\n",
    "      \\cfrac{1}{2}D(p_i) & \\text{if  }  p_i = p_j\\\\\n",
    "      D(p_i) & \\text{if  }  p_i < p_j\n",
    "    \\end{array}\n",
    "  \\right.\n",
    "\\end{equation}$$\n",
    "\n",
    "\n",
    "**Profits:** \n",
    "The individual firm faces the profit function (c is marginal cost):\n",
    "$$\\begin{equation}\n",
    "  \\pi_i(p_i,p_j)= \n",
    "  \\left\\{\n",
    "    \\begin{array}{lrr}\n",
    "      0 & \\text{if  } p_i > p_j\\\\\n",
    "      (p_i-c)\\cfrac{1}{2}D(p_i) & \\text{if  }  p_i = p_j\\\\\n",
    "      (p_i-c)D(p_i)& \\text{if  }  p_i < p_j\n",
    "    \\end{array}\n",
    "  \\right.\n",
    "\\end{equation}$$\n",
    "\n",
    "**Normal form (Nash):** \n",
    "\n",
    "Firms/Players: $$I\\equiv \\{Firm1, Firm2\\}$$\n",
    "\n",
    "Strategy sets: $$S_i\\equiv \\mathbb{R}^+$$ \n",
    "\n",
    "Pay-offs: $\\pi_i(p_i,p_j)$\n",
    "\n"
   ]
  },
  {
   "attachments": {},
   "cell_type": "markdown",
   "metadata": {},
   "source": [
    "# Dynamic game\n",
    "\n",
    "We will implement successive best-responses for the firms. This means they will keep reacting to the best-response functions of one another until an equilibrium is reached. The Nash Equilibrium solves:\n",
    "\n",
    "$$NE = \\max_{a_i}\\pi_i (a_i, s_j(a_i))$$"
   ]
  },
  {
   "attachments": {},
   "cell_type": "markdown",
   "metadata": {},
   "source": [
    "# Analytical solution \n",
    "\n",
    "\n"
   ]
  },
  {
   "attachments": {},
   "cell_type": "markdown",
   "metadata": {},
   "source": [
    "## Using Sympy"
   ]
  },
  {
   "attachments": {},
   "cell_type": "markdown",
   "metadata": {},
   "source": [
    "### Bertrand Duopoly with products that are imperfect substitutes\n",
    "We will now illustrate a solution to the Bertrand price competition model tweaking the setting such that firms supply imperfectly substituted products. Imperfect substitution between products imply that the firms can charge different prices without the high-price firm loosing the entire market to it's competitor. \n"
   ]
  },
  {
   "cell_type": "code",
   "execution_count": 2,
   "metadata": {},
   "outputs": [],
   "source": [
    "#Defining the parameters\n",
    "q1, q2, qne = sm.symbols('q_1 q_2 q_NE')\n",
    "p1, p2, pne = sm.symbols('p_1 p_2 p_NE')\n",
    "a1, a2 = sm.symbols('a_1 a_2')\n",
    "c = sm.symbols('c')\n",
    "P1, P2 = sm.symbols('\\Pi_1 \\Pi_2')\n",
    "NE = sm.symbols('NE')"
   ]
  },
  {
   "cell_type": "code",
   "execution_count": 3,
   "metadata": {},
   "outputs": [
    {
     "name": "stdout",
     "output_type": "stream",
     "text": [
      "Demand functions for Firm 1 and 2:\n"
     ]
    },
    {
     "data": {
      "text/latex": [
       "$\\displaystyle q_{1} = a_{1} - 2 p_{1} + p_{2}$"
      ],
      "text/plain": [
       "Eq(q_1, a_1 - 2*p_1 + p_2)"
      ]
     },
     "metadata": {},
     "output_type": "display_data"
    },
    {
     "data": {
      "text/latex": [
       "$\\displaystyle q_{2} = a_{2} + p_{1} - 2 p_{2}$"
      ],
      "text/plain": [
       "Eq(q_2, a_2 + p_1 - 2*p_2)"
      ]
     },
     "metadata": {},
     "output_type": "display_data"
    }
   ],
   "source": [
    "#Defining the two firm demand functions:\n",
    "Firm_1_Demand = sm.Eq(q1, a1-2*p1+p2)\n",
    "Firm_2_Demand = sm.Eq(q2, a2+p1-2*p2)\n",
    "\n",
    "#Displaying the demand functions:\n",
    "print('Demand functions for Firm 1 and 2:')\n",
    "display(Firm_1_Demand, Firm_2_Demand)"
   ]
  },
  {
   "cell_type": "code",
   "execution_count": 4,
   "metadata": {},
   "outputs": [
    {
     "name": "stdout",
     "output_type": "stream",
     "text": [
      "Firm 1 and Firm 2s profit function: \n"
     ]
    },
    {
     "data": {
      "text/latex": [
       "$\\displaystyle \\Pi_{1} = - c \\left(a_{1} - 2 p_{1} + p_{2}\\right) + p_{1} \\left(a_{1} - 2 p_{1} + p_{2}\\right)$"
      ],
      "text/plain": [
       "Eq(\\Pi_1, -c*(a_1 - 2*p_1 + p_2) + p_1*(a_1 - 2*p_1 + p_2))"
      ]
     },
     "metadata": {},
     "output_type": "display_data"
    },
    {
     "data": {
      "text/latex": [
       "$\\displaystyle \\Pi_{2} = - c \\left(a_{2} + p_{1} - 2 p_{2}\\right) + p_{2} \\left(a_{2} + p_{1} - 2 p_{2}\\right)$"
      ],
      "text/plain": [
       "Eq(\\Pi_2, -c*(a_2 + p_1 - 2*p_2) + p_2*(a_2 + p_1 - 2*p_2))"
      ]
     },
     "metadata": {},
     "output_type": "display_data"
    }
   ],
   "source": [
    "#Defining firm profits:\n",
    "Firm_1_Profit = sm.Eq(P1,p1*(a1-2*p1+p2)-c*(a1-2*p1+p2))\n",
    "Firm_2_Profit = sm.Eq(P2,p2*(a2+p1-2*p2)-c*(a2+p1-2*p2))\n",
    "\n",
    "#Displaying the profit functions:\n",
    "print('Firm 1 and Firm 2s profit function: ')\n",
    "display(Firm_1_Profit, Firm_2_Profit)"
   ]
  },
  {
   "cell_type": "code",
   "execution_count": 5,
   "metadata": {},
   "outputs": [
    {
     "name": "stdout",
     "output_type": "stream",
     "text": [
      "FOCs: \n"
     ]
    },
    {
     "data": {
      "text/latex": [
       "$\\displaystyle a_{1} + 2 c - 4 p_{1} + p_{2} = 0$"
      ],
      "text/plain": [
       "Eq(a_1 + 2*c - 4*p_1 + p_2, 0)"
      ]
     },
     "metadata": {},
     "output_type": "display_data"
    },
    {
     "data": {
      "text/latex": [
       "$\\displaystyle a_{2} + 2 c + p_{1} - 4 p_{2} = 0$"
      ],
      "text/plain": [
       "Eq(a_2 + 2*c + p_1 - 4*p_2, 0)"
      ]
     },
     "metadata": {},
     "output_type": "display_data"
    }
   ],
   "source": [
    "#Calculating the FOC's:\n",
    "FOC1 = sm.Eq(sm.diff(p1*(a1-2*p1+p2)-c*(a1-2*p1+p2),p1),0)\n",
    "FOC2 = sm.Eq(sm.diff(p2*(a2+p1-2*p2)-c*(a2+p1-2*p2),p2),0)\n",
    "\n",
    "#And displaying them:\n",
    "print('FOCs: ')\n",
    "display(FOC1, FOC2)"
   ]
  },
  {
   "cell_type": "code",
   "execution_count": 6,
   "metadata": {},
   "outputs": [
    {
     "data": {
      "text/latex": [
       "$\\displaystyle p_{1} = \\frac{a_{1}}{4} + \\frac{c}{2} + \\frac{p_{2}}{4}$"
      ],
      "text/plain": [
       "Eq(p_1, a_1/4 + c/2 + p_2/4)"
      ]
     },
     "metadata": {},
     "output_type": "display_data"
    },
    {
     "data": {
      "text/latex": [
       "$\\displaystyle p_{2} = \\frac{a_{2}}{4} + \\frac{c}{2} + \\frac{p_{1}}{4}$"
      ],
      "text/plain": [
       "Eq(p_2, a_2/4 + c/2 + p_1/4)"
      ]
     },
     "metadata": {},
     "output_type": "display_data"
    }
   ],
   "source": [
    "#Isolating p_1 and p_2 respectively in the FOCs:\n",
    "sol1 = sm.solve(FOC1, p1)\n",
    "sol2 = sm.solve(FOC2, p2)\n",
    "\n",
    "#Displaying them:\n",
    "sol11 = sm.Eq(p1,sol1[0])\n",
    "sol22 = sm.Eq(p2,sol2[0])\n",
    "display(sol11, sol22)"
   ]
  },
  {
   "attachments": {},
   "cell_type": "markdown",
   "metadata": {},
   "source": [
    "The above are the reaction functions to the other firm's price, i.e. $p_1$ is the price that Firm 1 sets, when observing the price of Firm 2 and vice versa."
   ]
  },
  {
   "cell_type": "code",
   "execution_count": 7,
   "metadata": {},
   "outputs": [
    {
     "data": {
      "text/latex": [
       "$\\displaystyle p_{1} = - a_{2} - 2 c + 4 p_{2}$"
      ],
      "text/plain": [
       "Eq(p_1, -a_2 - 2*c + 4*p_2)"
      ]
     },
     "execution_count": 7,
     "metadata": {},
     "output_type": "execute_result"
    }
   ],
   "source": [
    "#Isolating p_1 in Firm 2s reaction function above:\n",
    "reaction2_p1 = sm.solve(sol22, p1)\n",
    "\n",
    "#Displaying it:\n",
    "reaction22_p1 = sm.Eq(p1,reaction2_p1[0])\n",
    "reaction22_p1"
   ]
  },
  {
   "attachments": {},
   "cell_type": "markdown",
   "metadata": {},
   "source": [
    "We can now put Firm 1's reaction function equal to Firm 2's reaction function, such that we get the following expression:\n",
    "\n",
    "$$\\frac{a_1}{4}+\\frac{c}{2}+\\frac{p_2}{4}=-a_2-2c+4p_2,$$\n",
    "\n",
    "where we from that can isolate $p_2$, which gives us the Nash-Equilibrium price set by Firm 2 (due to symmetry, this is also the NE-$p_1$):"
   ]
  },
  {
   "cell_type": "code",
   "execution_count": 8,
   "metadata": {},
   "outputs": [
    {
     "data": {
      "text/latex": [
       "$\\displaystyle p_{NE} = \\frac{a_{1}}{15} + \\frac{4 a_{2}}{15} + \\frac{2 c}{3}$"
      ],
      "text/plain": [
       "Eq(p_NE, a_1/15 + 4*a_2/15 + 2*c/3)"
      ]
     },
     "execution_count": 8,
     "metadata": {},
     "output_type": "execute_result"
    }
   ],
   "source": [
    "#Setting Firm 1s rection function equal to Firm 2s rection function where p_1 is isolated (as illustrated above):\n",
    "NE_p = sm.solve(sm.Eq(sol1[0],reaction2_p1[0]), p2)\n",
    "\n",
    "#Displaying the Nash-Equilibrium price:\n",
    "NE_p1p2 = sm.Eq(pne,NE_p[0])\n",
    "NE_p1p2"
   ]
  },
  {
   "attachments": {},
   "cell_type": "markdown",
   "metadata": {},
   "source": [
    "We replace the $p_1$ and $p_2$ with $p_{NE}$ in Firm 1's demand function, which leaves us the Nash-Equilibrium quantity (for both firms due to symmetry)."
   ]
  },
  {
   "cell_type": "code",
   "execution_count": 9,
   "metadata": {},
   "outputs": [
    {
     "data": {
      "text/latex": [
       "$\\displaystyle q_{NE} = \\frac{14 a_{1}}{15} - \\frac{4 a_{2}}{15} - \\frac{2 c}{3}$"
      ],
      "text/plain": [
       "Eq(q_NE, 14*a_1/15 - 4*a_2/15 - 2*c/3)"
      ]
     },
     "execution_count": 9,
     "metadata": {},
     "output_type": "execute_result"
    }
   ],
   "source": [
    "#Inserting p_NE \n",
    "NE_q = sm.Eq(qne, a1-2*NE_p[0]+NE_p[0])\n",
    "NE_q"
   ]
  },
  {
   "attachments": {},
   "cell_type": "markdown",
   "metadata": {},
   "source": [
    "To conclude, we get the following Nash-Equilibrium:"
   ]
  },
  {
   "cell_type": "code",
   "execution_count": 10,
   "metadata": {},
   "outputs": [
    {
     "data": {
      "text/latex": [
       "$\\displaystyle NE = \\left( p_{NE}, \\  q_{NE}\\right) = \\left( \\frac{a_{1}}{15} + \\frac{4 a_{2}}{15} + \\frac{2 c}{3}, \\  \\frac{14 a_{1}}{15} - \\frac{4 a_{2}}{15} - \\frac{2 c}{3}\\right)$"
      ],
      "text/plain": [
       "Eq(NE, Eq((p_NE, q_NE), (a_1/15 + 4*a_2/15 + 2*c/3, 14*a_1/15 - 4*a_2/15 - 2*c/3)))"
      ]
     },
     "execution_count": 10,
     "metadata": {},
     "output_type": "execute_result"
    }
   ],
   "source": [
    "NE_pq = sm.Eq(NE, sm.Eq((pne,qne), (NE_p[0], a1-2*NE_p[0]+NE_p[0])))\n",
    "NE_pq"
   ]
  },
  {
   "attachments": {},
   "cell_type": "markdown",
   "metadata": {},
   "source": [
    "We get a result where prices are not compeated down to marginal cost, as a result of inhomogeneus products. "
   ]
  },
  {
   "attachments": {},
   "cell_type": "markdown",
   "metadata": {},
   "source": [
    "# Numerical solution when goods are perfect substitutes\n",
    "\n",
    "We will now solve a Bertrand model numerically in a setting where goods are perfect substitutes. The expectation is that the equilibrium price will be equal to marginal cost for both firms, since a discrepancy in costs will mean that one firm captures the whole market. This gives the other firm an incentive to decrease price slighty below the one set by the firm with higher market share. This will continue until prices are equal to marginal costs.\n",
    "\n",
    "We start of by offering the solution to the most simple setting where only two firms compete. After this follows a solution to setting with multiple firms, where each firm compete against it's nearest neighbour. "
   ]
  },
  {
   "attachments": {},
   "cell_type": "markdown",
   "metadata": {},
   "source": [
    "### Solution to a setting with only two firms: "
   ]
  },
  {
   "cell_type": "code",
   "execution_count": 29,
   "metadata": {},
   "outputs": [
    {
     "name": "stdout",
     "output_type": "stream",
     "text": [
      "Quantity demanded equals 2.0 and profits for each firm is 2.0\n"
     ]
    }
   ],
   "source": [
    "# Finding demand plugging in baseline parameter values\n",
    "demand_Q = BM.demand_Q(a=8, b=1, p_i=4, p_j=4)\n",
    "\n",
    "# Finding profits\n",
    "profit = BM.profit(p_i=4, p_j=4, c=2, demand_Q=demand_Q)\n",
    "\n",
    "# Printing results\n",
    "print(f'Quantity demanded equals {demand_Q} and profits for each firm is {profit}')"
   ]
  },
  {
   "attachments": {},
   "cell_type": "markdown",
   "metadata": {},
   "source": [
    "### Solution to a setting with N competing firms:\n",
    "\n",
    "We will now look at what happens when we increase the number of firms in the game while letting firms interact repetitively. All firms have information on the price of their nearest neighbor and therefor are in competition against only one other player. The expected result is that the price set by all firms will be successively adjusted toward the marginal cost (c). As seen in the plot below we see that firms successively decrease their inital prices until they reach an equlibrium where all prices equal marginal cost as expected."
   ]
  },
  {
   "cell_type": "code",
   "execution_count": 31,
   "metadata": {},
   "outputs": [
    {
     "data": {
      "image/png": "[encoded data removed]",
      "text/plain": [
       "<Figure size 640x480 with 1 Axes>"
      ]
     },
     "metadata": {},
     "output_type": "display_data"
    }
   ],
   "source": [
    "# Set the parameters: Can be adjusted\n",
    "n_periods = 25  # Number of time periods\n",
    "n_firms = 10    # Number of firms\n",
    "mc = 10         # Marginal cost\n",
    "q = 1000        # Market demand (inelastic)\n",
    "\n",
    "# Set the initial prices\n",
    "p = np.zeros((n_firms, n_periods))\n",
    "p[:, 0] = np.arange(20, 20 + 10 * n_firms, 10)  # Initial prices with interval of 10\n",
    "\n",
    "\n",
    "# Simulate the prices over time\n",
    "for t in range(1, n_periods):\n",
    "    for i in range(n_firms):\n",
    "        # Calculate the competitor's price\n",
    "        j = (i + 1) % n_firms\n",
    "        competitor_price = p[j, t-1]\n",
    "        \n",
    "        # Calculate the firm's best response price\n",
    "        p_i = (mc + competitor_price) / 2\n",
    "        \n",
    "        # Check if the price is within the feasible range\n",
    "        if p_i > 0 and p_i < q:\n",
    "            p[i, t] = p_i\n",
    "        else:\n",
    "            # If not, set the price to the midpoint of the feasible range\n",
    "            p[i, t] = q / 2\n",
    "    \n",
    "# Plot the prices over time\n",
    "for i in range(n_firms):\n",
    "    plt.plot(p[i, :], label='Firm {}'.format(i+1))\n",
    "\n",
    "plt.xlabel('Time')\n",
    "plt.ylabel('Price')\n",
    "plt.legend()\n",
    "plt.show()\n"
   ]
  },
  {
   "attachments": {},
   "cell_type": "markdown",
   "metadata": {},
   "source": [
    "As seen in the plot prices of all the firms in the game converge to the same price, namely the marginal cost, which is the same for all firms. Firms with a higher initially set price will adjust their prices accordingly at a higher rate than firms, who intially set their price closer to their marhinal cost. This is in line with the analytical predictions for the Bertrand Model."
   ]
  },
  {
   "attachments": {},
   "cell_type": "markdown",
   "metadata": {},
   "source": [
    "# Further analysis: Cournot and Stackelberg duopoly"
   ]
  },
  {
   "attachments": {},
   "cell_type": "markdown",
   "metadata": {},
   "source": [
    "## Cournot Duopoly: \n",
    "\n",
    "To further investigate the effects of imperfect competition in different environments, we turn to the Cournot model where firms compete on quantities sold for consumption rather than on prices like in the Bertrand model. We will solve this model numerically for two firms. \n",
    "\n",
    "In a Cournot setting firms interact simultaneously in a static environment. We will relax this assumption later to see what happens if one firm has the role of a leader with information on the behaviour of the firm who acts last."
   ]
  },
  {
   "attachments": {},
   "cell_type": "markdown",
   "metadata": {},
   "source": [
    "**Model summary**\n",
    "\n",
    "To describe the Cournot model with two firms, we consider a static environment where both firms simultaneously choose quantities of a homogeneous good. Each firm aims to maximize its profit.\n",
    "\n",
    "**Total demand**\n",
    "$$q = D(p)$$\n",
    "\n",
    "**Individual demand faced by firm i**\n",
    "$$\n",
    "D_i(q_i,q_j) = \n",
    "\\begin{cases}\n",
    "0 & \\text{if } q_i + q_j > D^{-1}(q) \\\\\n",
    "D(q_i) & \\text{if } q_i + q_j \\leq D^{-1}(q)\n",
    "\\end{cases}\n",
    "$$\n",
    "\n",
    "**Profits**\n",
    "The profit function for firm i, given marginal cost c, is:\n",
    "$$pi_i(q_i,q_j) = (p(q_i,q_j) - c)q_i$$\n",
    "\n",
    "**Normal form (Nash)**\n",
    "In the normal form representation of the game:\n",
    "\n",
    "Firms/Players: \n",
    "$$I \\equiv \\{\\text{Firm1, Firm2}\\}$$\n",
    "\n",
    "Strategy sets: \n",
    "$$S_i \\equiv \\mathbb{R}^+$$\n",
    "\n",
    "Payoffs: \n",
    "$$\\pi_i(q_i,q_j)$$\n",
    "\n",
    "In this Cournot model, the firms choose quantities rather than prices, and each firm takes into account the impact of its own quantity on the market price through the demand function.\n"
   ]
  },
  {
   "attachments": {},
   "cell_type": "markdown",
   "metadata": {},
   "source": [
    "### Numerical solution to the simple model:"
   ]
  },
  {
   "cell_type": "code",
   "execution_count": 14,
   "metadata": {},
   "outputs": [
    {
     "name": "stdout",
     "output_type": "stream",
     "text": [
      "The solution is (q_1, q_2) = [6.66666667 6.66666667]\n"
     ]
    }
   ],
   "source": [
    "# Solution\n",
    "solution = Model().solve_eq()  \n",
    "print(f'The solution is (q_1, q_2) = {solution}')"
   ]
  },
  {
   "attachments": {},
   "cell_type": "markdown",
   "metadata": {},
   "source": [
    "### Solution to a setting with heterogenous cost functions:"
   ]
  },
  {
   "attachments": {},
   "cell_type": "markdown",
   "metadata": {},
   "source": [
    "Here we provide a numerical solution to Cournot Duopoly price competition. We include heterogenous cost functions for the firms in the model and investigate how the optimal production varies with the cost-function gap between the two firms. For this purpose we have inluded widgets in the visual representation of our results."
   ]
  },
  {
   "cell_type": "code",
   "execution_count": 15,
   "metadata": {},
   "outputs": [
    {
     "data": {
      "application/vnd.jupyter.widget-view+json": {
       "model_id": "5e98a258af1d42ebb4e590d4e2032817",
       "version_major": 2,
       "version_minor": 0
      },
      "text/plain": [
       "interactive(children=(FloatSlider(value=1.0, description='alpha', max=5.0, min=1.0, step=0.25), FloatSlider(va…"
      ]
     },
     "metadata": {},
     "output_type": "display_data"
    }
   ],
   "source": [
    "def plot(alpha = 1, beta = 1, Q = 20, c2= 0):\n",
    "    model = Model()\n",
    "    # rename model parameters\n",
    "    model.par.alpha = alpha\n",
    "    model.par.beta = beta\n",
    "    model.par.X = Q\n",
    "    model.par.c = [0, c2]\n",
    "    # create an x axis grid\n",
    "    range_c = np.arange(0,0.51,0.01)\n",
    "    # create an y axis grid\n",
    "    range_q = np.zeros((range_c.size,2))\n",
    "    for it, i in enumerate(range_c):\n",
    "        # save cost function for company 1\n",
    "        model.par.c[0] = i\n",
    "        # solve for equilibrium quantities\n",
    "        range_q[it] = model.solve_eq()\n",
    "    \n",
    "    plt.plot(range_c, range_q[:, 1], color='Red', label='Good 1')\n",
    "    plt.plot(range_c, range_q[:, 0], color='Green', label='Good 2')\n",
    "    plt.ylabel('Quantity')\n",
    "    plt.title('Nash Equilibirum for differentiated goods')\n",
    "    plt.xlabel('Difference in cost')\n",
    "    plt.legend()\n",
    "    plt.show()\n",
    "# plot()\n",
    "\n",
    "def widget():\n",
    "    widgets.interact(plot,\n",
    "                \n",
    "                 alpha=widgets.FloatSlider(\n",
    "                     description=\"alpha\", min=1, max=5, step=0.25, value=1),\n",
    "                 beta=widgets.FloatSlider(\n",
    "                     description=\"beta\", min=1, max=5, step=0.25, value=1),\n",
    "                 x0=widgets.FloatSlider(\n",
    "                     description=\"Q\", min=1, max=50, step=0.5, value=20),\n",
    "                 c2=widgets.FloatSlider(\n",
    "                     description=\"c2\", min=0, max=5, step=0.1, value=0)\n",
    "\n",
    "    );\n",
    "\n",
    "widget()\n"
   ]
  },
  {
   "attachments": {},
   "cell_type": "markdown",
   "metadata": {},
   "source": [
    "We conclude that that gap in optimal quantities varies with the cost-function gap between the firms as expected."
   ]
  },
  {
   "attachments": {},
   "cell_type": "markdown",
   "metadata": {},
   "source": [
    "## Stackelberg duopoly: Incorporating non-simultaneous responses "
   ]
  },
  {
   "attachments": {},
   "cell_type": "markdown",
   "metadata": {},
   "source": [
    "When firms do not have to act simultaneously, their responses may change. We investigate the effect on optimal quatitites produced when one firm acts as the leader in the game, while the other can act as a follower. The Cournot duopoly-setting will act as a starting point for this analysis: \n",
    "\n",
    "The game follows the structure: \n",
    "- Two firms decide on production quantities, $q_1$ and $q_2$\n",
    "- First, $Firm_1$ chooses $q_1$ (\"leader\")\n",
    "- Then, $Firm_2$ (\"follower\") observes this initial move and chooses own production, $q_2$\n",
    "- The inverse demand functions and total quantities are given by: $P(Q) = a - Q$ and $Q = q_1 + q_2$\n",
    "- Marginal costs are identical and constant at $c$\n"
   ]
  },
  {
   "attachments": {},
   "cell_type": "markdown",
   "metadata": {},
   "source": [
    "### Stage 1: \n",
    "$Firm_1$ sets quantity, $q_1$, with knowledge about the reaction function for $Firm_2$ (\"follower\"). Implicitly: $Firm_1$ knows what stage 2 of the game entails.\n",
    "\n",
    "### Stage 2: \n",
    "$Firm_2$ reacts to the quantity produced by $Firm_1$. In practice, the quantity produced by $Firm_1$ is inserted in to the reaction function of the follower. Since $q_1$ is set, $Firm_2$ solves the following: \n",
    "\n",
    "$$\\max_{q_2 \\geq 0} = \\pi_2(q_1, q_2) \\iff \\max_{q_2 \\geq 0} = q_2 (a-(q_1 + q_2) - c)$$\n",
    "\n",
    "Taking the FOC's will give us the following reaction function for $Firm_2$: \n",
    "\n",
    "$$R_2(q_1) = \\cfrac{a-q_1 - c}{2}$$\n",
    "\n",
    "### Stage 1: \n",
    "With information about this reaction function, Firm 1 can find the optimal quantity produced. The problem is solved analytically by $R_2(q_1)$ inserting in to the profit-maximization problem: \n",
    "\n",
    "$$\\max_{q_1 \\geq 0} \\quad \\pi_1(q_1, R_2(q_1)) \\iff \\max_{q_1 \\geq 0} \\quad q_1\\left(a - \\left(q_1 + \\cfrac{a-q_1-c}{2}\\right)-c\\right)$$\n",
    "\n",
    "### Expectation: \n",
    "If we compare our findings in the Stackelberg-setting with the equilibrium outcome from the simultaneous setting in the Cournot-model, we expect the leading firm to obtain higher profits and respectively larger quantities produced in optimum. This is a result of their informational advantage on the subsequent reaction of \"the follower\"-firm. \n",
    "\n",
    "Expectations for the output of the model are:\n",
    "\n",
    "$$q_1*^{s} > q_1*^{c} \\text{ and } q_2*^{s} < q_2*^{c} \\text{ and } q_1*^{s} > q_2*^{s} $$\n",
    "\n",
    "$$\\pi_1*^{s} > \\pi_1*^{c} \\text{ and } \\pi_2*^{s} < \\pi_2*^{c} \\text{ and } \\pi_1*^{s} > \\pi_2*^{s} $$\n",
    "\n",
    "In sum: It is an advantage to be the market leader."
   ]
  },
  {
   "cell_type": "code",
   "execution_count": 16,
   "metadata": {},
   "outputs": [
    {
     "name": "stdout",
     "output_type": "stream",
     "text": [
      "The quantity produced by the leader is 4.0, while the quantity produced by the follower is 2.0\n",
      "The willingness-to-pay for the total quantity produced of Q = q_1 + q_2 = 6.0 is D_P = 4.0\n",
      "The profit for the leader is 8.0 and the profit for the follower is 4.0\n"
     ]
    }
   ],
   "source": [
    "# Solving the model for 2 firms:\n",
    "a = 10\n",
    "c = 2\n",
    "sol = BM.sol_stackelberg(a, c)\n",
    "q_1 = sol[0]\n",
    "q_2 = sol[1]\n",
    "print(f'The quantity produced by the leader is {q_1}, while the quantity produced by the follower is {q_2}')\n",
    "\n",
    "# Returning the total demand (willingness to pay at total quantity produced)\n",
    "demand_P = BM.demand_P(a, q_1, q_2)\n",
    "print(f'The willingness-to-pay for the total quantity produced of Q = q_1 + q_2 = {q_1 + q_2} is D_P = {demand_P}')\n",
    "\n",
    "# Returning the profit for the leader and the follower\n",
    "profit_1 = q_1*(demand_P-c)\n",
    "profit_2 = q_2*(demand_P-c)\n",
    "\n",
    "print(f'The profit for the leader is {profit_1} and the profit for the follower is {profit_2}')"
   ]
  },
  {
   "attachments": {},
   "cell_type": "markdown",
   "metadata": {},
   "source": [
    "The results for the Stackelberg model are as expected: The leader produces more than than the follower: \n",
    "\n",
    "$$q_1^* = 4 > q_2^* = 2$$"
   ]
  },
  {
   "attachments": {},
   "cell_type": "markdown",
   "metadata": {},
   "source": [
    "# Conclusion"
   ]
  },
  {
   "attachments": {},
   "cell_type": "markdown",
   "metadata": {},
   "source": [
    "We find that by modelling different types of price competition, namely Bertrand, Cournot and Stackelberg in a duopoly as well as an oligopoly setting we are able to replicate results that correspond to theoretical expectations. We do this by solving the models analytically after which we find the equilibrium outcomes using numerical optimizers."
   ]
  }
 ],
 "metadata": {
  "kernelspec": {
   "display_name": "base",
   "language": "python",
   "name": "python3"
  },
  "language_info": {
   "codemirror_mode": {
    "name": "ipython",
    "version": 3
   },
   "file_extension": ".py",
   "mimetype": "text/x-python",
   "name": "python",
   "nbconvert_exporter": "python",
   "pygments_lexer": "ipython3",
   "version": "3.9.13"
  },
  "toc-autonumbering": true,
  "vscode": {
   "interpreter": {
    "hash": "40d3a090f54c6569ab1632332b64b2c03c39dcf918b08424e98f38b5ae0af88f"
   }
  }
 },
 "nbformat": 4,
 "nbformat_minor": 4
}
