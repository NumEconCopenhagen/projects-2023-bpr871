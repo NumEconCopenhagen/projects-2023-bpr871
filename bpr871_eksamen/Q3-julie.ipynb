{
 "cells": [
  {
   "attachments": {},
   "cell_type": "markdown",
   "metadata": {},
   "source": [
    "**Table of contents**<a id='toc0_'></a>    \n",
    "- 1. [Problem 1: Optimal taxation with government consumption](#toc1_)    \n",
    "- 2. [Problem 2: Labor adjustment costs](#toc2_)    \n",
    "- 3. [Problem 3: Global optimizer with refined multi-start](#toc3_)    \n",
    "\n",
    "<!-- vscode-jupyter-toc-config\n",
    "\tnumbering=true\n",
    "\tanchor=true\n",
    "\tflat=false\n",
    "\tminLevel=2\n",
    "\tmaxLevel=6\n",
    "\t/vscode-jupyter-toc-config -->\n",
    "<!-- THIS CELL WILL BE REPLACED ON TOC UPDATE. DO NOT WRITE YOUR TEXT IN THIS CELL -->"
   ]
  },
  {
   "cell_type": "code",
   "execution_count": 1,
   "metadata": {},
   "outputs": [
    {
     "name": "stderr",
     "output_type": "stream",
     "text": [
      "C:\\Users\\Julie\\AppData\\Local\\Temp\\ipykernel_18904\\399079297.py:11: MatplotlibDeprecationWarning: The seaborn styles shipped by Matplotlib are deprecated since 3.6, as they no longer correspond to the styles shipped by seaborn. However, they will remain available as 'seaborn-v0_8-<style>'. Alternatively, directly use the seaborn API instead.\n",
      "  plt.style.use('seaborn-whitegrid')\n"
     ]
    }
   ],
   "source": [
    "import numpy as np\n",
    "from types import SimpleNamespace\n",
    "from scipy import optimize\n",
    "%load_ext autoreload\n",
    "%autoreload 2\n",
    "\n",
    "%matplotlib inline\n",
    "import matplotlib.pyplot as plt\n",
    "from matplotlib import cm\n",
    "from mpl_toolkits.mplot3d import Axes3D\n",
    "plt.style.use('seaborn-whitegrid')\n",
    "\n",
    "plt.rcParams.update({\"axes.grid\":True,\"grid.color\":\"black\",\"grid.alpha\":\"0.25\",\"grid.linestyle\":\"--\"})\n",
    "plt.rcParams.update({'font.size': 14})"
   ]
  },
  {
   "attachments": {},
   "cell_type": "markdown",
   "metadata": {},
   "source": [
    "## 1. <a id='toc1_'></a>[Problem 1: Optimal taxation with government consumption](#toc0_)"
   ]
  },
  {
   "attachments": {},
   "cell_type": "markdown",
   "metadata": {},
   "source": [
    "\n",
    "Consider a worker choosing hours of labor, $L\\in[0,24]$, to maximize utility: \n",
    "\n",
    "$$\n",
    "\\begin{align*}\n",
    "V(w,\\tau,G)&=\\max_{L\\in[0,24]}\\ln\\left(C^{\\alpha}G^{1-\\alpha}\\right)-\\nu\\frac{L^{2}}{2}\\\\&\\text{s.t.}\\\\&C=\\kappa+(1-\\tau)wL\n",
    "\\end{align*}\n",
    "$$\n",
    "\n",
    "where \n",
    "\n",
    "* $C$ is *private* consumption with weight $\\alpha\\in(0,1)$.\n",
    "* $\\kappa > 0$ is the *free private* consumption component.\n",
    "* $C = (1-\\tau)wL$ is the *costly private* consumption component.\n",
    "* $w > 0 $ is the real wage.\n",
    "* $\\tau \\in (0,1)$ is the labor-income tax rate.\n",
    "* $G > 0 $ is *government* consumption with weight $1-\\alpha$.\n",
    "* $\\nu > 0$ is the disutility of labor scaling factor"
   ]
  },
  {
   "attachments": {},
   "cell_type": "markdown",
   "metadata": {},
   "source": [
    "\n",
    "The baseline parameters are:\n",
    "\n",
    "$$\n",
    "\\begin{align*}\n",
    "\\alpha &= 0.5\\\\\n",
    "\\kappa &= 1.0\\\\\n",
    "\\nu &= \\frac{1}{2\\cdot16^2} \\\\\n",
    "w &= 1.0 \\\\ \n",
    "\\tau &= 0.30 \\\\\n",
    "\\end{align*}\n",
    "$$"
   ]
  },
  {
   "attachments": {},
   "cell_type": "markdown",
   "metadata": {},
   "source": [
    "**Question 1:** Verify that the optimal labor supply choice is $L^{\\star}(\\tilde{w}) =\\frac{-\\kappa+\\sqrt{\\kappa^{2}+4\\frac{\\alpha}{\\nu}\\tilde{w}^2}}{2\\tilde{w}}$, where $\\tilde{w} = (1-\\tau)w$, for $G\\in\\left\\{1.0 , 2.0\\right\\}$."
   ]
  },
  {
   "cell_type": "code",
   "execution_count": 2,
   "metadata": {},
   "outputs": [],
   "source": [
    "# write your code here"
   ]
  },
  {
   "attachments": {},
   "cell_type": "markdown",
   "metadata": {},
   "source": [
    "**Question 2:** Illustrate how $L^{\\star}(\\tilde{w})$ depends on $w$."
   ]
  },
  {
   "cell_type": "code",
   "execution_count": 3,
   "metadata": {},
   "outputs": [],
   "source": [
    "# write your code here"
   ]
  },
  {
   "attachments": {},
   "cell_type": "markdown",
   "metadata": {},
   "source": [
    "\n",
    "We now consider a government, who chooses $\\tau$ and spend all of the taxes on government consumption so:\n",
    "\n",
    "$$\n",
    "G = \\tau w L^{\\star}((1-\\tau)w)\n",
    "$$\n",
    "\n",
    "**Question 3:** Plot the implied $L$, $G$ and worker utility for a grid of $\\tau$-values.\n"
   ]
  },
  {
   "cell_type": "code",
   "execution_count": 4,
   "metadata": {},
   "outputs": [],
   "source": [
    "# write your code here"
   ]
  },
  {
   "attachments": {},
   "cell_type": "markdown",
   "metadata": {},
   "source": [
    "**Question 4:** Find the socially optimal tax rate $\\tau^{\\star}\\in(0,1)$ maximizing worker utility. Illustrate your result."
   ]
  },
  {
   "cell_type": "code",
   "execution_count": 5,
   "metadata": {},
   "outputs": [],
   "source": [
    "# write your code here"
   ]
  },
  {
   "attachments": {},
   "cell_type": "markdown",
   "metadata": {},
   "source": [
    "A more general preference formulation for the worker is:\n",
    "\n",
    "$$\n",
    "\\begin{align*}\n",
    "\\mathcal{V}(w,\\tau,G)&=\\max_{L\\in[0,24]}\\frac{\\left[ \\left( \\alpha C^{\\frac{\\sigma-1}{\\sigma}}+(1-\\alpha) G^{\\frac{\\sigma-1}{\\sigma}} \\right)^{\\frac{\\sigma}{1-\\sigma} }\\right]^{1-\\rho}-1}{1-\\rho}- \\nu\\frac{L^{1+\\varepsilon}}{1+\\varepsilon},\\,\\,\\,\\varepsilon,\\rho,\\sigma>0,\\,\\,\\,\\rho,\\sigma\\neq1\\\\&\\text{s.t.}\\\\&C=\\kappa+(1-\\tau)wL\n",
    "\\end{align*}    \n",
    "$$\n",
    "\n",
    "Optimal labor supply is now $L^{\\star}(\\tilde{w},G)$."
   ]
  },
  {
   "attachments": {},
   "cell_type": "markdown",
   "metadata": {},
   "source": [
    "Questions 5 and 6 must be answered with the general formulation, and for 2 different set of parameters:\n",
    "\n",
    "- Set 1:  $\\sigma = 1.001$, $\\rho = 1.001$ and $\\varepsilon = 1.0$.\n",
    "- Set 2:  $\\sigma = 1.5$, $\\rho = 1.5$ and $\\varepsilon = 1.0 $."
   ]
  },
  {
   "attachments": {},
   "cell_type": "markdown",
   "metadata": {},
   "source": [
    "**Question 5:** Find the $G$ that solves $G = \\tau w L^{\\star}((1-\\tau)w,G)$ using the $\\tau$ found in question 4.\n",
    "\n",
    "*Hint: First write code that solves the worker problem for given values of $G$ and $\\tau$. Then find the correct G based on this.*"
   ]
  },
  {
   "cell_type": "code",
   "execution_count": 6,
   "metadata": {},
   "outputs": [],
   "source": [
    "# write your code here"
   ]
  },
  {
   "attachments": {},
   "cell_type": "markdown",
   "metadata": {},
   "source": [
    "**Question 6:** Find the socially optimal tax rate, $\\tau^{\\star}$, maximizing worker utility, while keeping $G = \\tau w L^{\\star}((1-\\tau)w,G)$."
   ]
  },
  {
   "cell_type": "code",
   "execution_count": 7,
   "metadata": {},
   "outputs": [],
   "source": [
    "# write your code here  "
   ]
  },
  {
   "attachments": {},
   "cell_type": "markdown",
   "metadata": {},
   "source": [
    "## 2. <a id='toc2_'></a>[Problem 2: Labor adjustment costs](#toc0_)"
   ]
  },
  {
   "attachments": {},
   "cell_type": "markdown",
   "metadata": {},
   "source": [
    "You own a hair salon. You employ hairdressers, $\\ell_t$, to produce haircuts, $y_t = \\ell_t$.\n",
    "\n",
    "The wage for each haridresser is $w$.\n",
    "\n",
    "The demand for haircuts implies that the price of haircuts you can charge is $p_t = \\kappa_t y_t^{-\\eta}$, where $\\kappa_t$ is a demand-shock and $\\eta \\in (0,1)$ measures the elasticity of demand.\n",
    "\n",
    "Profits are:\n",
    "\n",
    "$$\n",
    "\\Pi_t = p_t y_t - w \\ell_t = \\kappa_t \\ell_t^{1-\\eta} - w \\ell_t\n",
    "$$"
   ]
  },
  {
   "attachments": {},
   "cell_type": "markdown",
   "metadata": {},
   "source": [
    "Baseline parameters are:\n",
    "- $\\eta = 0.5$\n",
    "- $w = 1.0$"
   ]
  },
  {
   "attachments": {},
   "cell_type": "markdown",
   "metadata": {},
   "source": [
    "**Question 1:** Verify numerically that $\\ell_{t}=\\left(\\frac{(1-\\eta)\\kappa_{t}}{w}\\right)^{\\frac{1}{\\eta}}$ maximises profits, for $\\kappa\\in\\left\\{1.0 , 2.0\\right\\}$."
   ]
  },
  {
   "cell_type": "code",
   "execution_count": 8,
   "metadata": {},
   "outputs": [],
   "source": [
    "# write your code here"
   ]
  },
  {
   "attachments": {},
   "cell_type": "markdown",
   "metadata": {},
   "source": [
    "We now consider a *dynamic* version of the model.\n",
    "\n",
    "* The demand-shock is a so-called AR(1) in logs, \n",
    "\n",
    "$$\n",
    "\\log \\kappa_{t} = \\rho \\log \\kappa_{t-1} + \\epsilon_{t},\\,\\,\\, \\epsilon_{t+1} \\sim \\mathcal{N}(-0.5\\sigma_{\\epsilon}^2,\\sigma_{\\epsilon})\n",
    "$$\n",
    "\n",
    "* Any hiring or firing implies a fixed adjustment cost, $\\iota > 0 $.\n",
    "* Future profits are discounted with a monthly factor of $R \\in (0,1)$.\n",
    "\n",
    "The initial demand shock is $\\kappa_{-1} = 1$ and the planning horizon is 10 years, i.e. 120 months so $t \\in \\{0,1,2,\\dots,119\\}$. Initially you don't have any employees, $\\ell_{-1}=0$"
   ]
  },
  {
   "attachments": {},
   "cell_type": "markdown",
   "metadata": {},
   "source": [
    "\n",
    "The *ex post* value of the salon is *conditional* on the shock series is:\n",
    "\n",
    "$$\n",
    "h(\\epsilon_0,\\epsilon_1,\\dots,\\epsilon_{119}) = \\left[\\sum_{t=0}^{119}R^{-t}\\left[\\kappa_{t}\\ell_{t}^{1-\\eta}-w\\ell_{t}-\\boldsymbol{1}_{\\ell_{t}\\neq\\ell_{t-1}}\\iota\\right]\\right]\n",
    "$$\n",
    "\n",
    "The *ex ante* expected value of the salon can be approximated by\n",
    "\n",
    "$$\n",
    "H = \\mathbb{E}[h(\\epsilon_0,\\epsilon_1,\\dots,\\epsilon_{119})] \\approx \\frac{1}{K}\\sum_{k=0}^{K} h(\\epsilon_0^k,\\epsilon_1^k,\\dots,\\epsilon_{119}^k)\n",
    "$$\n",
    "\n",
    "where each $k\\in\\{0,1,\\dots,K-1\\}$ is a random shock series. Maximizing profitability means maximizing $H$.\n"
   ]
  },
  {
   "attachments": {},
   "cell_type": "markdown",
   "metadata": {},
   "source": [
    "Baseline parameters are: \n",
    "\n",
    "- $\\rho = 0.90$\n",
    "- $\\iota = 0.01$\n",
    "- $\\sigma_{\\epsilon} = 0.10$\n",
    "- $R = \\left(1+0.01\\right)^{1/12}$"
   ]
  },
  {
   "attachments": {},
   "cell_type": "markdown",
   "metadata": {},
   "source": [
    "**Question 2:** Calculate $H$ if the policy  $\\ell_{t}=\\left(\\frac{(1-\\eta)\\kappa_{t}}{w}\\right)^{\\frac{1}{\\eta}}$ from question 1 is followed. Choose $K$ so the approximation is good enough to not affect your results substantially."
   ]
  },
  {
   "cell_type": "code",
   "execution_count": 24,
   "metadata": {},
   "outputs": [
    {
     "name": "stdout",
     "output_type": "stream",
     "text": [
      "H is = 162.64105163839386 for K = 100\n"
     ]
    },
    {
     "data": {
      "text/plain": [
       "\"\\n\\n\\nmax_index = np.argmax(H_values)\\nmax_delta = delta_values[max_index]\\nmax_h = H_values[max_index]\\n\\n# Plot delta against h\\nplt.plot(delta_values, H_values)\\nplt.scatter(max_delta, max_h, color='red', label=f'Max h = {max_h:.3f}')\\nplt.axvline(x=max_delta, color='red', linestyle='--', label=f'Delta = {max_delta:.3f}')\\nplt.xlabel('$\\\\Delta$')\\nplt.ylabel('h')\\nplt.title('Ex post value of salon, h($\\\\epsilon_0,\\\\epsilon_1,...,\\\\epsilon_{119}$), given values of $\\\\Delta$')\\nplt.grid(True)\\nplt.legend()\\nplt.show()\\n\""
      ]
     },
     "execution_count": 24,
     "metadata": {},
     "output_type": "execute_result"
    }
   ],
   "source": [
    "########## Question 2 final #######\n",
    "\n",
    "\n",
    "par = SimpleNamespace()\n",
    "par.sigma_epsilon = 0.1\n",
    "par.kappa_init = 1\n",
    "par.eta = 0.5\n",
    "par.w = 1.0\n",
    "par.rho = 0.9\n",
    "par.iota = 0.01\n",
    "par.r = 0.01\n",
    "par.T = 120\n",
    "par.delta = 0.00\n",
    "par.K = 100\n",
    "\n",
    "\n",
    "from Q2 import *\n",
    "#K = 10\n",
    "H, H_cum = calculate_H(par)\n",
    "#print(H)\n",
    "#plt.plot(H_cum)\n",
    "#plt.show()\n",
    "\n",
    "\n",
    "#optimal_delta(par)\n",
    "\n",
    "\"\"\"\n",
    "\n",
    "\n",
    "max_index = np.argmax(H_values)\n",
    "max_delta = delta_values[max_index]\n",
    "max_h = H_values[max_index]\n",
    "\n",
    "# Plot delta against h\n",
    "plt.plot(delta_values, H_values)\n",
    "plt.scatter(max_delta, max_h, color='red', label=f'Max h = {max_h:.3f}')\n",
    "plt.axvline(x=max_delta, color='red', linestyle='--', label=f'Delta = {max_delta:.3f}')\n",
    "plt.xlabel('$\\Delta$')\n",
    "plt.ylabel('h')\n",
    "plt.title('Ex post value of salon, h($\\epsilon_0,\\epsilon_1,...,\\epsilon_{119}$), given values of $\\Delta$')\n",
    "plt.grid(True)\n",
    "plt.legend()\n",
    "plt.show()\n",
    "\"\"\""
   ]
  },
  {
   "cell_type": "code",
   "execution_count": 10,
   "metadata": {},
   "outputs": [
    {
     "ename": "NameError",
     "evalue": "name 'kappa_init' is not defined",
     "output_type": "error",
     "traceback": [
      "\u001b[1;31m---------------------------------------------------------------------------\u001b[0m",
      "\u001b[1;31mNameError\u001b[0m                                 Traceback (most recent call last)",
      "\u001b[1;32m~\\AppData\\Local\\Temp\\ipykernel_18868\\25968448.py\u001b[0m in \u001b[0;36m<module>\u001b[1;34m\u001b[0m\n\u001b[0;32m     51\u001b[0m     \u001b[1;32mreturn\u001b[0m \u001b[0mkappas\u001b[0m\u001b[1;33m\u001b[0m\u001b[1;33m\u001b[0m\u001b[0m\n\u001b[0;32m     52\u001b[0m \u001b[1;33m\u001b[0m\u001b[0m\n\u001b[1;32m---> 53\u001b[1;33m \u001b[0mkappa_values2\u001b[0m \u001b[1;33m=\u001b[0m \u001b[0mkappas\u001b[0m\u001b[1;33m(\u001b[0m\u001b[0mkappa_init\u001b[0m\u001b[1;33m)\u001b[0m\u001b[1;33m\u001b[0m\u001b[1;33m\u001b[0m\u001b[0m\n\u001b[0m\u001b[0;32m     54\u001b[0m \u001b[0mprint\u001b[0m\u001b[1;33m(\u001b[0m\u001b[0mkappas\u001b[0m\u001b[1;33m)\u001b[0m\u001b[1;33m\u001b[0m\u001b[1;33m\u001b[0m\u001b[0m\n\u001b[0;32m     55\u001b[0m \u001b[1;33m\u001b[0m\u001b[0m\n",
      "\u001b[1;31mNameError\u001b[0m: name 'kappa_init' is not defined"
     ]
    }
   ],
   "source": [
    "\"\"\"# write your code here \n",
    "\n",
    "import numpy as np\n",
    "\n",
    "# fra hjaltes\n",
    "def profit_func(l, kappa, eta=0.5, w=1.0):\n",
    "    return kappa * l**(1 - eta) - w * l\n",
    "\n",
    "\n",
    "eta = 0.5\n",
    "w = 1.0\n",
    "rho = 0.9\n",
    "iota = 0.01\n",
    "sigma_epsilon = 0.1\n",
    "R = (1+0.01)**(1/12)\n",
    "kappa_init = 1\n",
    "T = 120\n",
    "\n",
    "#draw epsilons\n",
    "#np.random.seed(1998)\n",
    "#epsilons = np.random.normal((0.5*sigma_epsilon**2), sigma_epsilon, (120,1))\n",
    "#epsilon_list = epsilons.tolist()\n",
    "\n",
    "\n",
    "def kappas(kappa_init):\n",
    "\n",
    "    #draw epsilons\n",
    "    np.random.seed(1998)\n",
    "    epsilons = np.random.normal((0.5*sigma_epsilon**2), sigma_epsilon, (120,1))\n",
    "    epsilon_list = epsilons.tolist()\n",
    "\n",
    "    # Initialize the list with an empty array\n",
    "    log_kappas = np.zeros((len(epsilons),)) \n",
    "\n",
    "    for i,epsilon in enumerate(epsilons):\n",
    "        \n",
    "        if i==0: \n",
    "            log_kappa_t = np.log(kappa_init) + epsilon\n",
    "        else:\n",
    "            # Calculate the autoregressive value at time t\n",
    "            log_kappa_t = log_kappas[i-1] + epsilon\n",
    "\n",
    "        # add log_kappa_t to the list of log_kappas\n",
    "        log_kappas[i] = log_kappa_t\n",
    "\n",
    "        # convert to the exponential values of log_kappa to get the kappa values\n",
    "        kappas = np.exp(log_kappas)\n",
    "\n",
    "    return kappas\n",
    "\n",
    "kappa_values2 = kappas(kappa_init)\n",
    "print(kappas)\"\"\"\n",
    "\n"
   ]
  },
  {
   "cell_type": "code",
   "execution_count": null,
   "metadata": {},
   "outputs": [],
   "source": [
    "# create lists for t, l and kappa values\n",
    "t_values = list(range(120))\n",
    "l_values = []\n",
    "k_values = kappa_values2.tolist()\n",
    "\n",
    "# calculate l values for each kappa\n",
    "for kappa in kappa_values2:\n",
    "    l = (((1-eta) * kappa) / w) ** (1 / eta)\n",
    "    l_values.append(l)\n",
    "print(l_values)\n",
    "#print(len(t_values))\n",
    "#print(len(l_values))\n",
    "#print(len(k_values))\n",
    "\n",
    "\n",
    "# initialise h values and define l in t-1\n",
    "h_value = 0\n",
    "l_previous = 0\n",
    "for t, kappa, l in zip(t_values, k_values, l_values):\n",
    "    lt = l\n",
    "    indicator = 1 if lt != l_previous else 0\n",
    "    h_value += R ** (-t) * (kappa * lt**(1 - eta) - w * lt - indicator * iota)\n",
    "    l_previous = lt\n",
    "\n",
    "    #print(lt, l_previous, indicator, h_value)\n",
    "\n",
    "    #return h_value\n",
    "print(h_value)"
   ]
  },
  {
   "cell_type": "code",
   "execution_count": null,
   "metadata": {},
   "outputs": [],
   "source": [
    "from Q2 import *\n",
    "K = range(100)\n",
    "h_test2 = calculate_H(K)\n",
    "#print(h_test2)\n",
    "plt.plot(h_test2)\n",
    "plt.show()"
   ]
  },
  {
   "attachments": {},
   "cell_type": "markdown",
   "metadata": {},
   "source": [
    "Next, we consider policies on the form:\n",
    "\n",
    "$$\n",
    "\n",
    "\\ell_{t}=\\begin{cases}\n",
    "\\ell_t^{\\ast}  & \\text{if }\\left|\\ell_{t-1}-\\ell_t^{\\ast} \\right|>\\Delta\\\\\n",
    "\\ell_{t-1} & \\text{else }\n",
    "\\end{cases}\n",
    "\\\\\n",
    "\\text{where}\\,\\,\\ell_t^{\\ast} = \\left(\\frac{(1-\\eta)\\kappa_{t}}{w}\\right)^{\\frac{1}{\\eta}} \\\\\n",
    "\n",
    "$$\n",
    "With $\\Delta \\geq 0$ and $\\Delta = 0$ being the previous policy.\n"
   ]
  },
  {
   "attachments": {},
   "cell_type": "markdown",
   "metadata": {},
   "source": [
    "\n",
    "**Question 3:** Calculate $H$ if the policy above was followed with $\\Delta = 0.05$. Does it improve profitability?"
   ]
  },
  {
   "cell_type": "code",
   "execution_count": null,
   "metadata": {},
   "outputs": [],
   "source": [
    "# write your code here"
   ]
  },
  {
   "attachments": {},
   "cell_type": "markdown",
   "metadata": {},
   "source": [
    "**Question 4:** Find the optimal $\\Delta$ maximizing $H$. Illustrate your result."
   ]
  },
  {
   "cell_type": "code",
   "execution_count": null,
   "metadata": {},
   "outputs": [],
   "source": [
    "# write your code here"
   ]
  },
  {
   "attachments": {},
   "cell_type": "markdown",
   "metadata": {},
   "source": [
    "\n",
    "**Question 5:** Suggest an alternative policy you believe might improve profitability. Implement and test your policy.\n",
    "\n"
   ]
  },
  {
   "cell_type": "code",
   "execution_count": null,
   "metadata": {},
   "outputs": [],
   "source": [
    "# write your code here"
   ]
  },
  {
   "attachments": {},
   "cell_type": "markdown",
   "metadata": {},
   "source": [
    "## 3. <a id='toc3_'></a>[Problem 3: Global optimizer with refined multi-start](#toc0_)"
   ]
  },
  {
   "attachments": {},
   "cell_type": "markdown",
   "metadata": {},
   "source": [
    "We consider the Griewank function:\n",
    "\n",
    "$$ f(\\boldsymbol{x}) = \\sum^n_{i=1} \\frac{x^2_i}{4000}-\\prod^n_{i=1}\\cos\\left(\\frac{x_i}{\\sqrt{i}}\\right)+1$$\n",
    "\n",
    "The **global minimum** of this function is $f(0,0) = 0$ (remember: $\\cos(0)=1$).<br>\n",
    "But the function also have a lot of **local minima**."
   ]
  },
  {
   "cell_type": "code",
   "execution_count": null,
   "metadata": {},
   "outputs": [],
   "source": [
    "def griewank(x):\n",
    "    return griewank_(x[0],x[1])\n",
    "    \n",
    "def griewank_(x1,x2):\n",
    "    A = x1**2/4000 + x2**2/4000\n",
    "    B = np.cos(x1/np.sqrt(1))*np.cos(x2/np.sqrt(2))\n",
    "    return A-B+1"
   ]
  },
  {
   "attachments": {},
   "cell_type": "markdown",
   "metadata": {},
   "source": [
    "A **refined global optimizer with multi-start** is:\n",
    "\n",
    "1. Choose *bounds* for $\\mathbf{x}$ and *tolerance* $\\tau > 0$.\n",
    "2. Choose number of *warm-up iterations*, $\\underline{K} > 0$ and *maximum number of iterations*, $K > \\underline{K}$.\n",
    "3. In each iteration for $k \\in \\{0,1,\\dots,K-1\\}$:\n",
    "\n",
    "    A. Draw random $\\mathbf{x}^k$ uniformly within chosen bounds.\n",
    "\n",
    "    B. If $k < \\underline{K}$ go to step E.\n",
    "\n",
    "    C. Calculate $\\chi^k = 0.50\\cdot\\frac{2}{1+\\exp((k-\\underline{K})/100)}$  \n",
    "\n",
    "    D. Set $\\mathbf{x}^{k0} = \\chi^k \\mathbf{x}^k + (1-\\chi^k)\\mathbf{x}^{\\ast} $\n",
    "\n",
    "    E. Run optimizer with $\\mathbf{x}^{k0}$ as initial guess and $\\mathbf{x}^{k\\ast}$ as result.\n",
    "\n",
    "    F. Set $\\mathbf{x}^{\\ast} = \\mathbf{x}^{k\\ast}$ if $k = 0$ or $f(\\mathbf{x}^{k\\ast}) < f(\\mathbf{x}^{\\ast})$\n",
    "\n",
    "    G. If $f(\\mathbf{x}^{\\ast}) < \\tau$ go to step 4.\n",
    "\n",
    "4. Return the result $\\mathbf{x}^{\\ast}$."
   ]
  },
  {
   "attachments": {},
   "cell_type": "markdown",
   "metadata": {},
   "source": [
    "As settings we choose:\n",
    "\n",
    "* $x_1,x_2 \\in  [-600,600]$\n",
    "* $\\tau = 10^{-8}$\n",
    "* $\\underline{K}=10$\n",
    "* $K=1000$\n",
    "\n",
    "The optimizer in Step 3.E is `BFGS` with a tolerance of $\\tau$."
   ]
  },
  {
   "attachments": {},
   "cell_type": "markdown",
   "metadata": {},
   "source": [
    "**Question 1:** Implement the refined global optimizer with multi-start. Illustrate how the effective initial guesses $\\mathbf{x}^{k0}$ vary with the iteration counter $k$."
   ]
  },
  {
   "attachments": {},
   "cell_type": "markdown",
   "metadata": {},
   "source": [
    "****************** EXPLAIN METHOD HERE ***********************\n",
    "\n",
    "We begin by defining $chi^k$ and $x^{k0}$ as functions of "
   ]
  },
  {
   "cell_type": "code",
   "execution_count": 3,
   "metadata": {},
   "outputs": [
    {
     "name": "stdout",
     "output_type": "stream",
     "text": [
      "   0: x0 = (  71.33, 313.79) -> x0_k = (  71.33, 313.79) -> converged at (  72.22, 315.13) with f =  26.15596809\n",
      "   1: x0 = (-306.56, 326.03) -> x0_k = (-306.56, 326.03) -> converged at (-304.58, 324.00) with f =  49.47500237\n",
      "   2: x0 = (-174.63, 356.04) -> x0_k = (-174.63, 356.04) -> converged at (-175.84, 355.07) with f =  39.28478579\n",
      "   3: x0 = (-184.80, -67.35) -> x0_k = (-184.80, -67.35) -> converged at (-185.26, -66.58) with f =   9.69394407\n",
      "   4: x0 = (-236.04, -69.46) -> x0_k = (-236.04, -69.46) -> converged at (-235.50, -66.58) with f =  14.98140034\n",
      "   5: x0 = (  87.85,-521.20) -> x0_k = (  87.85,-521.20) -> converged at (  87.92,-523.72) with f =  70.57612568\n",
      "   6: x0 = (-571.09, 384.75) -> x0_k = (-571.09, 384.75) -> converged at (-571.47, 381.68) with f = 118.14848482\n",
      "   7: x0 = (-161.83, 266.51) -> x0_k = (-161.83, 266.51) -> converged at (-163.28, 266.30) with f =  24.41594286\n",
      "   8: x0 = (-118.70,  66.04) -> x0_k = (-118.70,  66.04) -> converged at (-116.18,  66.58) with f =   4.48540273\n",
      "   9: x0 = (-331.64, 377.18) -> x0_k = (-331.64, 377.18) -> converged at (-329.70, 377.26) with f =  62.80706054\n",
      "  11: x0 = ( 217.57,  63.86) -> x0_k = (  49.86,  65.22) -> converged at (  50.24,  62.14) with f =   1.59759351\n",
      "  30: x0 = (-145.47,-189.74) -> x0_k = ( -37.86, -51.25) -> converged at ( -37.68, -53.26) with f =   1.06502959\n",
      "  40: x0 = (  49.94, -27.91) -> x0_k = (  -0.39, -42.47) -> converged at (   0.00, -44.38) with f =   0.49298719\n",
      " 102: x0 = (  69.38,  74.03) -> x0_k = (  19.77, -10.64) -> converged at (  18.84,  -8.88) with f =   0.10850154\n",
      " 147: x0 = ( -58.33,  27.55) -> x0_k = (   3.20,  -1.50) -> converged at (   3.14,  -4.44) with f =   0.00739604\n",
      " 356: x0 = (-160.27, 196.49) -> x0_k = (  -1.84,   1.68) -> converged at (  -0.00,  -0.00) with f =   0.00000000\n",
      "\n",
      "best solution:\n",
      " x = (  -0.00,  -0.00) -> f =   0.00000000  )\n"
     ]
    },
    {
     "data": {
      "image/png": "[encoded data removed]",
      "text/plain": [
       "<Figure size 640x480 with 1 Axes>"
      ]
     },
     "metadata": {},
     "output_type": "display_data"
    }
   ],
   "source": [
    "\"\"\"# set initial settings\n",
    "x_bound = 600\n",
    "tau = 1e-10\n",
    "K_ = 10\n",
    "K = 1000\"\"\"\n",
    "\n",
    "from Q3 import *\n",
    "optimizer()"
   ]
  },
  {
   "cell_type": "code",
   "execution_count": null,
   "metadata": {},
   "outputs": [],
   "source": [
    "\"\"\"# draw x values for the multi-start\n",
    "np.random.seed(1998)\n",
    "x0s = -x_bound + (2*x_bound)*np.random.uniform(size=(K,2)) # in [-600,600]\n",
    "xs = np.empty((K,2))\n",
    "fs = np.empty(K)\n",
    "\n",
    "# clarify that the x values are within the bounds\n",
    "print(f'x values are bounded within {-x_bound} and {x_bound}')\n",
    "print(f'min(x0s) = {np.min(x0s):.2f}, max(x0s) = {np.max(x0s):.2f}')\"\"\""
   ]
  },
  {
   "cell_type": "code",
   "execution_count": null,
   "metadata": {},
   "outputs": [],
   "source": [
    "\"\"\"# define chi_k and jump length for x values\n",
    "def chi(k, K_ = 10):\n",
    "    chi_value = 0.5 * 2 / (1 + np.exp((k - K_) / 100))\n",
    "    return chi_value\n",
    "\n",
    "def x_k0(chi_k, xs_k, xopt):\n",
    "    xs_k0 = chi_k * xs_k + (1 - chi_k) * xopt\n",
    "    return xs_k0\"\"\"\n",
    "    "
   ]
  },
  {
   "cell_type": "code",
   "execution_count": null,
   "metadata": {},
   "outputs": [],
   "source": [
    "\"\"\"# setting up empty optimization parameters\n",
    "fopt = np.inf \n",
    "xopt = np.nan\n",
    "\n",
    "# setting up containers for plotting \n",
    "k_values = []\n",
    "x0_values = []\n",
    "x0k_values = []\n",
    "#x0k_values222 = np.empty((2,1000)) \n",
    "\n",
    "# for loop for optimizing over different x values\n",
    "for k,x0 in enumerate(x0s):\n",
    "    K_ = 10 # NEEDS TO BE ABLE TO UPDATE AUTOMATICALLY FROM THE GLOBAL SCOPE\n",
    "\n",
    "\n",
    "    if k < K_:                          # skip if warm-up iterations\n",
    "        x0_k = x0  \n",
    "    elif k > K_ or k == K_:             # refined x values \n",
    "        chi_k = chi(k, K_)\n",
    "        x0_k = x_k0(chi_k, x0, xopt)\n",
    "    else:   \n",
    "        print('Error with k')\n",
    "\n",
    "    # save the values for plotting\n",
    "    k_values.append(k)\n",
    "    x0_values.append(x0s)\n",
    "    x0k_listformat = x0_k.tolist()\n",
    "    x0k_values.append(x0k_listformat)\n",
    "    #x0k_values222.extend(x0_k)\n",
    "    \n",
    "    # optimization\n",
    "    result = optimize.minimize(griewank,x0_k,method='BFGS',tol=tau)\n",
    "    xs[k,:] = result.x\n",
    "    f = result.fun\n",
    "\n",
    "    # print first 10 or if better than seen yet\n",
    "    if k < 10 or f < fopt: # plot 10 first or if improving\n",
    "        if f < fopt:\n",
    "            fopt = f\n",
    "            xopt = xs[k,:]\n",
    "            \n",
    "        print(f'{k:4d}: x0 = ({x0[0]:7.2f},{x0[1]:7.2f})',end='')\n",
    "        print(f' -> x0_k = ({x0_k[0]:7.2f},{x0_k[1]:7.2f})',end='')\n",
    "        print(f' -> converged at ({xs[k][0]:7.2f},{xs[k][1]:7.2f}) with f = {f:12.8f}')\n",
    "        \n",
    "# best solution\n",
    "print(f'\\nbest solution:\\n x = ({xopt[0]:7.2f},{xopt[1]:7.2f}) -> f = {fopt:12.8f}  )')\n",
    "\"\"\""
   ]
  },
  {
   "cell_type": "code",
   "execution_count": null,
   "metadata": {},
   "outputs": [],
   "source": [
    "\"\"\"# plotting\n",
    "plt.plot(k_values, x0k_values)\n",
    "plt.title('Effective $x^{k0}$ values for the iteration counter $k$')\n",
    "plt.xlabel('$k$')\n",
    "plt.ylabel('$x^{k0}$ values')\n",
    "plt.show()\n",
    "\"\"\""
   ]
  },
  {
   "attachments": {},
   "cell_type": "markdown",
   "metadata": {},
   "source": [
    "**Question 2:** Is it a better idea to set $\\underline{K} = 100$? Is the convergence faster?"
   ]
  },
  {
   "cell_type": "code",
   "execution_count": null,
   "metadata": {},
   "outputs": [],
   "source": [
    "\n",
    "    "
   ]
  },
  {
   "cell_type": "code",
   "execution_count": null,
   "metadata": {},
   "outputs": [],
   "source": []
  },
  {
   "cell_type": "code",
   "execution_count": null,
   "metadata": {},
   "outputs": [],
   "source": []
  }
 ],
 "metadata": {
  "kernelspec": {
   "display_name": "base",
   "language": "python",
   "name": "python3"
  },
  "language_info": {
   "codemirror_mode": {
    "name": "ipython",
    "version": 3
   },
   "file_extension": ".py",
   "mimetype": "text/x-python",
   "name": "python",
   "nbconvert_exporter": "python",
   "pygments_lexer": "ipython3",
   "version": "3.9.13"
  },
  "orig_nbformat": 4
 },
 "nbformat": 4,
 "nbformat_minor": 2
}
