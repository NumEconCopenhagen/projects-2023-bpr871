{
 "cells": [
  {
   "attachments": {},
   "cell_type": "markdown",
   "metadata": {},
   "source": [
    "**Table of contents**<a id='toc0_'></a>    \n",
    "- 1. [Problem 1: Optimal taxation with government consumption](#toc1_)    \n",
    "- 2. [Problem 2: Labor adjustment costs](#toc2_)    \n",
    "- 3. [Problem 3: Global optimizer with refined multi-start](#toc3_)    \n",
    "\n",
    "<!-- vscode-jupyter-toc-config\n",
    "\tnumbering=true\n",
    "\tanchor=true\n",
    "\tflat=false\n",
    "\tminLevel=2\n",
    "\tmaxLevel=6\n",
    "\t/vscode-jupyter-toc-config -->\n",
    "<!-- THIS CELL WILL BE REPLACED ON TOC UPDATE. DO NOT WRITE YOUR TEXT IN THIS CELL -->"
   ]
  },
  {
   "cell_type": "code",
   "execution_count": 1,
   "metadata": {},
   "outputs": [],
   "source": [
    "# write your code here\n",
    "import numpy as np\n",
    "import matplotlib.pyplot as plt\n",
    "from scipy import optimize\n",
    "from scipy.optimize import minimize\n",
    "import sympy as sm\n",
    "import pandas as pd \n",
    "import ipywidgets as widgets\n",
    "from IPython.display import display\n",
    "\n",
    "# autoreload modules when code is run\n",
    "%load_ext autoreload\n",
    "%autoreload 2\n"
   ]
  },
  {
   "attachments": {},
   "cell_type": "markdown",
   "metadata": {},
   "source": [
    "## 1. <a id='toc1_'></a>[Problem 1: Optimal taxation with government consumption](#toc0_)"
   ]
  },
  {
   "attachments": {},
   "cell_type": "markdown",
   "metadata": {},
   "source": [
    "\n",
    "Consider a worker choosing hours of labor, $L\\in[0,24]$, to maximize utility: \n",
    "\n",
    "$$\n",
    "\\begin{align*}\n",
    "V(w,\\tau,G)&=\\max_{L\\in[0,24]}\\ln\\left(C^{\\alpha}G^{1-\\alpha}\\right)-\\nu\\frac{L^{2}}{2}\\\\&\\text{s.t.}\\\\&C=\\kappa+(1-\\tau)wL\n",
    "\\end{align*}\n",
    "$$\n",
    "\n",
    "where \n",
    "\n",
    "* $C$ is *private* consumption with weight $\\alpha\\in(0,1)$.\n",
    "* $\\kappa > 0$ is the *free private* consumption component.\n",
    "* $C = (1-\\tau)wL$ is the *costly private* consumption component.\n",
    "* $w > 0 $ is the real wage.\n",
    "* $\\tau \\in (0,1)$ is the labor-income tax rate.\n",
    "* $G > 0 $ is *government* consumption with weight $1-\\alpha$.\n",
    "* $\\nu > 0$ is the disutility of labor scaling factor"
   ]
  },
  {
   "attachments": {},
   "cell_type": "markdown",
   "metadata": {},
   "source": [
    "\n",
    "The baseline parameters are:\n",
    "\n",
    "$$\n",
    "\\begin{align*}\n",
    "\\alpha &= 0.5\\\\\n",
    "\\kappa &= 1.0\\\\\n",
    "\\nu &= \\frac{1}{2\\cdot16^2} \\\\\n",
    "w &= 1.0 \\\\ \n",
    "\\tau &= 0.30 \\\\\n",
    "\\end{align*}\n",
    "$$"
   ]
  },
  {
   "attachments": {},
   "cell_type": "markdown",
   "metadata": {},
   "source": [
    "**Question 1:** Verify that the optimal labor supply choice is $L^{\\star}(\\tilde{w}) =\\frac{-\\kappa+\\sqrt{\\kappa^{2}+4\\frac{\\alpha}{\\nu}\\tilde{w}^2}}{2\\tilde{w}}$, where $\\tilde{w} = (1-\\tau)w$, for $G\\in\\left\\{1.0 , 2.0\\right\\}$."
   ]
  },
  {
   "cell_type": "code",
   "execution_count": 2,
   "metadata": {},
   "outputs": [],
   "source": [
    "# write your code here"
   ]
  },
  {
   "attachments": {},
   "cell_type": "markdown",
   "metadata": {},
   "source": [
    "**Question 2:** Illustrate how $L^{\\star}(\\tilde{w})$ depends on $w$."
   ]
  },
  {
   "cell_type": "code",
   "execution_count": 3,
   "metadata": {},
   "outputs": [],
   "source": [
    "# write your code here"
   ]
  },
  {
   "attachments": {},
   "cell_type": "markdown",
   "metadata": {},
   "source": [
    "\n",
    "We now consider a government, who chooses $\\tau$ and spend all of the taxes on government consumption so:\n",
    "\n",
    "$$\n",
    "G = \\tau w L^{\\star}((1-\\tau)w)\n",
    "$$\n",
    "\n",
    "**Question 3:** Plot the implied $L$, $G$ and worker utility for a grid of $\\tau$-values.\n"
   ]
  },
  {
   "cell_type": "code",
   "execution_count": 4,
   "metadata": {},
   "outputs": [],
   "source": [
    "# write your code here"
   ]
  },
  {
   "attachments": {},
   "cell_type": "markdown",
   "metadata": {},
   "source": [
    "**Question 4:** Find the socially optimal tax rate $\\tau^{\\star}\\in(0,1)$ maximizing worker utility. Illustrate your result."
   ]
  },
  {
   "cell_type": "code",
   "execution_count": 5,
   "metadata": {},
   "outputs": [],
   "source": [
    "# write your code here"
   ]
  },
  {
   "attachments": {},
   "cell_type": "markdown",
   "metadata": {},
   "source": [
    "A more general preference formulation for the worker is:\n",
    "\n",
    "$$\n",
    "\\begin{align*}\n",
    "\\mathcal{V}(w,\\tau,G)&=\\max_{L\\in[0,24]}\\frac{\\left[ \\left( \\alpha C^{\\frac{\\sigma-1}{\\sigma}}+(1-\\alpha) G^{\\frac{\\sigma-1}{\\sigma}} \\right)^{\\frac{\\sigma}{1-\\sigma} }\\right]^{1-\\rho}-1}{1-\\rho}- \\nu\\frac{L^{1+\\varepsilon}}{1+\\varepsilon},\\,\\,\\,\\varepsilon,\\rho,\\sigma>0,\\,\\,\\,\\rho,\\sigma\\neq1\\\\&\\text{s.t.}\\\\&C=\\kappa+(1-\\tau)wL\n",
    "\\end{align*}    \n",
    "$$\n",
    "\n",
    "Optimal labor supply is now $L^{\\star}(\\tilde{w},G)$."
   ]
  },
  {
   "attachments": {},
   "cell_type": "markdown",
   "metadata": {},
   "source": [
    "Questions 5 and 6 must be answered with the general formulation, and for 2 different set of parameters:\n",
    "\n",
    "- Set 1:  $\\sigma = 1.001$, $\\rho = 1.001$ and $\\varepsilon = 1.0$.\n",
    "- Set 2:  $\\sigma = 1.5$, $\\rho = 1.5$ and $\\varepsilon = 1.0 $."
   ]
  },
  {
   "attachments": {},
   "cell_type": "markdown",
   "metadata": {},
   "source": [
    "**Question 5:** Find the $G$ that solves $G = \\tau w L^{\\star}((1-\\tau)w,G)$ using the $\\tau$ found in question 4.\n",
    "\n",
    "*Hint: First write code that solves the worker problem for given values of $G$ and $\\tau$. Then find the correct G based on this.*"
   ]
  },
  {
   "cell_type": "code",
   "execution_count": 6,
   "metadata": {},
   "outputs": [],
   "source": [
    "# write your code here"
   ]
  },
  {
   "attachments": {},
   "cell_type": "markdown",
   "metadata": {},
   "source": [
    "**Question 6:** Find the socially optimal tax rate, $\\tau^{\\star}$, maximizing worker utility, while keeping $G = \\tau w L^{\\star}((1-\\tau)w,G)$."
   ]
  },
  {
   "cell_type": "code",
   "execution_count": 7,
   "metadata": {},
   "outputs": [],
   "source": [
    "# write your code here  "
   ]
  },
  {
   "attachments": {},
   "cell_type": "markdown",
   "metadata": {},
   "source": [
    "## 2. <a id='toc2_'></a>[Problem 2: Labor adjustment costs](#toc0_)"
   ]
  },
  {
   "attachments": {},
   "cell_type": "markdown",
   "metadata": {},
   "source": [
    "You own a hair salon. You employ hairdressers, $\\ell_t$, to produce haircuts, $y_t = \\ell_t$.\n",
    "\n",
    "The wage for each haridresser is $w$.\n",
    "\n",
    "The demand for haircuts implies that the price of haircuts you can charge is $p_t = \\kappa_t y_t^{-\\eta}$, where $\\kappa_t$ is a demand-shock and $\\eta \\in (0,1)$ measures the elasticity of demand.\n",
    "\n",
    "Profits are:\n",
    "\n",
    "$$\n",
    "\\Pi_t = p_t y_t - w \\ell_t = \\kappa_t \\ell_t^{1-\\eta} - w \\ell_t\n",
    "$$"
   ]
  },
  {
   "attachments": {},
   "cell_type": "markdown",
   "metadata": {},
   "source": [
    "Baseline parameters are:\n",
    "- $\\eta = 0.5$\n",
    "- $w = 1.0$"
   ]
  },
  {
   "attachments": {},
   "cell_type": "markdown",
   "metadata": {},
   "source": [
    "**Question 1:** Verify numerically that $\\ell_{t}=\\left(\\frac{(1-\\eta)\\kappa_{t}}{w}\\right)^{\\frac{1}{\\eta}}$ maximises profits, for $\\kappa\\in\\left\\{1.0 , 2.0\\right\\}$."
   ]
  },
  {
   "cell_type": "code",
   "execution_count": 8,
   "metadata": {},
   "outputs": [
    {
     "name": "stdout",
     "output_type": "stream",
     "text": [
      "Profit, FOC and profit maximizing employees:\n"
     ]
    },
    {
     "data": {
      "text/latex": [
       "$\\displaystyle \\Pi_{1} = - \\ell_{t} w + \\ell_{t}^{1 - \\eta} \\kappa_{t}$"
      ],
      "text/plain": [
       "Eq(\\Pi_1, -\\ell_t*w + \\ell_t**(1 - \\eta)*\\kappa_t)"
      ]
     },
     "metadata": {},
     "output_type": "display_data"
    },
    {
     "data": {
      "text/latex": [
       "$\\displaystyle - w + \\frac{\\ell_{t}^{1 - \\eta} \\kappa_{t} \\left(1 - \\eta\\right)}{\\ell_{t}} = 0$"
      ],
      "text/plain": [
       "Eq(-w + \\ell_t**(1 - \\eta)*\\kappa_t*(1 - \\eta)/\\ell_t, 0)"
      ]
     },
     "metadata": {},
     "output_type": "display_data"
    },
    {
     "data": {
      "text/latex": [
       "$\\displaystyle \\ell_{t} = \\left(\\frac{\\kappa_{t} \\left(1 - \\eta\\right)}{w}\\right)^{\\frac{1}{\\eta}}$"
      ],
      "text/plain": [
       "Eq(\\ell_t, (\\kappa_t*(1 - \\eta)/w)**(1/\\eta))"
      ]
     },
     "metadata": {},
     "output_type": "display_data"
    }
   ],
   "source": [
    "# We define the parameters within the problem:\n",
    "p, y, w, n, l, k, P1= sm.symbols('p_t y_t w \\eta \\ell_t \\kappa_t \\Pi_1')\n",
    "\n",
    "# And define the profit function for the salon:\n",
    "Profit = sm.Eq(P1, k * l**(1 - n) - w * l)\n",
    "\n",
    "# We derive the FOC and set it equal to 0:\n",
    "FOC = sm.Eq(sm.diff(k * l**(1 - n) - w * l,l),0)\n",
    "\n",
    "# We finally solve the FOC's and isolate the expression for optimal l:\n",
    "sol = sm.solve(FOC, l)\n",
    "sol0 = sm.Eq(l,sol[0])\n",
    "\n",
    "# We present the results:\n",
    "print('Profit, FOC and profit maximizing employees:')\n",
    "display(Profit, FOC, sol0)"
   ]
  },
  {
   "cell_type": "code",
   "execution_count": 9,
   "metadata": {},
   "outputs": [
    {
     "data": {
      "text/latex": [
       "$\\displaystyle \\ell_{t} = 0.25 \\kappa_{t}^{2.0}$"
      ],
      "text/plain": [
       "Eq(\\ell_t, 0.25*\\kappa_t**2.0)"
      ]
     },
     "metadata": {},
     "output_type": "display_data"
    },
    {
     "name": "stdout",
     "output_type": "stream",
     "text": [
      "For k = 1.000, l = 0.250\n",
      "For k = 1.100, l = 0.302\n",
      "For k = 1.200, l = 0.360\n",
      "For k = 1.300, l = 0.422\n",
      "For k = 1.400, l = 0.490\n",
      "For k = 1.500, l = 0.562\n",
      "For k = 1.600, l = 0.640\n",
      "For k = 1.700, l = 0.722\n",
      "For k = 1.800, l = 0.810\n",
      "For k = 1.900, l = 0.902\n",
      "For k = 2.000, l = 1.000\n"
     ]
    }
   ],
   "source": [
    "# To evaluate l_t with the baseline parameters, we define the parameters:\n",
    "par_values = {\n",
    "    n: 0.5,\n",
    "    w: 1.0,\n",
    "}\n",
    "\n",
    "# We incorporate the baseline parameters in sol0:\n",
    "sol_0_evaluated = sol0.subs(par_values)\n",
    "display(sol_0_evaluated)\n",
    "\n",
    "# We evaluate l for different values of k in {1.0,2.0}\n",
    "optimal_l_values = []\n",
    "k_values = np.linspace(1.0, 2.0, num=11)\n",
    "\n",
    "# Save the values of l for different k's:\n",
    "for k in k_values:\n",
    "    sol = sm.solve((k*(1-n) * l**(1 - n))/l - w, l)\n",
    "    optimal_l_values.append(sol[0].subs(par_values))\n",
    "\n",
    "# Print the results:\n",
    "for k, l_val in zip(k_values, optimal_l_values):\n",
    "    print(f\"For k = {k:.3f}, l = {l_val:.3f}\")"
   ]
  },
  {
   "cell_type": "code",
   "execution_count": 24,
   "metadata": {},
   "outputs": [
    {
     "data": {
      "application/vnd.jupyter.widget-view+json": {
       "model_id": "7bd846321e7949b298e9a09ac51ffe72",
       "version_major": 2,
       "version_minor": 0
      },
      "text/plain": [
       "interactive(children=(FloatSlider(value=1.0, description='kappa', max=2.0, min=1.0, step=0.010101010101010102)…"
      ]
     },
     "metadata": {},
     "output_type": "display_data"
    },
    {
     "data": {
      "image/png": "[encoded data removed]",
      "text/plain": [
       "<Figure size 640x480 with 1 Axes>"
      ]
     },
     "metadata": {},
     "output_type": "display_data"
    }
   ],
   "source": [
    "# We define the profit function:\n",
    "def profit_func(l, kappa, eta=0.5, w=1.0):\n",
    "    return kappa * l**(1 - eta) - w * l\n",
    "\n",
    "# We define the optimal l:\n",
    "def calculate_optimal_l(kappa, eta=0.50, w=1.0):\n",
    "    return (((1 - eta) * kappa) / w) ** (1 / eta)\n",
    "\n",
    "# We define different values of l and kappa: \n",
    "l_values = np.linspace(0.01, 10, num=100)\n",
    "kappa_values = np.linspace(1.0, 2.0, num=100)\n",
    "optimal_l_values = []\n",
    "\n",
    "# Calculate optimal values of l, given different values of kappa:\n",
    "for kappa in kappa_values:\n",
    "    optimal_l = calculate_optimal_l(kappa)\n",
    "    optimal_l_values.append(optimal_l)\n",
    "    profit_with_maximizing_ls = profit_func(optimal_l, kappa)\n",
    "    # print(f\"For kappa = {kappa}, optimal l_t = {optimal_l}, maximum profit = {profit_with_maximizing_ls}\")\n",
    "\n",
    "# Plotting the profit function with kappa-widget, such that we can evaluate the maximum:\n",
    "def update_plot(kappa):\n",
    "    profits = profit_func(l_values, kappa)\n",
    "    positive_profits_mask = profits > 0\n",
    "    positive_l_values = l_values[positive_profits_mask]\n",
    "    positive_profits = profits[positive_profits_mask]\n",
    "    \n",
    "    plt.plot(positive_l_values, positive_profits)\n",
    "    plt.xlabel('l')\n",
    "    plt.ylabel('Profit, i.e. $\\Pi$')\n",
    "    plt.title('Profit vs l for kappa = {:.2f}'.format(kappa))\n",
    "    plt.grid(True)\n",
    "    plt.show()\n",
    "\n",
    "kappa_slider = widgets.FloatSlider(value=kappa_values[0], min=kappa_values[0], max=kappa_values[-1], step=(kappa_values[-1] - kappa_values[0]) / (len(kappa_values) - 1), description='kappa')\n",
    "\n",
    "widgets.interact(update_plot, kappa=kappa_slider)\n",
    "    \n",
    "# Ploting of the optimal number of employees, given the level of demand shocks:\n",
    "plt.plot(kappa_values, optimal_l_values)\n",
    "plt.xlabel('Demand shocks, i.e. $\\kappa_t$')\n",
    "plt.ylabel('Number of employed hair dressers, i.e. $\\ell_t$')\n",
    "plt.title('The profit maximizing level of employment')\n",
    "plt.show()"
   ]
  },
  {
   "attachments": {},
   "cell_type": "markdown",
   "metadata": {},
   "source": [
    "We now consider a *dynamic* version of the model.\n",
    "\n",
    "* The demand-shock is a so-called AR(1) in logs, \n",
    "\n",
    "$$\n",
    "\\log \\kappa_{t} = \\rho \\log \\kappa_{t-1} + \\epsilon_{t},\\,\\,\\, \\epsilon_{t+1} \\sim \\mathcal{N}(-0.5\\sigma_{\\epsilon}^2,\\sigma_{\\epsilon})\n",
    "$$\n",
    "\n",
    "* Any hiring or firing implies a fixed adjustment cost, $\\iota > 0 $.\n",
    "* Future profits are discounted with a monthly factor of $R \\in (0,1)$.\n",
    "\n",
    "The initial demand shock is $\\kappa_{-1} = 1$ and the planning horizon is 10 years, i.e. 120 months so $t \\in \\{0,1,2,\\dots,119\\}$. Initially you don't have any employees, $\\ell_{-1}=0$"
   ]
  },
  {
   "attachments": {},
   "cell_type": "markdown",
   "metadata": {},
   "source": [
    "\n",
    "The *ex post* value of the salon is *conditional* on the shock series is:\n",
    "\n",
    "$$\n",
    "h(\\epsilon_0,\\epsilon_1,\\dots,\\epsilon_{119}) = \\left[\\sum_{t=0}^{119}R^{-t}\\left[\\kappa_{t}\\ell_{t}^{1-\\eta}-w\\ell_{t}-\\boldsymbol{1}_{\\ell_{t}\\neq\\ell_{t-1}}\\iota\\right]\\right]\n",
    "$$\n",
    "\n",
    "The *ex ante* expected value of the salon can be approximated by\n",
    "\n",
    "$$\n",
    "H = \\mathbb{E}[h(\\epsilon_0,\\epsilon_1,\\dots,\\epsilon_{119})] \\approx \\frac{1}{K}\\sum_{k=0}^{K} h(\\epsilon_0^k,\\epsilon_1^k,\\dots,\\epsilon_{119}^k)\n",
    "$$\n",
    "\n",
    "where each $k\\in\\{0,1,\\dots,K-1\\}$ is a random shock series. Maximizing profitability means maximizing $H$.\n"
   ]
  },
  {
   "attachments": {},
   "cell_type": "markdown",
   "metadata": {},
   "source": [
    "Baseline parameters are: \n",
    "\n",
    "- $\\rho = 0.90$\n",
    "- $\\iota = 0.01$\n",
    "- $\\sigma_{\\epsilon} = 0.10$\n",
    "- $R = \\left(1+0.01\\right)^{1/12}$"
   ]
  },
  {
   "attachments": {},
   "cell_type": "markdown",
   "metadata": {},
   "source": [
    "**Question 2:** Calculate $H$ if the policy  $\\ell_{t}=\\left(\\frac{(1-\\eta)\\kappa_{t}}{w}\\right)^{\\frac{1}{\\eta}}$ from question 1 is followed. Choose $K$ so the approximation is good enough to not affect your results substantially."
   ]
  },
  {
   "cell_type": "code",
   "execution_count": 11,
   "metadata": {},
   "outputs": [],
   "source": [
    "eta = 0.5\n",
    "w = 1.0\n",
    "rho = 0.9\n",
    "iota = 0.01\n",
    "sigma_epsilon = 0.1\n",
    "R = (1+0.01)**(1/12)\n",
    "kappa_init = 1\n",
    "T = 120\n",
    "\n",
    "#draw epsilons\n",
    "np.random.seed(1998)\n",
    "epsilons = np.random.normal((0.5*sigma_epsilon**2), sigma_epsilon, (120,1))\n",
    "epsilon_list = epsilons.tolist()\n",
    "\n",
    "\n",
    "def kappas(kappa_init, epsilons):\n",
    "\n",
    "    # Initialize the list with an empty array\n",
    "    log_kappas = np.zeros((len(epsilons),)) \n",
    "\n",
    "    for i,epsilon in enumerate(epsilons):\n",
    "        \n",
    "        if i==0: \n",
    "            log_kappa_t = np.log(kappa_init) + epsilon\n",
    "        else:\n",
    "            # Calculate the autoregressive value at time t\n",
    "            log_kappa_t = log_kappas[i-1] + epsilon\n",
    "\n",
    "        # add log_kappa_t to the list of log_kappas\n",
    "        log_kappas[i] = log_kappa_t\n",
    "\n",
    "        # convert to the exponential values of log_kappa to get the kappa values\n",
    "        kappas = np.exp(log_kappas)\n",
    "\n",
    "    return kappas\n",
    "\n",
    "kappas = kappas(kappa_init, epsilons)"
   ]
  },
  {
   "cell_type": "code",
   "execution_count": 12,
   "metadata": {},
   "outputs": [
    {
     "name": "stdout",
     "output_type": "stream",
     "text": [
      "137.53130132797781\n"
     ]
    }
   ],
   "source": [
    "# create lists for t, l and kappa values\n",
    "t_values = list(range(120))\n",
    "l_values = []\n",
    "k_values = kappas.tolist()\n",
    "\n",
    "# calculate l values for each kappa\n",
    "for kappa in kappas:\n",
    "    l = (((1-eta) * kappa) / w) ** (1 / eta)\n",
    "    l_values.append(l)\n",
    "\n",
    "\n",
    "# initialise h values and define l in t-1\n",
    "h_value = 0\n",
    "l_previous = 0\n",
    "for t, kappa, l in zip(t_values, k_values, l_values):\n",
    "    lt = l\n",
    "    indicator = 1 if lt != l_previous else 0\n",
    "    h_value += R ** (-t) * (kappa * lt**(1 - eta) - w * lt - indicator * iota)\n",
    "    l_previous = lt\n",
    "\n",
    "print(h_value)"
   ]
  },
  {
   "attachments": {},
   "cell_type": "markdown",
   "metadata": {},
   "source": [
    "Herfra og ned er gammelt!"
   ]
  },
  {
   "cell_type": "code",
   "execution_count": 13,
   "metadata": {},
   "outputs": [],
   "source": [
    "# # To evaluate l_t with the baseline parameters, we define the parameters:\n",
    "# par_values = {\n",
    "#     n: 0.5,\n",
    "#     w: 1.0,\n",
    "# }\n",
    "\n",
    "# # We incorporate the baseline parameters in sol0:\n",
    "# sol_0_evaluated = sol0.subs(par_values)\n",
    "\n",
    "# # We evaluate l for different values of k in {1.0,2.0}\n",
    "# l_values = []\n",
    "# k_values = kappas.tolist()\n",
    "# t_values = list(range(120))\n",
    "\n",
    "# # Save the values of l for different k's:\n",
    "# for kappa in kappas:\n",
    "#     sol = sm.solve(kappa * l**(1 - n) - w * l, l)\n",
    "#     l_values.append(sol[0].subs(par_values))\n",
    "\n",
    "\n",
    "# # Print the results:\n",
    "# # for k_val, l_val in zip(k_values, l_values):\n",
    "# #     print(f\"For k = {k:.3f}, l = {l_val:.3f}\")"
   ]
  },
  {
   "cell_type": "code",
   "execution_count": 14,
   "metadata": {},
   "outputs": [],
   "source": [
    "# print(zip(k_values, l_values))\n",
    "\n",
    "\n",
    "# # h_value = 0\n",
    "# # l_previous = 0\n",
    "# # for i, (kappa, l) in enumerate(zip(k_values, l_values)):\n",
    "# #     lt = l\n",
    "# #     indicator = 1 if lt != l_previous else 0\n",
    "# #     h_value += R ** (-i) * (kappa * lt**(1 - eta) - w * lt - indicator * iota)\n",
    "# #     l_previous = lt\n",
    "# #     print(lt, l_previous, indicator)"
   ]
  },
  {
   "cell_type": "code",
   "execution_count": 15,
   "metadata": {},
   "outputs": [],
   "source": [
    "# def calculate_h(k_values, l_values, t_values, R=0.99917, iota=0.01, eta=0.5, w=1.0):\n",
    "#     h_value = 0\n",
    "#     l_previous = 0\n",
    "#     for t, kappa, l in t_values, k_values, l_values:\n",
    "#         lt = l\n",
    "#         indicator = 1 if lt != l_previous else 0\n",
    "#         h_value += R ** (-t) * (kappa * lt**(1 - eta) - w * lt - indicator * iota)\n",
    "#         l_previous = lt\n",
    "#         print(lt, l_previous, indicator)\n",
    "#     return h_value\n",
    "\n",
    "# h_value = calculate_h(k_values, l_values, t_values)\n",
    "# h_value\n",
    "\n",
    "# # # for k_val, l_val in zip(k_values, l_values):\n",
    "\n",
    "\n",
    "# # def calculate_h(kappa_series, l_series):\n",
    "# #     h_value = 0\n",
    "# #     l_previous = 0\n",
    "# #     for t in range(T):\n",
    "# #         lt = l_series[t]\n",
    "# #         indicator = 1 if lt != l_previous else 0\n",
    "# #         h_value += R ** (-t) * (kappa_series[t] * lt**(1 - eta) - w * lt - indicator * iota)\n",
    "# #         l_previous = lt\n",
    "# #     return h_value"
   ]
  },
  {
   "cell_type": "code",
   "execution_count": 16,
   "metadata": {},
   "outputs": [],
   "source": [
    "# # Step 1: Define the parameters\n",
    "# rho = 0.90\n",
    "# iota = 0.01\n",
    "# sigma_epsilon = 0.10\n",
    "# R = (1 + 0.01) ** (1 / 12)\n",
    "# eta = 0.5\n",
    "# w = 1\n",
    "# T = 120\n",
    "\n",
    "# # Step 2: Define the function for calculating l_t\n",
    "# def calculate_lt(kappa):\n",
    "#     return (((1 - eta) * kappa) / w) ** (1 / eta)\n",
    "\n",
    "# # Step 3: Define the function for calculating h\n",
    "# def calculate_h(kappa_series, l_series):\n",
    "#     h_value = 0\n",
    "#     l_previous = 0\n",
    "#     for t in range(T):\n",
    "#         lt = l_series[t]\n",
    "#         indicator = 1 if lt != l_previous else 0\n",
    "#         h_value += R ** (-t) * (kappa_series[t] * lt**(1 - eta) - w * lt - indicator * iota)\n",
    "#         l_previous = lt\n",
    "#     return h_value\n",
    "\n",
    "# # Step 4: Calculate the approximate ex ante expected value of the salon, H\n",
    "# K = 1000  # Number of shock series\n",
    "# h_values = []\n",
    "# for _ in range(K):\n",
    "#     kappa_series = np.random.normal(-0.5 * sigma_epsilon**2, sigma_epsilon, T)\n",
    "#     l_series = [calculate_lt(kappa) for kappa in kappa_series]\n",
    "#     h = calculate_h(kappa_series, l_series)\n",
    "#     h_values.append(h)\n",
    "\n",
    "# H = np.mean(h_values)\n",
    "\n",
    "# print(\"Approximate ex ante expected value of the salon, H:\", H)"
   ]
  },
  {
   "attachments": {},
   "cell_type": "markdown",
   "metadata": {},
   "source": [
    "Next, we consider policies on the form:\n",
    "\n",
    "$$\n",
    "\n",
    "\\ell_{t}=\\begin{cases}\n",
    "\\ell_t^{\\ast}  & \\text{if }\\left|\\ell_{t-1}-\\ell_t^{\\ast} \\right|>\\Delta\\\\\n",
    "\\ell_{t-1} & \\text{else }\n",
    "\\end{cases}\n",
    "\\\\\n",
    "\\text{where}\\,\\,\\ell_t^{\\ast} = \\left(\\frac{(1-\\eta)\\kappa_{t}}{w}\\right)^{\\frac{1}{\\eta}} \\\\\n",
    "\n",
    "$$\n",
    "With $\\Delta \\geq 0$ and $\\Delta = 0$ being the previous policy.\n"
   ]
  },
  {
   "attachments": {},
   "cell_type": "markdown",
   "metadata": {},
   "source": [
    "\n",
    "**Question 3:** Calculate $H$ if the policy above was followed with $\\Delta = 0.05$. Does it improve profitability?"
   ]
  },
  {
   "cell_type": "code",
   "execution_count": 17,
   "metadata": {},
   "outputs": [
    {
     "name": "stdout",
     "output_type": "stream",
     "text": [
      "137.80710165533156\n"
     ]
    }
   ],
   "source": [
    "# Added parameter\n",
    "delta = 0.05\n",
    "\n",
    "# Defining the new policy for l_t\n",
    "def calculate_lt(kappa, l_previous):\n",
    "    lt_star = (((1 - eta) * kappa) / w) ** (1 / eta)\n",
    "    if abs(l_previous - lt_star) > delta:\n",
    "        return lt_star\n",
    "    else:\n",
    "        return l_previous\n",
    "\n",
    "# Calculate l values for each kappa\n",
    "for kappa in k_values:\n",
    "    l = (((1 - eta) * kappa) / w) ** (1 / eta)\n",
    "    l_values.append(l)\n",
    "\n",
    "\n",
    "# Initialize h_value and define l_previous\n",
    "h_value = 0\n",
    "l_previous = 0\n",
    "\n",
    "# Calculate h_value for each t\n",
    "for t, kappa, l in zip(t_values, k_values, l_values):\n",
    "    lt = calculate_lt(kappa, l_previous)  # Calculate lt using the updated policy\n",
    "    indicator = 1 if lt != l_previous else 0\n",
    "    h_value += R ** (-t) * (kappa * lt**(1 - eta) - w * lt - indicator * iota)\n",
    "    l_previous = lt\n",
    "\n",
    "print(h_value)"
   ]
  },
  {
   "attachments": {},
   "cell_type": "markdown",
   "metadata": {},
   "source": [
    "**Question 4:** Find the optimal $\\Delta$ maximizing $H$. Illustrate your result."
   ]
  },
  {
   "cell_type": "code",
   "execution_count": 18,
   "metadata": {},
   "outputs": [
    {
     "data": {
      "image/png": "[encoded data removed]",
      "text/plain": [
       "<Figure size 640x480 with 1 Axes>"
      ]
     },
     "metadata": {},
     "output_type": "display_data"
    }
   ],
   "source": [
    "delta_values = np.linspace(0.0, 1.0, num=1000)\n",
    "h_values = []\n",
    "\n",
    "# Initialize h_value and define l_previous\n",
    "h_value = 0\n",
    "\n",
    "for delta in delta_values:\n",
    "    h_value = 0\n",
    "    l_previous = 0\n",
    "\n",
    "    for t, kappa, l in zip(t_values, k_values, l_values):\n",
    "        lt = calculate_lt(kappa, l_previous)  # Calculate lt using the updated policy\n",
    "        indicator = 1 if lt != l_previous else 0\n",
    "        h_value += R ** (-t) * (kappa * lt**(1 - eta) - w * lt - indicator * iota)\n",
    "        l_previous = lt\n",
    "    h_values.append(h_value)\n",
    "\n",
    "# Print the results:\n",
    "for delta, h_val in zip(delta_values, h_values):\n",
    "      f\"For delta = {delta:.3f}, h = {h_val:.3f}\"\n",
    "\n",
    "\n",
    "# Find the index of the maximum h_value and corresponding delta value\n",
    "max_index = np.argmax(h_values)\n",
    "max_delta = delta_values[max_index]\n",
    "max_h = h_values[max_index]\n",
    "\n",
    "# Plot delta against h\n",
    "plt.plot(delta_values, h_values)\n",
    "plt.scatter(max_delta, max_h, color='red', label=f'Max h = {max_h:.3f}')\n",
    "plt.axvline(x=max_delta, color='red', linestyle='--', label=f'Delta = {max_delta:.3f}')\n",
    "plt.xlabel('$\\Delta$')\n",
    "plt.ylabel('h')\n",
    "plt.title('Ex post value of salon, h($\\epsilon_0,\\epsilon_1,...,\\epsilon_{119}$), given values of $\\Delta$')\n",
    "plt.grid(True)\n",
    "plt.legend()\n",
    "plt.show()\n"
   ]
  },
  {
   "attachments": {},
   "cell_type": "markdown",
   "metadata": {},
   "source": [
    "\n",
    "**Question 5:** Suggest an alternative policy you believe might improve profitability. Implement and test your policy.\n",
    "\n"
   ]
  },
  {
   "cell_type": "code",
   "execution_count": 19,
   "metadata": {},
   "outputs": [],
   "source": [
    "# write your code here"
   ]
  },
  {
   "attachments": {},
   "cell_type": "markdown",
   "metadata": {},
   "source": [
    "## 3. <a id='toc3_'></a>[Problem 3: Global optimizer with refined multi-start](#toc0_)"
   ]
  },
  {
   "attachments": {},
   "cell_type": "markdown",
   "metadata": {},
   "source": [
    "We consider the Griewank function:\n",
    "\n",
    "$$ f(\\boldsymbol{x}) = \\sum^n_{i=1} \\frac{x^2_i}{4000}-\\prod^n_{i=1}\\cos\\left(\\frac{x_i}{\\sqrt{i}}\\right)+1$$\n",
    "\n",
    "The **global minimum** of this function is $f(0,0) = 0$ (remember: $\\cos(0)=1$).<br>\n",
    "But the function also have a lot of **local minima**."
   ]
  },
  {
   "cell_type": "code",
   "execution_count": 20,
   "metadata": {},
   "outputs": [],
   "source": [
    "def griewank(x):\n",
    "    return griewank_(x[0],x[1])\n",
    "    \n",
    "def griewank_(x1,x2):\n",
    "    A = x1**2/4000 + x2**2/4000\n",
    "    B = np.cos(x1/np.sqrt(1))*np.cos(x2/np.sqrt(2))\n",
    "    return A-B+1"
   ]
  },
  {
   "attachments": {},
   "cell_type": "markdown",
   "metadata": {},
   "source": [
    "A **refined global optimizer with multi-start** is:\n",
    "\n",
    "1. Choose *bounds* for $\\mathbf{x}$ and *tolerance* $\\tau > 0$.\n",
    "2. Choose number of *warm-up iterations*, $\\underline{K} > 0$ and *maximum number of iterations*, $K > \\underline{K}$.\n",
    "3. In each iteration for $k \\in \\{0,1,\\dots,K-1\\}$:\n",
    "\n",
    "    A. Draw random $\\mathbf{x}^k$ uniformly within chosen bounds.\n",
    "\n",
    "    B. If $k < \\underline{K}$ go to step E.\n",
    "\n",
    "    C. Calculate $\\chi^k = 0.50\\cdot\\frac{2}{1+\\exp((k-\\underline{K})/100)}$  \n",
    "\n",
    "    D. Set $\\mathbf{x}^{k0} = \\chi^k \\mathbf{x}^k + (1-\\chi^k)\\mathbf{x}^{\\ast} $\n",
    "\n",
    "    E. Run optimizer with $\\mathbf{x}^{k0}$ as initial guess and $\\mathbf{x}^{k\\ast}$ as result.\n",
    "\n",
    "    F. Set $\\mathbf{x}^{\\ast} = \\mathbf{x}^{k\\ast}$ if $k = 0$ or $f(\\mathbf{x}^{k\\ast}) < f(\\mathbf{x}^{\\ast})$\n",
    "\n",
    "    G. If $f(\\mathbf{x}^{\\ast}) < \\tau$ go to step 4.\n",
    "\n",
    "4. Return the result $\\mathbf{x}^{\\ast}$."
   ]
  },
  {
   "attachments": {},
   "cell_type": "markdown",
   "metadata": {},
   "source": [
    "As settings we choose:\n",
    "\n",
    "* $x_1,x_2 \\in  [-600,600]$\n",
    "* $\\tau = 10^{-8}$\n",
    "* $\\underline{K}=10$\n",
    "* $K=1000$\n",
    "\n",
    "The optimizer in Step 3.E is `BFGS` with a tolerance of $\\tau$."
   ]
  },
  {
   "attachments": {},
   "cell_type": "markdown",
   "metadata": {},
   "source": [
    "**Question 1:** Implement the refined global optimizer with multi-start. Illustrate how the effective initial guesses $\\mathbf{x}^{k0}$ vary with the iteration counter $k$."
   ]
  },
  {
   "cell_type": "code",
   "execution_count": 21,
   "metadata": {},
   "outputs": [],
   "source": [
    "# write your code here"
   ]
  },
  {
   "attachments": {},
   "cell_type": "markdown",
   "metadata": {},
   "source": [
    "**Question 2:** Is it a better idea to set $\\underline{K} = 100$? Is the convergence faster?"
   ]
  },
  {
   "cell_type": "code",
   "execution_count": 22,
   "metadata": {},
   "outputs": [],
   "source": [
    "# write your code here"
   ]
  }
 ],
 "metadata": {
  "kernelspec": {
   "display_name": "base",
   "language": "python",
   "name": "python3"
  },
  "language_info": {
   "codemirror_mode": {
    "name": "ipython",
    "version": 3
   },
   "file_extension": ".py",
   "mimetype": "text/x-python",
   "name": "python",
   "nbconvert_exporter": "python",
   "pygments_lexer": "ipython3",
   "version": "3.9.16"
  },
  "orig_nbformat": 4,
  "vscode": {
   "interpreter": {
    "hash": "40d3a090f54c6569ab1632332b64b2c03c39dcf918b08424e98f38b5ae0af88f"
   }
  }
 },
 "nbformat": 4,
 "nbformat_minor": 2
}
