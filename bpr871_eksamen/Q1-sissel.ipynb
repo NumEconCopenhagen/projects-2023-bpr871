{
 "cells": [
  {
   "attachments": {},
   "cell_type": "markdown",
   "metadata": {},
   "source": [
    "**Table of contents**<a id='toc0_'></a>    \n",
    "- 1. [Problem 1: Optimal taxation with government consumption](#toc1_)    \n",
    "- 2. [Problem 2: Labor adjustment costs](#toc2_)    \n",
    "- 3. [Problem 3: Global optimizer with refined multi-start](#toc3_)    \n",
    "\n",
    "<!-- vscode-jupyter-toc-config\n",
    "\tnumbering=true\n",
    "\tanchor=true\n",
    "\tflat=false\n",
    "\tminLevel=2\n",
    "\tmaxLevel=6\n",
    "\t/vscode-jupyter-toc-config -->\n",
    "<!-- THIS CELL WILL BE REPLACED ON TOC UPDATE. DO NOT WRITE YOUR TEXT IN THIS CELL -->"
   ]
  },
  {
   "cell_type": "code",
   "execution_count": 188,
   "metadata": {},
   "outputs": [
    {
     "name": "stdout",
     "output_type": "stream",
     "text": [
      "The autoreload extension is already loaded. To reload it, use:\n",
      "  %reload_ext autoreload\n"
     ]
    }
   ],
   "source": [
    "# Importing packages\n",
    "import numpy as np\n",
    "import matplotlib.pyplot as plt\n",
    "from   scipy import optimize\n",
    "import sympy as sm\n",
    "\n",
    "# autoreload modules when code is run\n",
    "%load_ext autoreload\n",
    "%autoreload 2\n",
    "\n",
    "# local modules\n",
    "from types import SimpleNamespace\n",
    "import ipywidgets as widgets\n",
    "from sympy import symbols, Eq, sqrt, N, lambdify"
   ]
  },
  {
   "attachments": {},
   "cell_type": "markdown",
   "metadata": {},
   "source": [
    "## 1. <a id='toc1_'></a>[Problem 1: Optimal taxation with government consumption](#toc0_)"
   ]
  },
  {
   "attachments": {},
   "cell_type": "markdown",
   "metadata": {},
   "source": [
    "\n",
    "Consider a worker choosing hours of labor, $L\\in[0,24]$, to maximize utility: \n",
    "\n",
    "$$\n",
    "\\begin{align*}\n",
    "V(w,\\tau,G)&=\\max_{L\\in[0,24]}\\ln\\left(C^{\\alpha}G^{1-\\alpha}\\right)-\\nu\\frac{L^{2}}{2}\\\\&\\text{s.t.}\\\\&C=\\kappa+(1-\\tau)wL\n",
    "\\end{align*}\n",
    "$$\n",
    "\n",
    "where \n",
    "\n",
    "* $C$ is *private* consumption with weight $\\alpha\\in(0,1)$.\n",
    "* $\\kappa > 0$ is the *free private* consumption component.\n",
    "* $C = (1-\\tau)wL$ is the *costly private* consumption component.\n",
    "* $w > 0 $ is the real wage.\n",
    "* $\\tau \\in (0,1)$ is the labor-income tax rate.\n",
    "* $G > 0 $ is *government* consumption with weight $1-\\alpha$.\n",
    "* $\\nu > 0$ is the disutility of labor scaling factor"
   ]
  },
  {
   "attachments": {},
   "cell_type": "markdown",
   "metadata": {},
   "source": [
    "\n",
    "The baseline parameters are:\n",
    "\n",
    "$$\n",
    "\\begin{align*}\n",
    "\\alpha &= 0.5\\\\\n",
    "\\kappa &= 1.0\\\\\n",
    "\\nu &= \\frac{1}{2\\cdot16^2} \\\\\n",
    "w &= 1.0 \\\\ \n",
    "\\tau &= 0.30 \\\\\n",
    "\\end{align*}\n",
    "$$"
   ]
  },
  {
   "attachments": {},
   "cell_type": "markdown",
   "metadata": {},
   "source": [
    "**Question 1:** Verify that the optimal labor supply choice is $L^{\\star}(\\tilde{w}) =\\frac{-\\kappa+\\sqrt{\\kappa^{2}+4\\frac{\\alpha}{\\nu}\\tilde{w}^2}}{2\\tilde{w}}$, where $\\tilde{w} = (1-\\tau)w$, for $G\\in\\left\\{1.0 , 2.0\\right\\}$."
   ]
  },
  {
   "cell_type": "code",
   "execution_count": 174,
   "metadata": {},
   "outputs": [
    {
     "name": "stdout",
     "output_type": "stream",
     "text": [
      "The consolodated objective function is:\n"
     ]
    },
    {
     "data": {
      "text/latex": [
       "$\\displaystyle V = - \\frac{L^{2} \\nu}{2} + \\log{\\left(G^{1 - \\alpha} \\left(L w̃ + \\kappa\\right)^{\\alpha} \\right)}$"
      ],
      "text/plain": [
       "Eq(V, -L**2*nu/2 + log(G**(1 - alpha)*(L*w̃ + kappa)**alpha))"
      ]
     },
     "metadata": {},
     "output_type": "display_data"
    },
    {
     "name": "stdout",
     "output_type": "stream",
     "text": [
      "The FOC of V wrt L is:\n"
     ]
    },
    {
     "data": {
      "text/latex": [
       "$\\displaystyle 0 = \\frac{G^{1 - \\alpha} G^{\\alpha - 1} \\alpha w̃}{L w̃ + \\kappa} - L \\nu$"
      ],
      "text/plain": [
       "Eq(0, G**(1 - alpha)*G**(alpha - 1)*alpha*w̃/(L*w̃ + kappa) - L*nu)"
      ]
     },
     "metadata": {},
     "output_type": "display_data"
    },
    {
     "name": "stdout",
     "output_type": "stream",
     "text": [
      "Solutions for L:\n",
      "Solution 1:\n"
     ]
    },
    {
     "data": {
      "text/latex": [
       "$\\displaystyle \\frac{- \\kappa \\nu - \\sqrt{\\nu \\left(4 \\alpha w̃^{2} + \\kappa^{2} \\nu\\right)}}{2 \\nu w̃}$"
      ],
      "text/plain": [
       "(-kappa*nu - sqrt(nu*(4*alpha*w̃**2 + kappa**2*nu)))/(2*nu*w̃)"
      ]
     },
     "metadata": {},
     "output_type": "display_data"
    },
    {
     "name": "stdout",
     "output_type": "stream",
     "text": [
      "Solution 2:\n"
     ]
    },
    {
     "data": {
      "text/latex": [
       "$\\displaystyle \\frac{- \\kappa \\nu + \\sqrt{\\nu \\left(4 \\alpha w̃^{2} + \\kappa^{2} \\nu\\right)}}{2 \\nu w̃}$"
      ],
      "text/plain": [
       "(-kappa*nu + sqrt(nu*(4*alpha*w̃**2 + kappa**2*nu)))/(2*nu*w̃)"
      ]
     },
     "metadata": {},
     "output_type": "display_data"
    },
    {
     "name": "stdout",
     "output_type": "stream",
     "text": [
      "Numeric solutions for L and verification that G is within the bound:\n",
      "Numeric solution 1 is: (L_1= -16.73)\n",
      "Numeric solution 2 is: (L_2= 15.30)\n",
      "Positive solution for supplied labor is: L = 15.30\n",
      "G is between 1 and 2 for this solution.\n",
      "Solution to the problem as seen in the Problem Statement is:\n"
     ]
    },
    {
     "data": {
      "text/latex": [
       "$\\displaystyle L = \\frac{- \\kappa \\nu + \\sqrt{\\nu \\left(4 \\alpha w̃^{2} + \\kappa^{2} \\nu\\right)}}{2 \\nu w̃}$"
      ],
      "text/plain": [
       "Eq(L, (-kappa*nu + sqrt(nu*(4*alpha*w̃**2 + kappa**2*nu)))/(2*nu*w̃))"
      ]
     },
     "metadata": {},
     "output_type": "display_data"
    }
   ],
   "source": [
    "# A. Define the symbols\n",
    "C, L, G, kappa, w, tau, w_disp, nu, alpha, V = sm.symbols('C L G kappa w tau w̃ nu alpha V') \n",
    "#display(C, L, G, kappa, w, tau, w_disp, nu, alpha, V) # check everything looks okay\n",
    "\n",
    "# B. Defining objective function, variables and constraints (inserting consumption constraint in to utility)\n",
    "G_con = sm.And(G > 1, G < 2) # Currently uninitialized\n",
    "utility = sm.Eq(V, sm.ln((kappa + w_disp*L)**alpha*G**(1-alpha))-nu*L**2/2)\n",
    "\n",
    "# Displaying\n",
    "print(f'The consolodated objective function is:')\n",
    "display(utility)\n",
    "\n",
    "# C. Finding the FOC wrt L\n",
    "FOC        = sm.diff(utility.rhs, L)\n",
    "\n",
    "# Displaying\n",
    "print(f'The FOC of {V} wrt {L} is:')\n",
    "display(sm.Eq(sm.diff(V, L), FOC))\n",
    "\n",
    "# D. Solving for L \n",
    "sol = sm.solve(FOC, L)\n",
    "\n",
    "# Displaying solutions:\n",
    "print('Solutions for L:')\n",
    "for i, solution in enumerate(sol):\n",
    "    print(f'Solution {i+1}:')\n",
    "    display(solution)\n",
    "\n",
    "# E. Numeric solutions for L and verification that G is within the bound:\n",
    "# Define parameter values\n",
    "param_values = {\n",
    "    alpha: 0.5,\n",
    "    kappa: 1.0,\n",
    "    nu: 1/(2 * 16**2),\n",
    "    #w: 1.0, \n",
    "    tau: 0.3,\n",
    "    w_disp: (1-0.3)*1,\n",
    "}\n",
    "\n",
    "# Use only solution for which L > 0 and G is within the bound\n",
    "print('Numeric solutions for L and verification that G is within the bound:')\n",
    "for i, solution in enumerate(sol):\n",
    "    # Substitute parameter values into the solution for L\n",
    "    solution_evaluated = solution.subs(param_values)\n",
    "    # Evaluate the solution\n",
    "    result = solution_evaluated.evalf()\n",
    "    solution_G = utility.rhs.subs({L: solution_evaluated, w_disp: (1-tau)*w})  # Updating w_disp expression\n",
    "    # Display the numeric solution\n",
    "    print(f'Numeric solution {i+1} is: (L_{i+1}= {result:.2f})')\n",
    "    # Check if the result is greater than zero and G is within the bound and print\n",
    "    if result > 0:\n",
    "        if G_con.subs(G, solution_G):\n",
    "            print(f'Positive solution for supplied labor is: L = {result:.2f}')\n",
    "            print(f'G is between 1 and 2 for this solution.')\n",
    "            print(f'Solution to the problem as seen in the Problem Statement is:')\n",
    "            solution_eq = sm.Eq(L, sol[i])  # Update solution_eq\n",
    "            display(solution_eq)\n",
    "        else:\n",
    "            print(f'G is not between 1 and 2 for this solution.')"
   ]
  },
  {
   "attachments": {},
   "cell_type": "markdown",
   "metadata": {},
   "source": [
    "**Question 2:** Illustrate how $L^{\\star}(\\tilde{w})$ depends on $w$."
   ]
  },
  {
   "cell_type": "code",
   "execution_count": 242,
   "metadata": {},
   "outputs": [
    {
     "name": "stdout",
     "output_type": "stream",
     "text": [
      "Solution expressed in terms of disposable income\n"
     ]
    },
    {
     "data": {
      "text/latex": [
       "$\\displaystyle L = \\frac{- \\kappa \\nu + \\sqrt{\\nu \\left(4 \\alpha w^{2} \\left(1 - \\tau\\right)^{2} + \\kappa^{2} \\nu\\right)}}{2 \\nu w \\left(1 - \\tau\\right)}$"
      ],
      "text/plain": [
       "Eq(L, (-kappa*nu + sqrt(nu*(4*alpha*w**2*(1 - tau)**2 + kappa**2*nu)))/(2*nu*w*(1 - tau)))"
      ]
     },
     "metadata": {},
     "output_type": "display_data"
    },
    {
     "name": "stdout",
     "output_type": "stream",
     "text": [
      "Solution expressed in terms of gross income and tax rate\n"
     ]
    },
    {
     "data": {
      "text/latex": [
       "$\\displaystyle L = \\frac{- \\kappa \\nu + \\sqrt{\\nu \\left(4 \\alpha w^{2} \\left(1 - \\tau\\right)^{2} + \\kappa^{2} \\nu\\right)}}{2 \\nu w \\left(1 - \\tau\\right)}$"
      ],
      "text/plain": [
       "Eq(L, (-kappa*nu + sqrt(nu*(4*alpha*w**2*(1 - tau)**2 + kappa**2*nu)))/(2*nu*w*(1 - tau)))"
      ]
     },
     "metadata": {},
     "output_type": "display_data"
    },
    {
     "data": {
      "image/png": "[encoded data removed]",
      "text/plain": [
       "<Figure size 640x480 with 1 Axes>"
      ]
     },
     "metadata": {},
     "output_type": "display_data"
    }
   ],
   "source": [
    "# Displaying the expression for our preferred solution\n",
    "print(f'Solution expressed in terms of disposable income')\n",
    "display(solution_eq)\n",
    "\n",
    "# Updating wage expression \n",
    "solution_eq = solution_eq.subs(w_disp, (1-tau)*w)\n",
    "print(f'Solution expressed in terms of gross income and tax rate')\n",
    "display(solution_eq)\n",
    "\n",
    "# Define the range of values for w\n",
    "w_values = np.linspace(1e-08, 5, 100)\n",
    "\n",
    "# Define the equation for L as a function of w\n",
    "L_values = [N(solution_eq.subs({**param_values, w: w}).rhs.evalf())]\n",
    "\n",
    "# Evaluate sympy numerically\n",
    "L_func   = lambdify(w, L_values, modules=['numpy'])\n",
    "\n",
    "# Loop over w-values\n",
    "L_values = [L_func(w_value) for w_value in w_values]\n",
    "\n",
    "# Displaying results: Plot the values of L against w to\n",
    "plt.plot(w_values, L_values)\n",
    "plt.xlabel('Wages')\n",
    "plt.ylabel('Labor hours')\n",
    "plt.title('Plot of L as a Function of w')\n",
    "plt.grid(True)\n",
    "plt.show()"
   ]
  },
  {
   "attachments": {},
   "cell_type": "markdown",
   "metadata": {},
   "source": [
    "We see that optimal labor hours approaches 16 hours asymptotically. Even though agents are endowed with 24 hours in the day they choose not to supply more than 16 hours of work as they also want leisure."
   ]
  },
  {
   "cell_type": "code",
   "execution_count": 236,
   "metadata": {},
   "outputs": [
    {
     "name": "stdout",
     "output_type": "stream",
     "text": [
      "Solution expressed in terms of disposable income\n"
     ]
    },
    {
     "data": {
      "text/latex": [
       "$\\displaystyle L = \\frac{- \\kappa \\nu + \\sqrt{\\nu \\left(4 \\alpha w^{2} \\left(1 - \\tau\\right)^{2} + \\kappa^{2} \\nu\\right)}}{2 \\nu w \\left(1 - \\tau\\right)}$"
      ],
      "text/plain": [
       "Eq(L, (-kappa*nu + sqrt(nu*(4*alpha*w**2*(1 - tau)**2 + kappa**2*nu)))/(2*nu*w*(1 - tau)))"
      ]
     },
     "metadata": {},
     "output_type": "display_data"
    },
    {
     "name": "stdout",
     "output_type": "stream",
     "text": [
      "Solution expressed in terms of gross income and tax rate\n"
     ]
    },
    {
     "data": {
      "text/latex": [
       "$\\displaystyle L = \\frac{- \\kappa \\nu + \\sqrt{\\nu \\left(4 \\alpha w^{2} \\left(1 - \\tau\\right)^{2} + \\kappa^{2} \\nu\\right)}}{2 \\nu w \\left(1 - \\tau\\right)}$"
      ],
      "text/plain": [
       "Eq(L, (-kappa*nu + sqrt(nu*(4*alpha*w**2*(1 - tau)**2 + kappa**2*nu)))/(2*nu*w*(1 - tau)))"
      ]
     },
     "metadata": {},
     "output_type": "display_data"
    },
    {
     "name": "stdout",
     "output_type": "stream",
     "text": [
      "For w = 1e-08, L = [1.7763568394002517e-06]\n",
      "For w = 0.05050506040404041, L = [7.211778141908451]\n",
      "For w = 0.10101011080808081, L = [10.421573353276207]\n",
      "For w = 0.15151516121212122, L = [11.965777145799974]\n",
      "For w = 0.20202021161616163, L = [12.850294374924408]\n",
      "For w = 0.25252526202020203, L = [13.41953058923299]\n",
      "For w = 0.30303031242424244, L = [13.815554025814683]\n",
      "For w = 0.35353536282828285, L = [14.106651415112204]\n",
      "For w = 0.40404041323232326, L = [14.329512829600517]\n",
      "For w = 0.45454546363636367, L = [14.505554624024489]\n",
      "For w = 0.5050505140404041, L = [14.64809906566349]\n",
      "For w = 0.5555555644444445, L = [14.765860771955284]\n",
      "For w = 0.606060614848485, L = [14.864777072296528]\n",
      "For w = 0.6565656652525254, L = [14.949031297327373]\n",
      "For w = 0.7070707156565658, L = [15.021655219617525]\n",
      "For w = 0.7575757660606062, L = [15.084899403535438]\n",
      "For w = 0.8080808164646466, L = [15.140469389090484]\n",
      "For w = 0.858585866868687, L = [15.18968114006409]\n",
      "For w = 0.9090909172727274, L = [15.233566196074591]\n",
      "For w = 0.9595959676767678, L = [15.27294453106485]\n",
      "For w = 1.010101018080808, L = [15.308476119076824]\n",
      "For w = 1.0606060684848484, L = [15.340698126347528]\n",
      "For w = 1.111111118888889, L = [15.370052194438603]\n",
      "For w = 1.1616161692929294, L = [15.396904762195009]\n",
      "For w = 1.2121212196969697, L = [15.421562413363798]\n",
      "For w = 1.26262627010101, L = [15.444283614238989]\n",
      "For w = 1.3131313205050505, L = [15.465287794284249]\n",
      "For w = 1.363636370909091, L = [15.484762445724549]\n",
      "For w = 1.4141414213131314, L = [15.502868728492981]\n",
      "For w = 1.4646464717171717, L = [15.519745935100657]\n",
      "For w = 1.5151515221212122, L = [15.535515077042843]\n",
      "For w = 1.5656565725252527, L = [15.550281787939163]\n",
      "For w = 1.616161622929293, L = [15.564138690571268]\n",
      "For w = 1.6666666733333333, L = [15.577167339845214]\n",
      "For w = 1.7171717237373738, L = [15.589439827732239]\n",
      "For w = 1.7676767741414143, L = [15.60102011685037]\n",
      "For w = 1.8181818245454546, L = [15.61196515473889]\n",
      "For w = 1.868686874949495, L = [15.622325809772557]\n",
      "For w = 1.9191919253535354, L = [15.632147661153548]\n",
      "For w = 1.969696975757576, L = [15.641471668848478]\n",
      "For w = 2.0202020261616163, L = [15.650334744227452]\n",
      "For w = 2.0707070765656566, L = [15.658770238160011]\n",
      "For w = 2.121212126969697, L = [15.666808360168323]\n",
      "For w = 2.1717171773737376, L = [15.674476539736105]\n",
      "For w = 2.222222227777778, L = [15.681799738876007]\n",
      "For w = 2.272727278181818, L = [15.688800723457229]\n",
      "For w = 2.323232328585859, L = [15.69550029950424]\n",
      "For w = 2.3737373789898992, L = [15.701917519630868]\n",
      "For w = 2.4242424293939395, L = [15.70806986392215]\n",
      "For w = 2.47474747979798, L = [15.713973398878968]\n",
      "For w = 2.52525253020202, L = [15.71964291746767]\n",
      "For w = 2.575757580606061, L = [15.725092062844142]\n",
      "For w = 2.626262631010101, L = [15.730333437930112]\n",
      "For w = 2.6767676814141415, L = [15.735378702693602]\n",
      "For w = 2.727272731818182, L = [15.740238660713667]\n",
      "For w = 2.7777777822222225, L = [15.74492333638152]\n",
      "For w = 2.828282832626263, L = [15.749442043898744]\n",
      "For w = 2.878787883030303, L = [15.75380344907165]\n",
      "For w = 2.9292929334343434, L = [15.758015624764282]\n",
      "For w = 2.979797983838384, L = [15.76208610075635]\n",
      "For w = 3.0303030342424244, L = [15.76602190865389]\n",
      "For w = 3.0808080846464647, L = [15.769829622415969]\n",
      "For w = 3.1313131350505055, L = [15.773515394988678]\n",
      "For w = 3.1818181854545458, L = [15.77708499147576]\n",
      "For w = 3.232323235858586, L = [15.780543819221924]\n",
      "For w = 3.2828282862626263, L = [15.783896955138935]\n",
      "For w = 3.3333333366666666, L = [15.787149170564868]\n",
      "For w = 3.3838383870707074, L = [15.790304953912457]\n",
      "For w = 3.4343434374747477, L = [15.793368531332582]\n",
      "For w = 3.484848487878788, L = [15.796343885592952]\n",
      "For w = 3.5353535382828287, L = [15.799234773349188]\n",
      "For w = 3.585858588686869, L = [15.80204474096585]\n",
      "For w = 3.6363636390909093, L = [15.80477713902746]\n",
      "For w = 3.6868686894949496, L = [15.807435135664331]\n",
      "For w = 3.73737373989899, L = [15.81002172880462]\n",
      "For w = 3.7878787903030307, L = [15.812539757452203]\n",
      "For w = 3.838383840707071, L = [15.814991912079575]\n",
      "For w = 3.8888888911111112, L = [15.817380744215722]\n",
      "For w = 3.939393941515152, L = [15.819708675300786]\n",
      "For w = 3.9898989919191923, L = [15.821978004872136]\n",
      "For w = 4.040404042323233, L = [15.82419091813999]\n",
      "For w = 4.090909092727273, L = [15.826349493005031]\n",
      "For w = 4.141414143131313, L = [15.828455706565421]\n",
      "For w = 4.1919191935353535, L = [15.830511441156]\n",
      "For w = 4.242424243939394, L = [15.832518489958494]\n",
      "For w = 4.292929294343435, L = [15.834478562217774]\n",
      "For w = 4.343434344747475, L = [15.836393288096179]\n",
      "For w = 4.3939393951515155, L = [15.838264223194784]\n",
      "For w = 4.444444445555556, L = [15.840092852768006]\n",
      "For w = 4.494949495959596, L = [15.84188059565552]\n",
      "For w = 4.545454546363636, L = [15.843628807953401]\n",
      "For w = 4.595959596767677, L = [15.845338786444398]\n",
      "For w = 4.646464647171718, L = [15.84701177180561]\n",
      "For w = 4.696969697575758, L = [15.848648951610254]\n",
      "For w = 4.7474747479797985, L = [15.850251463138699]\n",
      "For w = 4.797979798383839, L = [15.851820396012872]\n",
      "For w = 4.848484848787879, L = [15.853356794666754]\n",
      "For w = 4.898989899191919, L = [15.85486166066481]\n",
      "For w = 4.94949494959596, L = [15.856335954879096]\n",
      "For w = 5.0, L = [15.857780599535053]\n"
     ]
    },
    {
     "data": {
      "image/png": "[encoded data removed]",
      "text/plain": [
       "<Figure size 640x480 with 1 Axes>"
      ]
     },
     "metadata": {},
     "output_type": "display_data"
    }
   ],
   "source": [
    "# Displaying the expression for our preferred solution\n",
    "print(f'Solution expressed in terms of disposable income')\n",
    "display(solution_eq)\n",
    "\n",
    "# Updating wage expression \n",
    "solution_eq = solution_eq.subs(w_disp, (1-tau)*w)\n",
    "print(f'Solution expressed in terms of gross income and tax rate')\n",
    "display(solution_eq)\n",
    "\n",
    "# Define the equation for L as a function of w\n",
    "compute_L = lambda w: N(solution_eq.subs({**param_values, w: w}).rhs.evalf())\n",
    "\n",
    "# Define the range of values for w\n",
    "w_values = np.linspace(1e-08, 5, 100)\n",
    "\n",
    "L_values = [compute_L(w_value)]\n",
    "L_func   = lambdify(w, L_values, modules=['numpy'])\n",
    "L_values = [L_func(w_value) for w_value in w_values]\n",
    "\n",
    "# Display the results\n",
    "for w_value, L_value in zip(w_values, L_values):\n",
    "    print(f\"For w = {w_value}, L = {L_value}\")\n",
    "\n",
    "# Plot the values of L against w to\n",
    "plt.plot(w_values, L_values)\n",
    "plt.xlabel('w')\n",
    "plt.ylabel('L')\n",
    "plt.title('Plot of L as a Function of w')\n",
    "plt.grid(True)\n",
    "plt.show()"
   ]
  },
  {
   "attachments": {},
   "cell_type": "markdown",
   "metadata": {},
   "source": [
    "\n",
    "We now consider a government, who chooses $\\tau$ and spend all of the taxes on government consumption so:\n",
    "\n",
    "$$\n",
    "G = \\tau w L^{\\star}((1-\\tau)w)\n",
    "$$\n",
    "\n",
    "**Question 3:** Plot the implied $L$, $G$ and worker utility for a grid of $\\tau$-values.\n"
   ]
  },
  {
   "cell_type": "code",
   "execution_count": null,
   "metadata": {},
   "outputs": [],
   "source": [
    "# write your code here"
   ]
  },
  {
   "attachments": {},
   "cell_type": "markdown",
   "metadata": {},
   "source": [
    "**Question 4:** Find the socially optimal tax rate $\\tau^{\\star}\\in(0,1)$ maximizing worker utility. Illustrate your result."
   ]
  },
  {
   "cell_type": "code",
   "execution_count": null,
   "metadata": {},
   "outputs": [],
   "source": [
    "# write your code here"
   ]
  },
  {
   "attachments": {},
   "cell_type": "markdown",
   "metadata": {},
   "source": [
    "A more general preference formulation for the worker is:\n",
    "\n",
    "$$\n",
    "\\begin{align*}\n",
    "\\mathcal{V}(w,\\tau,G)&=\\max_{L\\in[0,24]}\\frac{\\left[ \\left( \\alpha C^{\\frac{\\sigma-1}{\\sigma}}+(1-\\alpha) G^{\\frac{\\sigma-1}{\\sigma}} \\right)^{\\frac{\\sigma}{1-\\sigma} }\\right]^{1-\\rho}-1}{1-\\rho}- \\nu\\frac{L^{1+\\varepsilon}}{1+\\varepsilon},\\,\\,\\,\\varepsilon,\\rho,\\sigma>0,\\,\\,\\,\\rho,\\sigma\\neq1\\\\&\\text{s.t.}\\\\&C=\\kappa+(1-\\tau)wL\n",
    "\\end{align*}    \n",
    "$$\n",
    "\n",
    "Optimal labor supply is now $L^{\\star}(\\tilde{w},G)$."
   ]
  },
  {
   "attachments": {},
   "cell_type": "markdown",
   "metadata": {},
   "source": [
    "Questions 5 and 6 must be answered with the general formulation, and for 2 different set of parameters:\n",
    "\n",
    "- Set 1:  $\\sigma = 1.001$, $\\rho = 1.001$ and $\\varepsilon = 1.0$.\n",
    "- Set 2:  $\\sigma = 1.5$, $\\rho = 1.5$ and $\\varepsilon = 1.0 $."
   ]
  },
  {
   "attachments": {},
   "cell_type": "markdown",
   "metadata": {},
   "source": [
    "**Question 5:** Find the $G$ that solves $G = \\tau w L^{\\star}((1-\\tau)w,G)$ using the $\\tau$ found in question 4.\n",
    "\n",
    "*Hint: First write code that solves the worker problem for given values of $G$ and $\\tau$. Then find the correct G based on this.*"
   ]
  },
  {
   "cell_type": "code",
   "execution_count": null,
   "metadata": {},
   "outputs": [],
   "source": [
    "# write your code here"
   ]
  },
  {
   "attachments": {},
   "cell_type": "markdown",
   "metadata": {},
   "source": [
    "**Question 6:** Find the socially optimal tax rate, $\\tau^{\\star}$, maximizing worker utility, while keeping $G = \\tau w L^{\\star}((1-\\tau)w,G)$."
   ]
  },
  {
   "cell_type": "code",
   "execution_count": null,
   "metadata": {},
   "outputs": [],
   "source": [
    "# write your code here  "
   ]
  },
  {
   "attachments": {},
   "cell_type": "markdown",
   "metadata": {},
   "source": [
    "## 2. <a id='toc2_'></a>[Problem 2: Labor adjustment costs](#toc0_)"
   ]
  },
  {
   "attachments": {},
   "cell_type": "markdown",
   "metadata": {},
   "source": [
    "You own a hair salon. You employ hairdressers, $\\ell_t$, to produce haircuts, $y_t = \\ell_t$.\n",
    "\n",
    "The wage for each haridresser is $w$.\n",
    "\n",
    "The demand for haircuts implies that the price of haircuts you can charge is $p_t = \\kappa_t y_t^{-\\eta}$, where $\\kappa_t$ is a demand-shock and $\\eta \\in (0,1)$ measures the elasticity of demand.\n",
    "\n",
    "Profits are:\n",
    "\n",
    "$$\n",
    "\\Pi_t = p_t y_t - w \\ell_t = \\kappa_t \\ell_t^{1-\\eta} - w \\ell_t\n",
    "$$"
   ]
  },
  {
   "attachments": {},
   "cell_type": "markdown",
   "metadata": {},
   "source": [
    "Baseline parameters are:\n",
    "- $\\eta = 0.5$\n",
    "- $w = 1.0$"
   ]
  },
  {
   "attachments": {},
   "cell_type": "markdown",
   "metadata": {},
   "source": [
    "**Question 1:** Verify numerically that $\\ell_{t}=\\left(\\frac{(1-\\eta)\\kappa_{t}}{w}\\right)^{\\frac{1}{\\eta}}$ maximises profits, for $\\kappa\\in\\left\\{1.0 , 2.0\\right\\}$."
   ]
  },
  {
   "cell_type": "code",
   "execution_count": null,
   "metadata": {},
   "outputs": [],
   "source": [
    "# write your code here"
   ]
  },
  {
   "attachments": {},
   "cell_type": "markdown",
   "metadata": {},
   "source": [
    "We now consider a *dynamic* version of the model.\n",
    "\n",
    "* The demand-shock is a so-called AR(1) in logs, \n",
    "\n",
    "$$\n",
    "\\log \\kappa_{t} = \\rho \\log \\kappa_{t-1} + \\epsilon_{t},\\,\\,\\, \\epsilon_{t+1} \\sim \\mathcal{N}(-0.5\\sigma_{\\epsilon}^2,\\sigma_{\\epsilon})\n",
    "$$\n",
    "\n",
    "* Any hiring or firing implies a fixed adjustment cost, $\\iota > 0 $.\n",
    "* Future profits are discounted with a monthly factor of $R \\in (0,1)$.\n",
    "\n",
    "The initial demand shock is $\\kappa_{-1} = 1$ and the planning horizon is 10 years, i.e. 120 months so $t \\in \\{0,1,2,\\dots,119\\}$. Initially you don't have any employees, $\\ell_{-1}=0$"
   ]
  },
  {
   "attachments": {},
   "cell_type": "markdown",
   "metadata": {},
   "source": [
    "\n",
    "The *ex post* value of the salon is *conditional* on the shock series is:\n",
    "\n",
    "$$\n",
    "h(\\epsilon_0,\\epsilon_1,\\dots,\\epsilon_{119}) = \\left[\\sum_{t=0}^{119}R^{-t}\\left[\\kappa_{t}\\ell_{t}^{1-\\eta}-w\\ell_{t}-\\boldsymbol{1}_{\\ell_{t}\\neq\\ell_{t-1}}\\iota\\right]\\right]\n",
    "$$\n",
    "\n",
    "The *ex ante* expected value of the salon can be approximated by\n",
    "\n",
    "$$\n",
    "H = \\mathbb{E}[h(\\epsilon_0,\\epsilon_1,\\dots,\\epsilon_{119})] \\approx \\frac{1}{K}\\sum_{k=0}^{K} h(\\epsilon_0^k,\\epsilon_1^k,\\dots,\\epsilon_{119}^k)\n",
    "$$\n",
    "\n",
    "where each $k\\in\\{0,1,\\dots,K-1\\}$ is a random shock series. Maximizing profitability means maximizing $H$.\n"
   ]
  },
  {
   "attachments": {},
   "cell_type": "markdown",
   "metadata": {},
   "source": [
    "Baseline parameters are: \n",
    "\n",
    "- $\\rho = 0.90$\n",
    "- $\\iota = 0.01$\n",
    "- $\\sigma_{\\epsilon} = 0.10$\n",
    "- $R = \\left(1+0.01\\right)^{1/12}$"
   ]
  },
  {
   "attachments": {},
   "cell_type": "markdown",
   "metadata": {},
   "source": [
    "**Question 2:** Calculate $H$ if the policy  $\\ell_{t}=\\left(\\frac{(1-\\eta)\\kappa_{t}}{w}\\right)^{\\frac{1}{\\eta}}$ from question 1 is followed. Choose $K$ so the approximation is good enough to not affect your results substantially."
   ]
  },
  {
   "cell_type": "code",
   "execution_count": null,
   "metadata": {},
   "outputs": [],
   "source": [
    "# write your code here "
   ]
  },
  {
   "attachments": {},
   "cell_type": "markdown",
   "metadata": {},
   "source": [
    "Next, we consider policies on the form:\n",
    "\n",
    "$$\n",
    "\n",
    "\\ell_{t}=\\begin{cases}\n",
    "\\ell_t^{\\ast}  & \\text{if }\\left|\\ell_{t-1}-\\ell_t^{\\ast} \\right|>\\Delta\\\\\n",
    "\\ell_{t-1} & \\text{else }\n",
    "\\end{cases}\n",
    "\\\\\n",
    "\\text{where}\\,\\,\\ell_t^{\\ast} = \\left(\\frac{(1-\\eta)\\kappa_{t}}{w}\\right)^{\\frac{1}{\\eta}} \\\\\n",
    "\n",
    "$$\n",
    "With $\\Delta \\geq 0$ and $\\Delta = 0$ being the previous policy.\n"
   ]
  },
  {
   "attachments": {},
   "cell_type": "markdown",
   "metadata": {},
   "source": [
    "\n",
    "**Question 3:** Calculate $H$ if the policy above was followed with $\\Delta = 0.05$. Does it improve profitability?"
   ]
  },
  {
   "cell_type": "code",
   "execution_count": null,
   "metadata": {},
   "outputs": [],
   "source": [
    "# write your code here"
   ]
  },
  {
   "attachments": {},
   "cell_type": "markdown",
   "metadata": {},
   "source": [
    "**Question 4:** Find the optimal $\\Delta$ maximizing $H$. Illustrate your result."
   ]
  },
  {
   "cell_type": "code",
   "execution_count": null,
   "metadata": {},
   "outputs": [],
   "source": [
    "# write your code here"
   ]
  },
  {
   "attachments": {},
   "cell_type": "markdown",
   "metadata": {},
   "source": [
    "\n",
    "**Question 5:** Suggest an alternative policy you believe might improve profitability. Implement and test your policy.\n",
    "\n"
   ]
  },
  {
   "cell_type": "code",
   "execution_count": null,
   "metadata": {},
   "outputs": [],
   "source": [
    "# write your code here"
   ]
  },
  {
   "attachments": {},
   "cell_type": "markdown",
   "metadata": {},
   "source": [
    "## 3. <a id='toc3_'></a>[Problem 3: Global optimizer with refined multi-start](#toc0_)"
   ]
  },
  {
   "attachments": {},
   "cell_type": "markdown",
   "metadata": {},
   "source": [
    "We consider the Griewank function:\n",
    "\n",
    "$$ f(\\boldsymbol{x}) = \\sum^n_{i=1} \\frac{x^2_i}{4000}-\\prod^n_{i=1}\\cos\\left(\\frac{x_i}{\\sqrt{i}}\\right)+1$$\n",
    "\n",
    "The **global minimum** of this function is $f(0,0) = 0$ (remember: $\\cos(0)=1$).<br>\n",
    "But the function also have a lot of **local minima**."
   ]
  },
  {
   "cell_type": "code",
   "execution_count": null,
   "metadata": {},
   "outputs": [],
   "source": [
    "def griewank(x):\n",
    "    return griewank_(x[0],x[1])\n",
    "    \n",
    "def griewank_(x1,x2):\n",
    "    A = x1**2/4000 + x2**2/4000\n",
    "    B = np.cos(x1/np.sqrt(1))*np.cos(x2/np.sqrt(2))\n",
    "    return A-B+1"
   ]
  },
  {
   "attachments": {},
   "cell_type": "markdown",
   "metadata": {},
   "source": [
    "A **refined global optimizer with multi-start** is:\n",
    "\n",
    "1. Choose *bounds* for $\\mathbf{x}$ and *tolerance* $\\tau > 0$.\n",
    "2. Choose number of *warm-up iterations*, $\\underline{K} > 0$ and *maximum number of iterations*, $K > \\underline{K}$.\n",
    "3. In each iteration for $k \\in \\{0,1,\\dots,K-1\\}$:\n",
    "\n",
    "    A. Draw random $\\mathbf{x}^k$ uniformly within chosen bounds.\n",
    "\n",
    "    B. If $k < \\underline{K}$ go to step E.\n",
    "\n",
    "    C. Calculate $\\chi^k = 0.50\\cdot\\frac{2}{1+\\exp((k-\\underline{K})/100)}$  \n",
    "\n",
    "    D. Set $\\mathbf{x}^{k0} = \\chi^k \\mathbf{x}^k + (1-\\chi^k)\\mathbf{x}^{\\ast} $\n",
    "\n",
    "    E. Run optimizer with $\\mathbf{x}^{k0}$ as initial guess and $\\mathbf{x}^{k\\ast}$ as result.\n",
    "\n",
    "    F. Set $\\mathbf{x}^{\\ast} = \\mathbf{x}^{k\\ast}$ if $k = 0$ or $f(\\mathbf{x}^{k\\ast}) < f(\\mathbf{x}^{\\ast})$\n",
    "\n",
    "    G. If $f(\\mathbf{x}^{\\ast}) < \\tau$ go to step 4.\n",
    "\n",
    "4. Return the result $\\mathbf{x}^{\\ast}$."
   ]
  },
  {
   "attachments": {},
   "cell_type": "markdown",
   "metadata": {},
   "source": [
    "As settings we choose:\n",
    "\n",
    "* $x_1,x_2 \\in  [-600,600]$\n",
    "* $\\tau = 10^{-8}$\n",
    "* $\\underline{K}=10$\n",
    "* $K=1000$\n",
    "\n",
    "The optimizer in Step 3.E is `BFGS` with a tolerance of $\\tau$."
   ]
  },
  {
   "attachments": {},
   "cell_type": "markdown",
   "metadata": {},
   "source": [
    "**Question 1:** Implement the refined global optimizer with multi-start. Illustrate how the effective initial guesses $\\mathbf{x}^{k0}$ vary with the iteration counter $k$."
   ]
  },
  {
   "cell_type": "code",
   "execution_count": null,
   "metadata": {},
   "outputs": [],
   "source": [
    "# write your code here"
   ]
  },
  {
   "attachments": {},
   "cell_type": "markdown",
   "metadata": {},
   "source": [
    "**Question 2:** Is it a better idea to set $\\underline{K} = 100$? Is the convergence faster?"
   ]
  },
  {
   "cell_type": "code",
   "execution_count": null,
   "metadata": {},
   "outputs": [],
   "source": [
    "# write your code here"
   ]
  }
 ],
 "metadata": {
  "kernelspec": {
   "display_name": "base",
   "language": "python",
   "name": "python3"
  },
  "language_info": {
   "codemirror_mode": {
    "name": "ipython",
    "version": 3
   },
   "file_extension": ".py",
   "mimetype": "text/x-python",
   "name": "python",
   "nbconvert_exporter": "python",
   "pygments_lexer": "ipython3",
   "version": "3.9.15"
  },
  "orig_nbformat": 4
 },
 "nbformat": 4,
 "nbformat_minor": 2
}
