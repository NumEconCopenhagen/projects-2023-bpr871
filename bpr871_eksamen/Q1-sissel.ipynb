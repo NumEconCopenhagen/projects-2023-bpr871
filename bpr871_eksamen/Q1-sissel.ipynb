{
 "cells": [
  {
   "attachments": {},
   "cell_type": "markdown",
   "metadata": {},
   "source": [
    "**Table of contents**<a id='toc0_'></a>    \n",
    "- 1. [Problem 1: Optimal taxation with government consumption](#toc1_)    \n",
    "- 2. [Problem 2: Labor adjustment costs](#toc2_)    \n",
    "- 3. [Problem 3: Global optimizer with refined multi-start](#toc3_)    \n",
    "\n",
    "<!-- vscode-jupyter-toc-config\n",
    "\tnumbering=true\n",
    "\tanchor=true\n",
    "\tflat=false\n",
    "\tminLevel=2\n",
    "\tmaxLevel=6\n",
    "\t/vscode-jupyter-toc-config -->\n",
    "<!-- THIS CELL WILL BE REPLACED ON TOC UPDATE. DO NOT WRITE YOUR TEXT IN THIS CELL -->"
   ]
  },
  {
   "cell_type": "code",
   "execution_count": 387,
   "metadata": {},
   "outputs": [
    {
     "name": "stdout",
     "output_type": "stream",
     "text": [
      "The autoreload extension is already loaded. To reload it, use:\n",
      "  %reload_ext autoreload\n"
     ]
    }
   ],
   "source": [
    "# Importing packages\n",
    "import numpy as np\n",
    "import matplotlib.pyplot as plt\n",
    "from   scipy import optimize\n",
    "import sympy as sm\n",
    "\n",
    "# autoreload modules when code is run\n",
    "%load_ext autoreload\n",
    "%autoreload 2\n",
    "\n",
    "# local modules\n",
    "from types import SimpleNamespace\n",
    "import ipywidgets as widgets\n",
    "from sympy import symbols, Eq, sqrt, N, lambdify, simplify"
   ]
  },
  {
   "attachments": {},
   "cell_type": "markdown",
   "metadata": {},
   "source": [
    "## 1. <a id='toc1_'></a>[Problem 1: Optimal taxation with government consumption](#toc0_)"
   ]
  },
  {
   "attachments": {},
   "cell_type": "markdown",
   "metadata": {},
   "source": [
    "\n",
    "Consider a worker choosing hours of labor, $L\\in[0,24]$, to maximize utility: \n",
    "\n",
    "$$\n",
    "\\begin{align*}\n",
    "V(w,\\tau,G)&=\\max_{L\\in[0,24]}\\ln\\left(C^{\\alpha}G^{1-\\alpha}\\right)-\\nu\\frac{L^{2}}{2}\\\\&\\text{s.t.}\\\\&C=\\kappa+(1-\\tau)wL\n",
    "\\end{align*}\n",
    "$$\n",
    "\n",
    "where \n",
    "\n",
    "* $C$ is *private* consumption with weight $\\alpha\\in(0,1)$.\n",
    "* $\\kappa > 0$ is the *free private* consumption component.\n",
    "* $C = (1-\\tau)wL$ is the *costly private* consumption component.\n",
    "* $w > 0 $ is the real wage.\n",
    "* $\\tau \\in (0,1)$ is the labor-income tax rate.\n",
    "* $G > 0 $ is *government* consumption with weight $1-\\alpha$.\n",
    "* $\\nu > 0$ is the disutility of labor scaling factor"
   ]
  },
  {
   "attachments": {},
   "cell_type": "markdown",
   "metadata": {},
   "source": [
    "\n",
    "The baseline parameters are:\n",
    "\n",
    "$$\n",
    "\\begin{align*}\n",
    "\\alpha &= 0.5\\\\\n",
    "\\kappa &= 1.0\\\\\n",
    "\\nu &= \\frac{1}{2\\cdot16^2} \\\\\n",
    "w &= 1.0 \\\\ \n",
    "\\tau &= 0.30 \\\\\n",
    "\\end{align*}\n",
    "$$"
   ]
  },
  {
   "attachments": {},
   "cell_type": "markdown",
   "metadata": {},
   "source": [
    "**Question 1:** Verify that the optimal labor supply choice is $L^{\\star}(\\tilde{w}) =\\frac{-\\kappa+\\sqrt{\\kappa^{2}+4\\frac{\\alpha}{\\nu}\\tilde{w}^2}}{2\\tilde{w}}$, where $\\tilde{w} = (1-\\tau)w$, for $G\\in\\left\\{1.0 , 2.0\\right\\}$."
   ]
  },
  {
   "cell_type": "code",
   "execution_count": 388,
   "metadata": {},
   "outputs": [
    {
     "name": "stdout",
     "output_type": "stream",
     "text": [
      "The consolodated objective function is:\n"
     ]
    },
    {
     "data": {
      "text/latex": [
       "$\\displaystyle V = - \\frac{L^{2} \\nu}{2} + \\log{\\left(G^{1 - \\alpha} \\left(L w̃ + \\kappa\\right)^{\\alpha} \\right)}$"
      ],
      "text/plain": [
       "Eq(V, -L**2*nu/2 + log(G**(1 - alpha)*(L*w̃ + kappa)**alpha))"
      ]
     },
     "metadata": {},
     "output_type": "display_data"
    },
    {
     "name": "stdout",
     "output_type": "stream",
     "text": [
      "The FOC of V wrt L is:\n"
     ]
    },
    {
     "data": {
      "text/latex": [
       "$\\displaystyle 0 = \\frac{G^{1 - \\alpha} G^{\\alpha - 1} \\alpha w̃}{L w̃ + \\kappa} - L \\nu$"
      ],
      "text/plain": [
       "Eq(0, G**(1 - alpha)*G**(alpha - 1)*alpha*w̃/(L*w̃ + kappa) - L*nu)"
      ]
     },
     "metadata": {},
     "output_type": "display_data"
    },
    {
     "name": "stdout",
     "output_type": "stream",
     "text": [
      "Solutions for L:\n",
      "Solution 1:\n"
     ]
    },
    {
     "data": {
      "text/latex": [
       "$\\displaystyle \\frac{- \\kappa \\nu - \\sqrt{\\nu \\left(4 \\alpha w̃^{2} + \\kappa^{2} \\nu\\right)}}{2 \\nu w̃}$"
      ],
      "text/plain": [
       "(-kappa*nu - sqrt(nu*(4*alpha*w̃**2 + kappa**2*nu)))/(2*nu*w̃)"
      ]
     },
     "metadata": {},
     "output_type": "display_data"
    },
    {
     "name": "stdout",
     "output_type": "stream",
     "text": [
      "Solution 2:\n"
     ]
    },
    {
     "data": {
      "text/latex": [
       "$\\displaystyle \\frac{- \\kappa \\nu + \\sqrt{\\nu \\left(4 \\alpha w̃^{2} + \\kappa^{2} \\nu\\right)}}{2 \\nu w̃}$"
      ],
      "text/plain": [
       "(-kappa*nu + sqrt(nu*(4*alpha*w̃**2 + kappa**2*nu)))/(2*nu*w̃)"
      ]
     },
     "metadata": {},
     "output_type": "display_data"
    },
    {
     "name": "stdout",
     "output_type": "stream",
     "text": [
      "Numeric solutions for L and verification that G is within the bound:\n",
      "Numeric solution 1 is: (L_1= -16.73)\n",
      "Numeric solution 2 is: (L_2= 15.30)\n",
      "Positive solution for supplied labor is: L = 15.30\n",
      "G is between 1 and 2 for this solution.\n",
      "Solution to the problem as seen in the Problem Statement is:\n"
     ]
    },
    {
     "data": {
      "text/latex": [
       "$\\displaystyle L = \\frac{- \\kappa \\nu + \\sqrt{\\nu \\left(4 \\alpha w̃^{2} + \\kappa^{2} \\nu\\right)}}{2 \\nu w̃}$"
      ],
      "text/plain": [
       "Eq(L, (-kappa*nu + sqrt(nu*(4*alpha*w̃**2 + kappa**2*nu)))/(2*nu*w̃))"
      ]
     },
     "metadata": {},
     "output_type": "display_data"
    }
   ],
   "source": [
    "# A. Define the symbols\n",
    "C, L, G, kappa, w, tau, w_disp, nu, alpha, V = sm.symbols('C L G kappa w tau w̃ nu alpha V') \n",
    "#display(C, L, G, kappa, w, tau, w_disp, nu, alpha, V) # check everything looks okay\n",
    "\n",
    "# B. Defining objective function, variables and constraints (inserting consumption constraint in to utility)\n",
    "G_con = sm.And(G > 1, G < 2) # Currently uninitialized\n",
    "utility = sm.Eq(V, sm.ln((kappa + w_disp*L)**alpha*G**(1-alpha))-nu*L**2/2)\n",
    "\n",
    "# Displaying\n",
    "print(f'The consolodated objective function is:')\n",
    "display(utility)\n",
    "\n",
    "# C. Finding the FOC wrt L\n",
    "FOC        = sm.diff(utility.rhs, L)\n",
    "\n",
    "# Displaying\n",
    "print(f'The FOC of {V} wrt {L} is:')\n",
    "display(sm.Eq(sm.diff(V, L), FOC))\n",
    "\n",
    "# D. Solving for L \n",
    "sol = sm.solve(FOC, L)\n",
    "\n",
    "# Displaying solutions:\n",
    "print('Solutions for L:')\n",
    "for i, solution in enumerate(sol):\n",
    "    print(f'Solution {i+1}:')\n",
    "    display(solution)\n",
    "\n",
    "# E. Numeric solutions for L and verification that G is within the bound:\n",
    "# Define parameter values\n",
    "param_values = {\n",
    "    alpha: 0.5,\n",
    "    kappa: 1.0,\n",
    "    nu: 1/(2 * 16**2),\n",
    "    w: 1.0, \n",
    "    tau: 0.3,\n",
    "    w_disp: (1-0.3)*1,\n",
    "}\n",
    "\n",
    "# Use only solution for which L > 0 and G is within the bound\n",
    "print('Numeric solutions for L and verification that G is within the bound:')\n",
    "for i, solution in enumerate(sol):\n",
    "    # Substitute parameter values into the solution for L\n",
    "    solution_evaluated = solution.subs(param_values)\n",
    "    # Evaluate the solution\n",
    "    result = solution_evaluated.evalf()\n",
    "    solution_G = utility.rhs.subs({L: solution_evaluated, w_disp: (1-tau)*w})  # Updating w_disp expression\n",
    "    # Display the numeric solution\n",
    "    print(f'Numeric solution {i+1} is: (L_{i+1}= {result:.2f})')\n",
    "    # Check if the result is greater than zero and G is within the bound and print\n",
    "    if result > 0:\n",
    "        if G_con.subs(G, solution_G):\n",
    "            print(f'Positive solution for supplied labor is: L = {result:.2f}')\n",
    "            print(f'G is between 1 and 2 for this solution.')\n",
    "            print(f'Solution to the problem as seen in the Problem Statement is:')\n",
    "            solution_eq = sm.Eq(L, sol[i])  # Update solution_eq\n",
    "            display(solution_eq)\n",
    "        else:\n",
    "            print(f'G is not between 1 and 2 for this solution.')"
   ]
  },
  {
   "attachments": {},
   "cell_type": "markdown",
   "metadata": {},
   "source": [
    "**Question 2:** Illustrate how $L^{\\star}(\\tilde{w})$ depends on $w$."
   ]
  },
  {
   "cell_type": "code",
   "execution_count": 389,
   "metadata": {},
   "outputs": [
    {
     "name": "stdout",
     "output_type": "stream",
     "text": [
      "Solution expressed in terms of disposable income\n"
     ]
    },
    {
     "data": {
      "text/latex": [
       "$\\displaystyle L = \\frac{- \\kappa \\nu + \\sqrt{\\nu \\left(4 \\alpha w̃^{2} + \\kappa^{2} \\nu\\right)}}{2 \\nu w̃}$"
      ],
      "text/plain": [
       "Eq(L, (-kappa*nu + sqrt(nu*(4*alpha*w̃**2 + kappa**2*nu)))/(2*nu*w̃))"
      ]
     },
     "metadata": {},
     "output_type": "display_data"
    },
    {
     "name": "stdout",
     "output_type": "stream",
     "text": [
      "Solution expressed in terms of gross income and tax rate\n"
     ]
    },
    {
     "data": {
      "text/latex": [
       "$\\displaystyle L = \\frac{- \\kappa \\nu + \\sqrt{\\nu \\left(4 \\alpha w^{2} \\left(1 - \\tau\\right)^{2} + \\kappa^{2} \\nu\\right)}}{2 \\nu w \\left(1 - \\tau\\right)}$"
      ],
      "text/plain": [
       "Eq(L, (-kappa*nu + sqrt(nu*(4*alpha*w**2*(1 - tau)**2 + kappa**2*nu)))/(2*nu*w*(1 - tau)))"
      ]
     },
     "metadata": {},
     "output_type": "display_data"
    },
    {
     "data": {
      "image/png": "[encoded data removed]",
      "text/plain": [
       "<Figure size 640x480 with 1 Axes>"
      ]
     },
     "metadata": {},
     "output_type": "display_data"
    }
   ],
   "source": [
    "# Displaying the expression for our preferred solution\n",
    "print(f'Solution expressed in terms of disposable income')\n",
    "display(solution_eq)\n",
    "\n",
    "# Updating wage expression \n",
    "solution_eq = solution_eq.subs(w_disp, (1-tau)*w)\n",
    "print(f'Solution expressed in terms of gross income and tax rate')\n",
    "display(solution_eq)\n",
    "\n",
    "# Define the range of values for w\n",
    "w_values = np.linspace(1e-08, 5, 100)\n",
    "\n",
    "# Define the equation for L as a function of w\n",
    "L_values = [N(solution_eq.subs({**param_values, w: w}).rhs.evalf())]\n",
    "\n",
    "# Evaluate sympy numerically\n",
    "L_func   = lambdify(w, L_values, modules=['numpy'])\n",
    "\n",
    "# Loop over w-values\n",
    "L_values = [L_func(w_value) for w_value in w_values]\n",
    "\n",
    "# Displaying results: Plot the values of L against w to\n",
    "plt.plot(w_values, L_values)\n",
    "plt.xlabel('Gross wages')\n",
    "plt.ylabel('Labor hours')\n",
    "plt.title('Optimal labor supply')\n",
    "plt.grid(True)\n",
    "plt.show()"
   ]
  },
  {
   "attachments": {},
   "cell_type": "markdown",
   "metadata": {},
   "source": [
    "We see that optimal labor hours approaches 16 hours asymptotically. Even though agents are endowed with 24 hours in the day they choose not to supply more than 16 hours of work as they also want leisure."
   ]
  },
  {
   "attachments": {},
   "cell_type": "markdown",
   "metadata": {},
   "source": [
    "\n",
    "We now consider a government, who chooses $\\tau$ and spend all of the taxes on government consumption so:\n",
    "\n",
    "$$\n",
    "G = \\tau w L^{\\star}((1-\\tau)w)\n",
    "$$\n",
    "\n",
    "**Question 3:** Plot the implied $L$, $G$ and worker utility for a grid of $\\tau$-values.\n"
   ]
  },
  {
   "cell_type": "code",
   "execution_count": 390,
   "metadata": {},
   "outputs": [
    {
     "data": {
      "text/latex": [
       "$\\displaystyle L = \\frac{- \\kappa \\nu + \\sqrt{\\nu \\left(4 \\alpha w^{2} \\left(1 - \\tau\\right)^{2} + \\kappa^{2} \\nu\\right)}}{2 \\nu w \\left(1 - \\tau\\right)}$"
      ],
      "text/plain": [
       "Eq(L, (-kappa*nu + sqrt(nu*(4*alpha*w**2*(1 - tau)**2 + kappa**2*nu)))/(2*nu*w*(1 - tau)))"
      ]
     },
     "metadata": {},
     "output_type": "display_data"
    },
    {
     "data": {
      "text/latex": [
       "$\\displaystyle G = \\frac{\\tau \\left(- \\kappa \\nu + \\sqrt{\\nu \\left(4 \\alpha w^{2} \\left(1 - \\tau\\right)^{2} + \\kappa^{2} \\nu\\right)}\\right)}{2 \\nu \\left(1 - \\tau\\right)}$"
      ],
      "text/plain": [
       "Eq(G, tau*(-kappa*nu + sqrt(nu*(4*alpha*w**2*(1 - tau)**2 + kappa**2*nu)))/(2*nu*(1 - tau)))"
      ]
     },
     "metadata": {},
     "output_type": "display_data"
    },
    {
     "data": {
      "text/latex": [
       "$\\displaystyle V = - \\frac{L^{2} \\nu}{2} + \\log{\\left(G^{1 - \\alpha} \\left(L w \\left(1 - \\tau\\right) + \\kappa\\right)^{\\alpha} \\right)}$"
      ],
      "text/plain": [
       "Eq(V, -L**2*nu/2 + log(G**(1 - alpha)*(L*w*(1 - tau) + kappa)**alpha))"
      ]
     },
     "metadata": {},
     "output_type": "display_data"
    }
   ],
   "source": [
    "# Displaying L, G and worker utility in terms of gross income and tax rate\n",
    "gov = sm.Eq(G, tau*w*solution_eq.rhs) \n",
    "utility = utility.subs(w_disp, (1-tau)*w)\n",
    "display(solution_eq, gov, utility)"
   ]
  },
  {
   "cell_type": "code",
   "execution_count": 391,
   "metadata": {},
   "outputs": [
    {
     "data": {
      "image/png": "[encoded data removed]",
      "text/plain": [
       "<Figure size 1200x400 with 3 Axes>"
      ]
     },
     "metadata": {},
     "output_type": "display_data"
    }
   ],
   "source": [
    "# Define the range of values for tau\n",
    "tau_values = np.linspace(1e-08, 1-1e-08, 100)\n",
    "\n",
    "# Define empty lists to store the results\n",
    "L_values = []\n",
    "V_values = []\n",
    "G_values = []\n",
    "\n",
    "# Loop over tau-values\n",
    "for tau_value in tau_values:\n",
    "    # Substitute tau with the current value in each equation\n",
    "    solution_eq_tau = solution_eq.subs(tau, tau_value)\n",
    "    gov_tau = gov.subs(tau, tau_value)\n",
    "    utility_tau = utility.subs(tau, tau_value)\n",
    "    \n",
    "    # Evaluate the expressions numerically using the updated values of L, V, and G\n",
    "    L_value = N(solution_eq_tau.rhs.subs({**param_values, L: L_value, V: V_value, G: G_value}).evalf())\n",
    "    V_value = N(utility_tau.rhs.subs({**param_values, L: L_value, V: V_value, G: G_value}).evalf())\n",
    "    G_value = N(gov_tau.rhs.subs({**param_values, L: L_value, V: V_value, G: G_value}).evalf())\n",
    "    \n",
    "    L_values.append(L_value)\n",
    "    V_values.append(V_value)\n",
    "    G_values.append(G_value)\n",
    "\n",
    "# Create three separate plots\n",
    "plt.figure(figsize=(12, 4))  # Adjust the figsize as desired\n",
    "\n",
    "# Plot for Labor hours (L)\n",
    "plt.subplot(1, 3, 1)\n",
    "plt.plot(tau_values, L_values)\n",
    "plt.xlabel('Tax rate')\n",
    "plt.ylabel('Labor hours')\n",
    "plt.title('Optimal labor supply')\n",
    "\n",
    "# Plot for Utility (V)\n",
    "plt.subplot(1, 3, 2)\n",
    "plt.plot(tau_values, V_values)\n",
    "plt.xlabel('Tax rate')\n",
    "plt.ylabel('Utility')\n",
    "plt.title('Utility')\n",
    "\n",
    "# Plot for Government budget (G)\n",
    "plt.subplot(1, 3, 3)\n",
    "plt.plot(tau_values, G_values)\n",
    "plt.xlabel('Tax rate')\n",
    "plt.ylabel('Government spending')\n",
    "plt.title('Government spending')\n",
    "\n",
    "# Adjust the layout and display the plots\n",
    "plt.tight_layout()\n",
    "plt.show()\n"
   ]
  },
  {
   "attachments": {},
   "cell_type": "markdown",
   "metadata": {},
   "source": [
    "**Labor Supply:** \\\n",
    "We see that labor supply is monotonosly decreasing in the tax rate. As taxes increase it is always optimal for the agent to consume less of the private good as this is substituted by government spending as taxes increase. \n",
    "\n",
    "**Utility:** \\\n",
    "As we standard preferences, where the public and private good are both necessary goods for the agent, we see that utility has an infinitely high slope for $\\tau \\approx 0$. This is because the marginal utility of government goods are really high when they spending is close to zero. Very quickly the graph evens out. This is because $\\alpha = 0.5$ in our case which assigns equal weights to private and government spending in determining utility for a given level of spending.\n",
    "\n",
    "**Government budget:** \\\n",
    "The last graph represents the Laffer Curve, which shows that government spending has one unique max for a level of $\\tau \\approx 0.85$. This is not coinciding with the maximum level of utility for the worker.  "
   ]
  },
  {
   "attachments": {},
   "cell_type": "markdown",
   "metadata": {},
   "source": [
    "**Question 4:** Find the socially optimal tax rate $\\tau^{\\star}\\in(0,1)$ maximizing worker utility. Illustrate your result."
   ]
  },
  {
   "cell_type": "code",
   "execution_count": 392,
   "metadata": {},
   "outputs": [
    {
     "name": "stdout",
     "output_type": "stream",
     "text": [
      "Eq(L, (-kappa*nu + sqrt(nu*(4*alpha*w**2*(1 - tau)**2 + kappa**2*nu)))/(2*nu*w*(1 - tau)))\n",
      "Eq(V, -L**2*nu/2 + log(G**(1 - alpha)*(L*w*(1 - tau) + kappa)**alpha))\n",
      "Eq(G, tau*(-kappa*nu + sqrt(nu*(4*alpha*w**2*(1 - tau)**2 + kappa**2*nu)))/(2*nu*(1 - tau)))\n"
     ]
    }
   ],
   "source": [
    "print(solution_eq)\n",
    "print(utility)\n",
    "print(gov)"
   ]
  },
  {
   "cell_type": "code",
   "execution_count": 424,
   "metadata": {},
   "outputs": [],
   "source": [
    "par = SimpleNamespace()\n",
    "par.a0 = 0.5\n",
    "par.alpha = 0.5\n",
    "par.kappa = 1.0\n",
    "par.nu = 1/(2 * 16**2)\n",
    "par.w = 1.0 \n",
    "par.tau = 0.8\n",
    "par.w_disp = (1-par.tau)*par.w"
   ]
  },
  {
   "cell_type": "code",
   "execution_count": 425,
   "metadata": {},
   "outputs": [
    {
     "name": "stdout",
     "output_type": "stream",
     "text": [
      "1.6731638826542083\n",
      "0.8\n"
     ]
    }
   ],
   "source": [
    "# Define the expressions for L and G\n",
    "L_expr = (-par.kappa*par.nu + np.sqrt(par.nu*(4*par.alpha*par.w**2*(1 - par.tau)**2 + par.kappa**2*par.nu)))/(2*par.nu*par.w*(1 - par.tau))\n",
    "G_expr = par.tau*(-par.kappa*par.nu + np.sqrt(par.nu*(4*par.alpha*par.w**2*(1 - par.tau)**2 + par.kappa**2*par.nu)))/(2*par.nu*(1 - par.tau))\n",
    "\n",
    "# Define the expression for V with L and G substituted\n",
    "V_expr = -L_expr**2*par.nu/2 + np.log(G_expr**(1 - par.alpha)*(L_expr*par.w*(1 - par.tau) + par.kappa)**par.alpha)\n",
    "\n",
    "print(V_expr)\n",
    "print(par.tau)"
   ]
  },
  {
   "cell_type": "code",
   "execution_count": 399,
   "metadata": {},
   "outputs": [
    {
     "ename": "TypeError",
     "evalue": "unhashable type: 'numpy.ndarray'",
     "output_type": "error",
     "traceback": [
      "\u001b[0;31m---------------------------------------------------------------------------\u001b[0m",
      "\u001b[0;31mTypeError\u001b[0m                                 Traceback (most recent call last)",
      "\u001b[0;32m/var/folders/g2/f_5styjs0d53m4k1mknr83v80000gn/T/ipykernel_11479/355936940.py\u001b[0m in \u001b[0;36m<module>\u001b[0;34m\u001b[0m\n\u001b[0;32m----> 1\u001b[0;31m \u001b[0mL_expr\u001b[0m \u001b[0;34m=\u001b[0m \u001b[0mN\u001b[0m\u001b[0;34m(\u001b[0m\u001b[0msolution_eq\u001b[0m\u001b[0;34m.\u001b[0m\u001b[0mrhs\u001b[0m\u001b[0;34m.\u001b[0m\u001b[0msubs\u001b[0m\u001b[0;34m(\u001b[0m\u001b[0;34m{\u001b[0m\u001b[0;34m**\u001b[0m\u001b[0mparam_values\u001b[0m\u001b[0;34m,\u001b[0m \u001b[0mtau\u001b[0m\u001b[0;34m:\u001b[0m \u001b[0mtau\u001b[0m\u001b[0;34m}\u001b[0m\u001b[0;34m)\u001b[0m\u001b[0;34m.\u001b[0m\u001b[0mevalf\u001b[0m\u001b[0;34m(\u001b[0m\u001b[0;34m)\u001b[0m\u001b[0;34m)\u001b[0m\u001b[0;34m\u001b[0m\u001b[0;34m\u001b[0m\u001b[0m\n\u001b[0m\u001b[1;32m      2\u001b[0m \u001b[0;34m\u001b[0m\u001b[0m\n\u001b[1;32m      3\u001b[0m \u001b[0mprint\u001b[0m\u001b[0;34m(\u001b[0m\u001b[0mL_expr\u001b[0m\u001b[0;34m)\u001b[0m\u001b[0;34m\u001b[0m\u001b[0;34m\u001b[0m\u001b[0m\n\u001b[1;32m      4\u001b[0m \u001b[0;34m\u001b[0m\u001b[0m\n\u001b[1;32m      5\u001b[0m \u001b[0;31m# L = (-param_values['kappa']*param_values['nu'] + np.sqrt(param_values['nu']*(4*param_values['alpha']*w**2*(1 - tau)**2 + param_values['kappa']**2*param_values['nu'])))/(2*param_values['nu']*param_values['w']*(1 - tau))\u001b[0m\u001b[0;34m\u001b[0m\u001b[0;34m\u001b[0m\u001b[0m\n",
      "\u001b[0;31mTypeError\u001b[0m: unhashable type: 'numpy.ndarray'"
     ]
    }
   ],
   "source": [
    "\n",
    "\n",
    "L_expr = N(solution_eq.rhs.subs({**param_values, tau: tau}).evalf())\n",
    "    \n",
    "print(L_expr)\n",
    "\n",
    "# L = (-param_values['kappa']*param_values['nu'] + np.sqrt(param_values['nu']*(4*param_values['alpha']*w**2*(1 - tau)**2 + param_values['kappa']**2*param_values['nu'])))/(2*param_values['nu']*param_values['w']*(1 - tau))\n",
    "# G = tau*(-param_values['kappa']*param_values['nu'] + np.sqrt(param_values['nu']*(4*param_values['alpha']*w**2*(1 - tau)**2 + param_values['kappa']**2*param_values['nu'])))/(2*param_values['nu']*(1 - tau))\n",
    "# V = -L**2*param_values['nu']/2 + np.log(G**(1 - param_values['alpha'])*(L*param_values['w']*(1 - tau) + param_values['kappa'])**param_values['alpha'])\n",
    "\n",
    "print(L_expr)\n",
    "# Define the function for V\n",
    "# def V_function(tau):\n",
    "#     L = (-param_values['kappa']*param_values['nu'] + np.sqrt(param_values['nu']*(4*param_values['alpha']*w**2*(1 - tau)**2 + param_values['kappa']**2*param_values['nu'])))/(2*param_values['nu']*param_values['w']*(1 - tau))\n",
    "#     G = tau*(-param_values['kappa']*param_values['nu'] + np.sqrt(param_values['nu']*(4*param_values['alpha']*w**2*(1 - tau)**2 + param_values['kappa']**2*param_values['nu'])))/(2*param_values['nu']*(1 - tau))\n",
    "#     V = -L**2*param_values['nu']/2 + np.log(G**(1 - param_values['alpha'])*(L*param_values['w']*(1 - tau) + param_values['kappa'])**param_values['alpha'])\n",
    "#     return V\n",
    "\n",
    "# # Simplify the expressions for V\n",
    "# tau = np.linspace(1e-08, 1-1e-08, 100)\n",
    "# V_simplified = V_function(tau)\n",
    "\n",
    "# # Print the simplified values of V\n",
    "# print(\"Simplified values of V:\")\n",
    "# print(V_simplified)\n"
   ]
  },
  {
   "cell_type": "code",
   "execution_count": null,
   "metadata": {},
   "outputs": [],
   "source": [
    "# Redefining outside sympy definitions\n",
    "def obj(tau):\n",
    "    # Define the expressions for L and G\n",
    "    L_expr = (-kappa*nu + np.sqrt(nu*(4*alpha*w**2*(1 - tau)**2 + kappa**2*nu)))/(2*nu*w*(1 - tau))\n",
    "    G_expr = tau*(-kappa*nu + np.sqrt(nu*(4*alpha*w**2*(1 - tau)**2 + kappa**2*nu)))/(2*nu*(1 - tau))\n",
    "\n",
    "    # Define the expression for V with L and G substituted\n",
    "    V_expr = -L_expr**2*nu/2 + np.log(G_expr**(1 - alpha)*(L*w*(1 - tau) + kappa)**alpha)\n",
    "\n",
    "    # Simplify the expression for V\n",
    "    V_expr_simp = simplify(V_expr)\n",
    "\n",
    "    #V_value = -L**2*nu/2 + np.log(G**(1 - alpha)*(L*w*(1 - tau) + kappa)**alpha)\n",
    "    return V_expr_simp\n",
    "\n",
    "print(V_expr_simp)"
   ]
  },
  {
   "cell_type": "code",
   "execution_count": null,
   "metadata": {},
   "outputs": [],
   "source": []
  },
  {
   "cell_type": "code",
   "execution_count": null,
   "metadata": {},
   "outputs": [],
   "source": [
    "import scipy.optimize as optimize\n",
    "from sympy import lambdify, N\n",
    "\n",
    "# Define the objective function\n",
    "def obj(tau):\n",
    "    \"\"\" Evaluate model and calculate values for V \"\"\"\n",
    "\n",
    "    tau_scalar = tau.item()\n",
    "\n",
    "    # Calculate the values of L and G\n",
    "    L_value = N(solution_eq.rhs.subs({**param_values, tau: tau_scalar}).evalf())\n",
    "    G_value = N(gov.rhs.subs({**param_values, tau: tau_scalar, L: L_value}).evalf())\n",
    "\n",
    "    # Calculate the value of V\n",
    "    V_func = lambdify((tau, L, G), utility.rhs, modules=['numpy'])\n",
    "    V_value = V_func(tau_scalar, L_value, G_value)\n",
    "\n",
    "    # Return the negative value of V\n",
    "    return -V_value\n",
    "\n",
    "# Set the initial guess for tau\n",
    "x0_scalar = x0.item()\n",
    "\n",
    "# Calculate the initial values of L and G\n",
    "L_value = N(solution_eq.rhs.subs({**param_values, tau: x0_scalar}).evalf())\n",
    "G_value = N(gov.rhs.subs({**param_values, tau: x0_scalar, L: L_value}).evalf())\n",
    "\n",
    "# Perform the optimization\n",
    "results = optimize.minimize(obj, x0_scalar, method='Nelder-Mead')\n",
    "\n",
    "# Extract the optimized tau and the corresponding values of L, V, and G\n",
    "optimal_tau = results.x[0]\n",
    "L_value = N(solution_eq.rhs.subs({**param_values, tau: optimal_tau}).evalf())\n",
    "V_value = N(utility.rhs.subs({**param_values, tau: optimal_tau, L: L_value}).evalf())\n",
    "G_value = N(gov.rhs.subs({**param_values, tau: optimal_tau, L: L_value}).evalf())\n",
    "\n",
    "# Print the results\n",
    "print(\"Optimal tau:\", optimal_tau)\n",
    "print(\"Optimal L value:\", L_value)\n",
    "print(\"Optimal V value:\", V_value)\n",
    "print(\"Optimal G value:\", G_value)\n",
    "print(\"Optimization results:\", results)\n"
   ]
  },
  {
   "cell_type": "code",
   "execution_count": null,
   "metadata": {},
   "outputs": [],
   "source": [
    "import numpy as np\n",
    "import scipy.optimize as optimize\n",
    "from sympy import lambdify, log, N\n",
    "\n",
    "# Define the objective function\n",
    "def obj(tau):\n",
    "    \"\"\" Evaluate model and calculate values for V \"\"\"\n",
    "    tau_scalar = tau[0]  # Extract the scalar value of tau\n",
    "\n",
    "    # Convert L_value and G_value to scalars\n",
    "    L_scalar = L_value\n",
    "    G_scalar = G_value\n",
    "\n",
    "    # Calculate the value of V\n",
    "    V_value = N(V_func(tau_scalar, L_scalar, G_scalar))\n",
    "\n",
    "    # Return the negative value of V\n",
    "    return -V_value\n",
    "\n",
    "# Set the initial guess for tau\n",
    "x0 = np.array([0.9])  # Note: tau is defined as an array\n",
    "\n",
    "# Calculate the initial values of L and G\n",
    "L_value = N(solution_eq.rhs.subs({tau: x0[0], **param_values}).evalf())\n",
    "G_value = N(gov.rhs.subs({tau: x0[0], L: L_value, **param_values}).evalf())\n",
    "\n",
    "# Create a lambda function for V\n",
    "V_func = lambdify((tau, L, G), utility.rhs.subs(log, np.log), modules=['numpy'])\n",
    "\n",
    "# Perform the optimization\n",
    "results = optimize.minimize(obj, x0, method='Nelder-Mead')\n",
    "\n",
    "# Extract the optimized tau\n",
    "optimal_tau = results.x[0]\n",
    "\n",
    "# Calculate the optimized value of V\n",
    "optimal_V = obj(np.array([optimal_tau]))\n",
    "\n",
    "# Print the results\n",
    "print(\"Optimal tau:\", optimal_tau)\n",
    "print(\"Optimal V value:\", optimal_V)\n",
    "print(\"Optimization results:\", results)\n"
   ]
  },
  {
   "cell_type": "code",
   "execution_count": null,
   "metadata": {},
   "outputs": [],
   "source": [
    "import scipy.optimize as optimize\n",
    "\n",
    "# Define the objective function\n",
    "def obj(tau):\n",
    "    \"\"\" Evaluate model and calculate values for L, V, and G \"\"\"\n",
    "\n",
    "    tau_scalar = tau.item()\n",
    "    \n",
    "    V_func = lambdify((tau, L, G), utility.rhs, modules=['numpy'])\n",
    "    V_value = V_func(tau_scalar, L_value, G_value)\n",
    "\n",
    "    # Calculate the values of L, V, and G\n",
    "    V_value = N(utility.rhs.subs({**param_values, tau: tau, L: L_value, G: G_value}).evalf())\n",
    "\n",
    "    # V_func = lambdify((tau, L, G), utility.rhs, modules=['numpy'])\n",
    "    # V_value = V_func(tau_scalar, L_value, G_value)\n",
    "        \n",
    "    # Return the negative value of G\n",
    "    return -V_value\n",
    "\n",
    "# Set the initial guess for tau\n",
    "x0 = 0.9\n",
    "\n",
    "print(V_value)\n",
    "\n",
    "L_value = N(solution_eq.rhs.subs({**param_values, tau: x0}).evalf())\n",
    "G_value = N(gov.rhs.subs({**param_values, tau: x0, L: L_value}).evalf())\n",
    "#V_value = N(utility.rhs.subs({**param_values, tau: x0, L: L_value, G: G_value}).evalf())\n",
    "\n",
    "\n",
    "# Perform the optimization\n",
    "results = optimize.minimize(obj, x0, method='Nelder-Mead')\n",
    "\n",
    "# Extract the optimized tau and the corresponding values of L, V, and G\n",
    "optimal_tau = results.x\n",
    "L_value = N(solution_eq.rhs.subs({**param_values, tau: optimal_tau}).evalf())\n",
    "V_value = N(utility.rhs.subs({**param_values, tau: optimal_tau}).evalf())\n",
    "G_value = N(gov.rhs.subs({**param_values, tau: optimal_tau}).evalf())\n",
    "\n",
    "# Print the results\n",
    "print(\"Optimal tau:\", optimal_tau)\n",
    "print(\"Optimal L value:\", L_value)\n",
    "print(\"Optimal V value:\", V_value)\n",
    "print(\"Optimal G value:\", G_value)\n",
    "print(\"Optimization results:\", results)\n"
   ]
  },
  {
   "cell_type": "code",
   "execution_count": null,
   "metadata": {},
   "outputs": [],
   "source": [
    "import scipy.optimize as optimize\n",
    "\n",
    "# Define the objective function\n",
    "def obj(tau):\n",
    "    \"\"\" Evaluate model and calculate values for L, V, and G \"\"\"\n",
    "\n",
    "    tau = tau.item()\n",
    "    \n",
    "    # Calculate the values of L, V, and G\n",
    "    L_value = N(solution_eq.rhs.subs({**param_values, tau: tau}).evalf())\n",
    "    G_value = N(gov.rhs.subs({**param_values, tau: tau, L: L_value}).evalf())\n",
    "    V_value = N(utility.rhs.subs({**param_values, tau: tau, L: L_value, G: G_value}).evalf())\n",
    "        \n",
    "    # Return the negative value of G\n",
    "    return -V_value\n",
    "\n",
    "# Set the initial guess for tau\n",
    "x0 = np.array([0.9])\n",
    "\n",
    "# Perform the optimization\n",
    "results = optimize.minimize(obj, x0, method='Nelder-Mead')\n",
    "\n",
    "# Extract the optimized tau and the corresponding values of L, V, and G\n",
    "optimal_tau = results.x[0]\n",
    "L_value = N(solution_eq.rhs.subs({**param_values, tau: optimal_tau}).evalf())\n",
    "V_value = N(utility.rhs.subs({**param_values, tau: optimal_tau}).evalf())\n",
    "G_value = N(gov.rhs.subs({**param_values, tau: optimal_tau}).evalf())\n",
    "\n",
    "# Print the results\n",
    "print(\"Optimal tau:\", optimal_tau)\n",
    "print(\"Optimal L value:\", L_value)\n",
    "print(\"Optimal V value:\", V_value)\n",
    "print(\"Optimal G value:\", G_value)\n",
    "print(\"Optimization results:\", results)\n"
   ]
  },
  {
   "cell_type": "code",
   "execution_count": null,
   "metadata": {},
   "outputs": [],
   "source": [
    "\n",
    "# Define the objective function\n",
    "def obj(tau):\n",
    "    \"\"\" Evaluate model and calculate values for L, V, and G \"\"\"\n",
    "    \n",
    "    # Calculate the values of L, V, and G\n",
    "    #L_value = N(solution_eq.rhs.subs({**param_values, tau: tau}).evalf())\n",
    "    V_value = N(utility.rhs.subs({**param_values, tau: tau, L: L_value}).evalf())\n",
    "    #G_value = N(gov.rhs.subs({**param_values, tau: tau, L: L_value, V: V_value}).evalf())\n",
    "        \n",
    "    # Return the negative value of G\n",
    "    return -V_value\n",
    "\n",
    "# Set the initial guess for tau\n",
    "x0 = 0.8\n",
    "print(L_value)\n",
    "\n",
    "# Perform the optimization\n",
    "results = optimize.minimize(obj, x0, method='Nelder-Mead')\n",
    "\n",
    "# Extract the optimized tau and the corresponding values of L, V, and G\n",
    "optimal_tau = results.x[0]\n",
    "L_value = N(solution_eq.rhs.subs({**param_values, tau: optimal_tau}).evalf())\n",
    "V_value = N(utility.rhs.subs({**param_values, tau: optimal_tau}).evalf())\n",
    "G_value = N(gov.rhs.subs({**param_values, tau: optimal_tau}).evalf())\n",
    "\n",
    "# Print the results\n",
    "print(\"Optimal tau:\", optimal_tau)\n",
    "print(\"Optimal L value:\", L_value)\n",
    "print(\"Optimal V value:\", V_value)\n",
    "print(\"Optimal G value:\", G_value)\n",
    "print(\"Optimization results:\", results)\n"
   ]
  },
  {
   "cell_type": "code",
   "execution_count": null,
   "metadata": {},
   "outputs": [],
   "source": [
    "# Defining our three functions dependent on tau\n",
    "def obj():\n",
    "    \"\"\" evaluate model and calculate values for L, V and G \"\"\"\n",
    "    \n",
    "    L_value = N(solution_eq.rhs.subs({**param_values, tau: tau, L: L_value, V: V_value, G: G_value}).evalf())\n",
    "    V_value = N(utility.rhs.subs({**param_values, tau: tau, L: L_value, V: V_value, G: G_value}).evalf())\n",
    "    G_value = N(gov.rhs.subs({**param_values, tau: tau, L: L_value, V: V_value, G: G_value}).evalf())\n",
    "        \n",
    "    # d. return\n",
    "    return -G_value\n",
    "\n",
    "print(G_value)\n",
    "x0      = 0.8\n",
    "#results = optimize.minimize(obj,x0,method='Nelder-Mead')\n",
    "# ,options={'xatol':tol,'fatol':tol,'maxiter':50_000}    \n",
    "\n",
    "print(L_value, V_value, G_value)\n",
    "print(results)"
   ]
  },
  {
   "attachments": {},
   "cell_type": "markdown",
   "metadata": {},
   "source": [
    "A more general preference formulation for the worker is:\n",
    "\n",
    "$$\n",
    "\\begin{align*}\n",
    "\\mathcal{V}(w,\\tau,G)&=\\max_{L\\in[0,24]}\\frac{\\left[ \\left( \\alpha C^{\\frac{\\sigma-1}{\\sigma}}+(1-\\alpha) G^{\\frac{\\sigma-1}{\\sigma}} \\right)^{\\frac{\\sigma}{1-\\sigma} }\\right]^{1-\\rho}-1}{1-\\rho}- \\nu\\frac{L^{1+\\varepsilon}}{1+\\varepsilon},\\,\\,\\,\\varepsilon,\\rho,\\sigma>0,\\,\\,\\,\\rho,\\sigma\\neq1\\\\&\\text{s.t.}\\\\&C=\\kappa+(1-\\tau)wL\n",
    "\\end{align*}    \n",
    "$$\n",
    "\n",
    "Optimal labor supply is now $L^{\\star}(\\tilde{w},G)$."
   ]
  },
  {
   "attachments": {},
   "cell_type": "markdown",
   "metadata": {},
   "source": [
    "Questions 5 and 6 must be answered with the general formulation, and for 2 different set of parameters:\n",
    "\n",
    "- Set 1:  $\\sigma = 1.001$, $\\rho = 1.001$ and $\\varepsilon = 1.0$.\n",
    "- Set 2:  $\\sigma = 1.5$, $\\rho = 1.5$ and $\\varepsilon = 1.0 $."
   ]
  },
  {
   "attachments": {},
   "cell_type": "markdown",
   "metadata": {},
   "source": [
    "**Question 5:** Find the $G$ that solves $G = \\tau w L^{\\star}((1-\\tau)w,G)$ using the $\\tau$ found in question 4.\n",
    "\n",
    "*Hint: First write code that solves the worker problem for given values of $G$ and $\\tau$. Then find the correct G based on this.*"
   ]
  },
  {
   "cell_type": "code",
   "execution_count": null,
   "metadata": {},
   "outputs": [],
   "source": [
    "# write your code here"
   ]
  },
  {
   "attachments": {},
   "cell_type": "markdown",
   "metadata": {},
   "source": [
    "**Question 6:** Find the socially optimal tax rate, $\\tau^{\\star}$, maximizing worker utility, while keeping $G = \\tau w L^{\\star}((1-\\tau)w,G)$."
   ]
  },
  {
   "cell_type": "code",
   "execution_count": null,
   "metadata": {},
   "outputs": [],
   "source": [
    "# write your code here  "
   ]
  },
  {
   "attachments": {},
   "cell_type": "markdown",
   "metadata": {},
   "source": [
    "## 2. <a id='toc2_'></a>[Problem 2: Labor adjustment costs](#toc0_)"
   ]
  },
  {
   "attachments": {},
   "cell_type": "markdown",
   "metadata": {},
   "source": [
    "You own a hair salon. You employ hairdressers, $\\ell_t$, to produce haircuts, $y_t = \\ell_t$.\n",
    "\n",
    "The wage for each haridresser is $w$.\n",
    "\n",
    "The demand for haircuts implies that the price of haircuts you can charge is $p_t = \\kappa_t y_t^{-\\eta}$, where $\\kappa_t$ is a demand-shock and $\\eta \\in (0,1)$ measures the elasticity of demand.\n",
    "\n",
    "Profits are:\n",
    "\n",
    "$$\n",
    "\\Pi_t = p_t y_t - w \\ell_t = \\kappa_t \\ell_t^{1-\\eta} - w \\ell_t\n",
    "$$"
   ]
  },
  {
   "attachments": {},
   "cell_type": "markdown",
   "metadata": {},
   "source": [
    "Baseline parameters are:\n",
    "- $\\eta = 0.5$\n",
    "- $w = 1.0$"
   ]
  },
  {
   "attachments": {},
   "cell_type": "markdown",
   "metadata": {},
   "source": [
    "**Question 1:** Verify numerically that $\\ell_{t}=\\left(\\frac{(1-\\eta)\\kappa_{t}}{w}\\right)^{\\frac{1}{\\eta}}$ maximises profits, for $\\kappa\\in\\left\\{1.0 , 2.0\\right\\}$."
   ]
  },
  {
   "cell_type": "code",
   "execution_count": null,
   "metadata": {},
   "outputs": [],
   "source": [
    "# write your code here"
   ]
  },
  {
   "attachments": {},
   "cell_type": "markdown",
   "metadata": {},
   "source": [
    "We now consider a *dynamic* version of the model.\n",
    "\n",
    "* The demand-shock is a so-called AR(1) in logs, \n",
    "\n",
    "$$\n",
    "\\log \\kappa_{t} = \\rho \\log \\kappa_{t-1} + \\epsilon_{t},\\,\\,\\, \\epsilon_{t+1} \\sim \\mathcal{N}(-0.5\\sigma_{\\epsilon}^2,\\sigma_{\\epsilon})\n",
    "$$\n",
    "\n",
    "* Any hiring or firing implies a fixed adjustment cost, $\\iota > 0 $.\n",
    "* Future profits are discounted with a monthly factor of $R \\in (0,1)$.\n",
    "\n",
    "The initial demand shock is $\\kappa_{-1} = 1$ and the planning horizon is 10 years, i.e. 120 months so $t \\in \\{0,1,2,\\dots,119\\}$. Initially you don't have any employees, $\\ell_{-1}=0$"
   ]
  },
  {
   "attachments": {},
   "cell_type": "markdown",
   "metadata": {},
   "source": [
    "\n",
    "The *ex post* value of the salon is *conditional* on the shock series is:\n",
    "\n",
    "$$\n",
    "h(\\epsilon_0,\\epsilon_1,\\dots,\\epsilon_{119}) = \\left[\\sum_{t=0}^{119}R^{-t}\\left[\\kappa_{t}\\ell_{t}^{1-\\eta}-w\\ell_{t}-\\boldsymbol{1}_{\\ell_{t}\\neq\\ell_{t-1}}\\iota\\right]\\right]\n",
    "$$\n",
    "\n",
    "The *ex ante* expected value of the salon can be approximated by\n",
    "\n",
    "$$\n",
    "H = \\mathbb{E}[h(\\epsilon_0,\\epsilon_1,\\dots,\\epsilon_{119})] \\approx \\frac{1}{K}\\sum_{k=0}^{K} h(\\epsilon_0^k,\\epsilon_1^k,\\dots,\\epsilon_{119}^k)\n",
    "$$\n",
    "\n",
    "where each $k\\in\\{0,1,\\dots,K-1\\}$ is a random shock series. Maximizing profitability means maximizing $H$.\n"
   ]
  },
  {
   "attachments": {},
   "cell_type": "markdown",
   "metadata": {},
   "source": [
    "Baseline parameters are: \n",
    "\n",
    "- $\\rho = 0.90$\n",
    "- $\\iota = 0.01$\n",
    "- $\\sigma_{\\epsilon} = 0.10$\n",
    "- $R = \\left(1+0.01\\right)^{1/12}$"
   ]
  },
  {
   "attachments": {},
   "cell_type": "markdown",
   "metadata": {},
   "source": [
    "**Question 2:** Calculate $H$ if the policy  $\\ell_{t}=\\left(\\frac{(1-\\eta)\\kappa_{t}}{w}\\right)^{\\frac{1}{\\eta}}$ from question 1 is followed. Choose $K$ so the approximation is good enough to not affect your results substantially."
   ]
  },
  {
   "cell_type": "code",
   "execution_count": null,
   "metadata": {},
   "outputs": [],
   "source": [
    "# write your code here "
   ]
  },
  {
   "attachments": {},
   "cell_type": "markdown",
   "metadata": {},
   "source": [
    "Next, we consider policies on the form:\n",
    "\n",
    "$$\n",
    "\n",
    "\\ell_{t}=\\begin{cases}\n",
    "\\ell_t^{\\ast}  & \\text{if }\\left|\\ell_{t-1}-\\ell_t^{\\ast} \\right|>\\Delta\\\\\n",
    "\\ell_{t-1} & \\text{else }\n",
    "\\end{cases}\n",
    "\\\\\n",
    "\\text{where}\\,\\,\\ell_t^{\\ast} = \\left(\\frac{(1-\\eta)\\kappa_{t}}{w}\\right)^{\\frac{1}{\\eta}} \\\\\n",
    "\n",
    "$$\n",
    "With $\\Delta \\geq 0$ and $\\Delta = 0$ being the previous policy.\n"
   ]
  },
  {
   "attachments": {},
   "cell_type": "markdown",
   "metadata": {},
   "source": [
    "\n",
    "**Question 3:** Calculate $H$ if the policy above was followed with $\\Delta = 0.05$. Does it improve profitability?"
   ]
  },
  {
   "cell_type": "code",
   "execution_count": null,
   "metadata": {},
   "outputs": [],
   "source": [
    "# write your code here"
   ]
  },
  {
   "attachments": {},
   "cell_type": "markdown",
   "metadata": {},
   "source": [
    "**Question 4:** Find the optimal $\\Delta$ maximizing $H$. Illustrate your result."
   ]
  },
  {
   "cell_type": "code",
   "execution_count": null,
   "metadata": {},
   "outputs": [],
   "source": [
    "# write your code here"
   ]
  },
  {
   "attachments": {},
   "cell_type": "markdown",
   "metadata": {},
   "source": [
    "\n",
    "**Question 5:** Suggest an alternative policy you believe might improve profitability. Implement and test your policy.\n",
    "\n"
   ]
  },
  {
   "cell_type": "code",
   "execution_count": null,
   "metadata": {},
   "outputs": [],
   "source": [
    "# write your code here"
   ]
  },
  {
   "attachments": {},
   "cell_type": "markdown",
   "metadata": {},
   "source": [
    "## 3. <a id='toc3_'></a>[Problem 3: Global optimizer with refined multi-start](#toc0_)"
   ]
  },
  {
   "attachments": {},
   "cell_type": "markdown",
   "metadata": {},
   "source": [
    "We consider the Griewank function:\n",
    "\n",
    "$$ f(\\boldsymbol{x}) = \\sum^n_{i=1} \\frac{x^2_i}{4000}-\\prod^n_{i=1}\\cos\\left(\\frac{x_i}{\\sqrt{i}}\\right)+1$$\n",
    "\n",
    "The **global minimum** of this function is $f(0,0) = 0$ (remember: $\\cos(0)=1$).<br>\n",
    "But the function also have a lot of **local minima**."
   ]
  },
  {
   "cell_type": "code",
   "execution_count": null,
   "metadata": {},
   "outputs": [],
   "source": [
    "def griewank(x):\n",
    "    return griewank_(x[0],x[1])\n",
    "    \n",
    "def griewank_(x1,x2):\n",
    "    A = x1**2/4000 + x2**2/4000\n",
    "    B = np.cos(x1/np.sqrt(1))*np.cos(x2/np.sqrt(2))\n",
    "    return A-B+1"
   ]
  },
  {
   "attachments": {},
   "cell_type": "markdown",
   "metadata": {},
   "source": [
    "A **refined global optimizer with multi-start** is:\n",
    "\n",
    "1. Choose *bounds* for $\\mathbf{x}$ and *tolerance* $\\tau > 0$.\n",
    "2. Choose number of *warm-up iterations*, $\\underline{K} > 0$ and *maximum number of iterations*, $K > \\underline{K}$.\n",
    "3. In each iteration for $k \\in \\{0,1,\\dots,K-1\\}$:\n",
    "\n",
    "    A. Draw random $\\mathbf{x}^k$ uniformly within chosen bounds.\n",
    "\n",
    "    B. If $k < \\underline{K}$ go to step E.\n",
    "\n",
    "    C. Calculate $\\chi^k = 0.50\\cdot\\frac{2}{1+\\exp((k-\\underline{K})/100)}$  \n",
    "\n",
    "    D. Set $\\mathbf{x}^{k0} = \\chi^k \\mathbf{x}^k + (1-\\chi^k)\\mathbf{x}^{\\ast} $\n",
    "\n",
    "    E. Run optimizer with $\\mathbf{x}^{k0}$ as initial guess and $\\mathbf{x}^{k\\ast}$ as result.\n",
    "\n",
    "    F. Set $\\mathbf{x}^{\\ast} = \\mathbf{x}^{k\\ast}$ if $k = 0$ or $f(\\mathbf{x}^{k\\ast}) < f(\\mathbf{x}^{\\ast})$\n",
    "\n",
    "    G. If $f(\\mathbf{x}^{\\ast}) < \\tau$ go to step 4.\n",
    "\n",
    "4. Return the result $\\mathbf{x}^{\\ast}$."
   ]
  },
  {
   "attachments": {},
   "cell_type": "markdown",
   "metadata": {},
   "source": [
    "As settings we choose:\n",
    "\n",
    "* $x_1,x_2 \\in  [-600,600]$\n",
    "* $\\tau = 10^{-8}$\n",
    "* $\\underline{K}=10$\n",
    "* $K=1000$\n",
    "\n",
    "The optimizer in Step 3.E is `BFGS` with a tolerance of $\\tau$."
   ]
  },
  {
   "attachments": {},
   "cell_type": "markdown",
   "metadata": {},
   "source": [
    "**Question 1:** Implement the refined global optimizer with multi-start. Illustrate how the effective initial guesses $\\mathbf{x}^{k0}$ vary with the iteration counter $k$."
   ]
  },
  {
   "cell_type": "code",
   "execution_count": null,
   "metadata": {},
   "outputs": [],
   "source": [
    "# write your code here"
   ]
  },
  {
   "attachments": {},
   "cell_type": "markdown",
   "metadata": {},
   "source": [
    "**Question 2:** Is it a better idea to set $\\underline{K} = 100$? Is the convergence faster?"
   ]
  },
  {
   "cell_type": "code",
   "execution_count": null,
   "metadata": {},
   "outputs": [],
   "source": [
    "# write your code here"
   ]
  }
 ],
 "metadata": {
  "kernelspec": {
   "display_name": "base",
   "language": "python",
   "name": "python3"
  },
  "language_info": {
   "codemirror_mode": {
    "name": "ipython",
    "version": 3
   },
   "file_extension": ".py",
   "mimetype": "text/x-python",
   "name": "python",
   "nbconvert_exporter": "python",
   "pygments_lexer": "ipython3",
   "version": "3.9.15"
  },
  "orig_nbformat": 4
 },
 "nbformat": 4,
 "nbformat_minor": 2
}
