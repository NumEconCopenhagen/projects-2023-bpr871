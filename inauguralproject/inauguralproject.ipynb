{
 "cells": [
  {
   "cell_type": "markdown",
   "metadata": {},
   "source": [
    "# Inaugural Project"
   ]
  },
  {
   "attachments": {},
   "cell_type": "markdown",
   "metadata": {},
   "source": [
    "**Group members:** Hjalte Bisgaard, Julie Roesgaard og Sissel Andersen\n",
    "\n",
    "**Date of hand-in:** 19. March 2023 \n",
    "\n",
    "This project is the first of three in the course **Introduction to Programming and Numerical Analysis**. \n",
    "\n",
    "The project treats a household optimization problem and solves in multiple ways. \n",
    "\n",
    "Each question will have a short introduction and conclusion."
   ]
  },
  {
   "cell_type": "markdown",
   "metadata": {},
   "source": [
    "Imports and set magics:"
   ]
  },
  {
   "cell_type": "code",
   "execution_count": 5,
   "metadata": {},
   "outputs": [],
   "source": [
    "# -*- coding: utf-8 -*-\n",
    "%reload_ext autoreload\n",
    "%autoreload 2\n",
    "%matplotlib inline\n",
    "\n",
    "#importing modules\n",
    "import numpy as np\n",
    "from   mpl_toolkits.mplot3d import Axes3D \n",
    "import matplotlib.pyplot as plt \n",
    "import pandas as pd \n",
    "import matplotlib.pyplot as plt\n",
    "\n",
    "# importing our class for the optimization problem\n",
    "from householdoptimization import HouseholdOptimizationClass"
   ]
  },
  {
   "cell_type": "markdown",
   "metadata": {},
   "source": [
    "# Question 1"
   ]
  },
  {
   "cell_type": "markdown",
   "metadata": {},
   "source": [
    "Solving the model discretely using our class and a discrete solving method.\n",
    "\n",
    "**BLOCK 1:** Solves the model for given alpha and sigma parameters. \n",
    "\n",
    "**BLOCK 2:** Plots the result of the model for different alpha and sigma values."
   ]
  },
  {
   "cell_type": "code",
   "execution_count": 13,
   "metadata": {},
   "outputs": [
    {
     "name": "stderr",
     "output_type": "stream",
     "text": [
      "c:\\Users\\Julie\\projects-2023-bpr871\\inauguralproject\\householdoptimization.py:64: RuntimeWarning: divide by zero encountered in power\n",
      "  H = ((1-par.alpha)*HM**((par.sigma-1)/(par.sigma + 1e-8))\n",
      "c:\\Users\\Julie\\projects-2023-bpr871\\inauguralproject\\householdoptimization.py:65: RuntimeWarning: divide by zero encountered in power\n",
      "  + par.alpha*HF**((par.sigma-1)/(par.sigma + 1e-8)))**((par.sigma)/(par.sigma-1 + 1e-8))\n"
     ]
    },
    {
     "name": "stdout",
     "output_type": "stream",
     "text": [
      "[2.0, 4.5, 6.5] [6.5, 4.5, 2.0]\n"
     ]
    },
    {
     "data": {
      "text/plain": [
       "\"#printing\\nprint(HF_sigma_vec, HM_sigma_vec)\\nprint(alphas)\\n\\n#result\\narray = [0, 1, 2]\\nfor i in array:\\n    print(f'The solution when alpha = {alphas[i]:.4f} is (HF, HM) = ({HF_alpha_vec[i]:.4f}, {HM_alpha_vec[i]:.4f})')\\n    print(f'The solution when sigma = {sigmas[i]:.4f} is (HF, HM) = ({HF_sigma_vec[i]:.4f}, {HM_sigma_vec[i]:.4f})')\\n\\n###QUESTION: how do we make latex greek letters in f-string?\\n###QUESTION: how do we avoid these run-time errors?\""
      ]
     },
     "execution_count": 13,
     "metadata": {},
     "output_type": "execute_result"
    }
   ],
   "source": [
    "# code for solving the model (remember documentation and comments)\n",
    "\n",
    "func = HouseholdOptimizationClass()\n",
    "#func.__init__()\n",
    "func.solve_discrete()\n",
    "\n",
    "solution_alpha = []\n",
    "solution_sigma = []\n",
    "\n",
    "HM_alpha_vec = ()\n",
    "HF_alpha_vec = ()\n",
    "HM_sigma_vec = ()\n",
    "HF_sigma_vec = ()\n",
    "alphas = (0.25,0.50,0.75)\n",
    "sigmas = (0.5,1.0,1.5)\n",
    "\n",
    "for alpha in alphas:\n",
    "    func = HouseholdOptimizationClass()\n",
    "    func.par.alpha = alpha\n",
    "    solution_alpha.append(func.solve_discrete())\n",
    "\n",
    "for sigma in sigmas:\n",
    "    func = HouseholdOptimizationClass()\n",
    "    func.par.sigma = sigma\n",
    "    solution_sigma.append(func.solve_discrete())\n",
    "\n",
    "#extracting the solution\n",
    "HF_alpha_vec = [ns.HF for ns in solution_alpha]\n",
    "HM_alpha_vec = [ns.HM for ns in solution_alpha]\n",
    "\n",
    "\n",
    "#printing\n",
    "print(HF_alpha_vec, HM_alpha_vec)\n",
    "\n",
    "HF_sigma_vec = [ns.HF for ns in solution_sigma]\n",
    "HM_sigma_vec = [ns.HM for ns in solution_sigma]\n",
    "\n",
    "\"\"\"#printing\n",
    "print(HF_sigma_vec, HM_sigma_vec)\n",
    "print(alphas)\n",
    "\n",
    "#result\n",
    "array = [0, 1, 2]\n",
    "for i in array:\n",
    "    print(f'The solution when alpha = {alphas[i]:.4f} is (HF, HM) = ({HF_alpha_vec[i]:.4f}, {HM_alpha_vec[i]:.4f})')\n",
    "    print(f'The solution when sigma = {sigmas[i]:.4f} is (HF, HM) = ({HF_sigma_vec[i]:.4f}, {HM_sigma_vec[i]:.4f})')\n",
    "\n",
    "###QUESTION: how do we make latex greek letters in f-string?\n",
    "###QUESTION: how do we avoid these run-time errors?\"\"\"\n",
    "    "
   ]
  },
  {
   "cell_type": "code",
   "execution_count": 15,
   "metadata": {},
   "outputs": [
    {
     "data": {
      "image/png": "[encoded data removed]",
      "text/plain": [
       "<Figure size 640x480 with 2 Axes>"
      ]
     },
     "metadata": {},
     "output_type": "display_data"
    }
   ],
   "source": [
    "plt.rcParams.update({\"axes.grid\":True,\"grid.color\":\"black\",\"grid.alpha\":\"0.25\",\"grid.linestyle\":\"-\"})\n",
    "plt.rcParams.update({'font.size': 11})\n",
    "\n",
    "ratio_alpha = [a/b for a, b in zip(HF_alpha_vec, HM_alpha_vec)]\n",
    "ratio_sigma = [a/b for a, b in zip(HF_sigma_vec, HM_sigma_vec)]\n",
    "\n",
    "def plot_alpha_sigma():\n",
    "    # a. create the figure\n",
    "    fig = plt.figure()\n",
    "\n",
    "    # b. plot for alpha\n",
    "    ax = fig.add_subplot(1,2,1)\n",
    "\n",
    "    ax.plot(alphas,ratio_alpha)\n",
    "\n",
    "    ax.set_title(f'Household hours ratio, HF/HM')\n",
    "    ax.set_xlabel(f'alpha')\n",
    "    ax.set_ylabel(f'HF/HM')\n",
    "\n",
    "    # c. plot for sigma\n",
    "    ax = fig.add_subplot(1,2,2,)\n",
    "\n",
    "    ax.plot(sigmas,ratio_sigma)\n",
    "\n",
    "    ax.set_title(f'Household hours ratio, HF/HM')\n",
    "    ax.set_xlabel(f'sigma')\n",
    "    ax.set_ylabel(f'HF/HM')\n",
    "\n",
    "\n",
    "plot_alpha_sigma()  \n",
    "#print(HM_vec,HF_vec)\n"
   ]
  },
  {
   "cell_type": "markdown",
   "metadata": {},
   "source": [
    "# Question 2"
   ]
  },
  {
   "cell_type": "markdown",
   "metadata": {},
   "source": [
    "We now use our discrete way of solving the model to solve for different wage levels for the female of the household.\n",
    "\n",
    "**BLOCK 1:** Solves the model for given wage levels\n",
    "\n",
    "**BLOCK 2:** Plots the result of the model for different wage levels"
   ]
  },
  {
   "cell_type": "code",
   "execution_count": 22,
   "metadata": {},
   "outputs": [
    {
     "name": "stdout",
     "output_type": "stream",
     "text": [
      "[0.22314355131420976, 0.0, 0.0, -0.11778303565638351, -0.2231435513142097]\n",
      "[-0.22314355 -0.10536052  0.          0.09531018  0.18232156]\n"
     ]
    }
   ],
   "source": [
    "#code for solving the model\n",
    "solution_wage = []\n",
    "\n",
    "HM_wage_vec = ()\n",
    "HF_wage_vec = ()\n",
    "wF = (0.8, 0.9, 1.0, 1.1, 1.2)\n",
    "\n",
    "\n",
    "# b. for loop\n",
    "for wages in wF:\n",
    "    func = HouseholdOptimizationClass()\n",
    "    func.par.wF = wages\n",
    "    solution_wage.append(func.solve_discrete())\n",
    "    \n",
    "#c. extracting results\n",
    "HF_wage_vec = [ns.HF for ns in solution_wage]\n",
    "HM_wage_vec = [ns.HM for ns in solution_wage]\n",
    "\n",
    "ratio_H = [np.log(a/b) for a, b in zip(HF_wage_vec, HM_wage_vec)]\n",
    "ratio_w = np.log(wF)\n",
    "\n",
    "#ratio_wage = np.log[HF_wage_vec/HM_wage_vec]\n",
    "print(ratio_H)\n",
    "print(ratio_w)"
   ]
  },
  {
   "cell_type": "code",
   "execution_count": 25,
   "metadata": {},
   "outputs": [
    {
     "data": {
      "image/png": "[encoded data removed]",
      "text/plain": [
       "<Figure size 640x480 with 1 Axes>"
      ]
     },
     "metadata": {},
     "output_type": "display_data"
    }
   ],
   "source": [
    "#code for plotting the results\n",
    "def plot_wages():\n",
    "    # a. create the figure\n",
    "    fig = plt.figure()\n",
    "\n",
    "    # b. plot\n",
    "    ax = fig.add_subplot(1,1,1)\n",
    "\n",
    "    ax.plot(ratio_H,ratio_w)\n",
    "\n",
    "    ax.set_title(f'Household hours ratio, HF/HM')\n",
    "    ax.set_xlabel(f'wages')\n",
    "    ax.set_ylabel(f'HF/HM')\n",
    "\n",
    "plot_wages()"
   ]
  },
  {
   "cell_type": "markdown",
   "metadata": {},
   "source": [
    "# Question 3"
   ]
  },
  {
   "cell_type": "markdown",
   "metadata": {},
   "source": [
    "Solving the model continuously using the minimize function of optimize in our class.\n",
    "\n",
    "**BLOCK 1:** Solves the model for given wage levels\n",
    "\n",
    "**BLOCK 2:** Plots the result of HF/HM as well as wF/wM against the different values of wF."
   ]
  },
  {
   "cell_type": "code",
   "execution_count": null,
   "metadata": {},
   "outputs": [
    {
     "name": "stdout",
     "output_type": "stream",
     "text": [
      "(4.454021832531091, 4.4540218254339115, 4.454021832531091, 4.4540218254339115)\n"
     ]
    }
   ],
   "source": [
    "# solving the model\n",
    "func = HouseholdOptimizationClass() #resetting the parameters\n",
    "result_cont = func.solve_cont()\n",
    "print(result_cont)\n",
    "\n",
    "\n",
    "#another soultion:\n",
    "#LM, LF, HM, HF = func.solve_cont()\n",
    "#print( LM, LF, HM, HF)\n"
   ]
  },
  {
   "cell_type": "code",
   "execution_count": null,
   "metadata": {},
   "outputs": [],
   "source": [
    "#plotting the results"
   ]
  },
  {
   "attachments": {},
   "cell_type": "markdown",
   "metadata": {},
   "source": [
    "# Question 4"
   ]
  },
  {
   "attachments": {},
   "cell_type": "markdown",
   "metadata": {},
   "source": [
    "Now we find alpha and sigma that targets the parameter estimates of the article. \n",
    "\n",
    "**BLOCK 1:** Solving the model.\n",
    "\n",
    "**BLOCK 2:** Illustrating the results."
   ]
  },
  {
   "attachments": {},
   "cell_type": "markdown",
   "metadata": {},
   "source": [
    "# Question 5"
   ]
  },
  {
   "attachments": {},
   "cell_type": "markdown",
   "metadata": {},
   "source": [
    "Implementing an extension to the model: \n",
    "Can it match the data when alpha = 0.5?"
   ]
  },
  {
   "cell_type": "markdown",
   "metadata": {},
   "source": [
    "ADD ECONOMIC INTERPRETATION"
   ]
  }
 ],
 "metadata": {
  "kernelspec": {
   "display_name": "base",
   "language": "python",
   "name": "python3"
  },
  "language_info": {
   "codemirror_mode": {
    "name": "ipython",
    "version": 3
   },
   "file_extension": ".py",
   "mimetype": "text/x-python",
   "name": "python",
   "nbconvert_exporter": "python",
   "pygments_lexer": "ipython3",
   "version": "3.9.16"
  },
  "toc-autonumbering": true,
  "vscode": {
   "interpreter": {
    "hash": "47ef90cdf3004d3f859f1fb202523c65c07ba7c22eefd261b181f4744e2d0403"
   }
  }
 },
 "nbformat": 4,
 "nbformat_minor": 4
}
